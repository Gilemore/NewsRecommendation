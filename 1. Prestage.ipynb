<<<<<<< HEAD
{
 "cells": [
  {
   "cell_type": "code",
   "execution_count": 2,
   "metadata": {
    "colab": {
     "base_uri": "https://localhost:8080/",
     "height": 122
    },
    "colab_type": "code",
    "executionInfo": {
     "elapsed": 16427,
     "status": "ok",
     "timestamp": 1575660265791,
     "user": {
      "displayName": "Haoxue Li",
      "photoUrl": "",
      "userId": "02132541566044588005"
     },
     "user_tz": 300
    },
    "id": "6JkDajSm5ebS",
    "outputId": "686392dd-5dda-431b-e84c-2985cbcf8e86"
   },
   "outputs": [
    {
     "name": "stdout",
     "output_type": "stream",
     "text": [
      "Go to this URL in a browser: https://accounts.google.com/o/oauth2/auth?client_id=947318989803-6bn6qk8qdgf4n4g3pfee6491hc0brc4i.apps.googleusercontent.com&redirect_uri=urn%3aietf%3awg%3aoauth%3a2.0%3aoob&response_type=code&scope=email%20https%3a%2f%2fwww.googleapis.com%2fauth%2fdocs.test%20https%3a%2f%2fwww.googleapis.com%2fauth%2fdrive%20https%3a%2f%2fwww.googleapis.com%2fauth%2fdrive.photos.readonly%20https%3a%2f%2fwww.googleapis.com%2fauth%2fpeopleapi.readonly\n",
      "\n",
      "Enter your authorization code:\n",
      "··········\n",
      "Mounted at /content/drive\n"
     ]
    }
   ],
   "source": [
    "from google.colab import drive\n",
    "drive.mount('/content/drive')"
   ]
  },
  {
   "cell_type": "markdown",
   "metadata": {
    "colab_type": "text",
    "id": "KsZ6f1qvW7oH"
   },
   "source": [
    "# Import data"
   ]
  },
  {
   "cell_type": "code",
   "execution_count": 2,
   "metadata": {
    "colab": {},
    "colab_type": "code",
    "id": "ehverdISW7oI"
   },
   "outputs": [],
   "source": [
    "import pandas as pd\n",
    "import numpy as np\n",
    "from pprint import pprint\n",
    "import os\n",
    "from tqdm import tqdm"
   ]
  },
  {
   "cell_type": "code",
   "execution_count": 3,
   "metadata": {
    "colab": {},
    "colab_type": "code",
    "id": "gNIl-eJWW7oK"
   },
   "outputs": [],
   "source": [
    "path=\"./data/\"\n",
    "df=pd.read_csv(path+\"20170101.csv\")\n",
    "df=df.drop('Unnamed: 0',1)"
   ]
  },
  {
   "cell_type": "code",
   "execution_count": 4,
   "metadata": {
    "colab": {
     "base_uri": "https://localhost:8080/",
     "height": 119
    },
    "colab_type": "code",
    "executionInfo": {
     "elapsed": 12853,
     "status": "ok",
     "timestamp": 1575662210578,
     "user": {
      "displayName": "Haoxue Li",
      "photoUrl": "",
      "userId": "02132541566044588005"
     },
     "user_tz": 300
    },
    "id": "BhqyHy6jW7oN",
    "outputId": "0d2ff30f-f38a-4c22-8f45-19821d7aac13"
   },
   "outputs": [
    {
     "data": {
      "text/plain": [
       "Index(['profile', 'category1', 'canonicalUrl', 'referrerHostClass',\n",
       "       'sessionStop', 'userId', 'publishtime', 'sessionStart', 'referrerUrl',\n",
       "       'keywords', 'id', 'eventId', 'city', 'title', 'url', 'country',\n",
       "       'region', 'author', 'referrerSearchEngine', 'deviceType', 'time', 'os',\n",
       "       'activeTime'],\n",
       "      dtype='object')"
      ]
     },
     "execution_count": 4,
     "metadata": {},
     "output_type": "execute_result"
    }
   ],
   "source": [
    "df.columns"
   ]
  },
  {
   "cell_type": "markdown",
   "metadata": {
    "colab_type": "text",
    "id": "05ImaTqBW7oS"
   },
   "source": [
    "# Adding Sessions"
   ]
  },
  {
   "cell_type": "code",
   "execution_count": 5,
   "metadata": {
    "colab": {
     "base_uri": "https://localhost:8080/",
     "height": 68
    },
    "colab_type": "code",
    "executionInfo": {
     "elapsed": 3376,
     "status": "ok",
     "timestamp": 1575663911055,
     "user": {
      "displayName": "Haoxue Li",
      "photoUrl": "",
      "userId": "02132541566044588005"
     },
     "user_tz": 300
    },
    "id": "MtvswuaVW7oU",
    "outputId": "68e3ad3d-38dc-403d-efc7-d90d558469ef"
   },
   "outputs": [
    {
     "name": "stdout",
     "output_type": "stream",
     "text": [
      "The number of total events by users is:  1513739\n",
      "The number of sessions is:  518675\n",
      "The number of unique users is:  248892\n"
     ]
    }
   ],
   "source": [
    "t=df.sort_values([\"userId\",\"time\"])\n",
    "\n",
    "# according from the dataset description: There is the threshold when computing the “activeTime”, when it is too short then it won’t be account in original dataset\n",
    "t[\"activeTime\"]=t[\"activeTime\"].fillna(0)\n",
    "\n",
    "# find the sessions with total time more than 0 and less than 45 minutes\n",
    "t[\"sessionNo\"]=t[\"sessionStart\"].cumsum()\n",
    "t[\"activeTotalTime\"]=t.groupby('sessionNo')['activeTime'].transform('sum')\n",
    "print(\"The number of total events by users is: \",len(t))\n",
    "print(\"The number of sessions is: \",max(t[\"sessionNo\"]))\n",
    "print(\"The number of unique users is: \",len(t[\"userId\"].unique()))\n",
    "t[\"sessionNo\"]=t[\"sessionStart\"].cumsum()\n",
    "t=t[t[\"activeTotalTime\"]>0]\n",
    "t=t[t[\"activeTotalTime\"]<=2700]"
   ]
  },
  {
   "cell_type": "code",
   "execution_count": 6,
   "metadata": {
    "colab": {
     "base_uri": "https://localhost:8080/",
     "height": 68
    },
    "colab_type": "code",
    "executionInfo": {
     "elapsed": 1228,
     "status": "ok",
     "timestamp": 1575663934068,
     "user": {
      "displayName": "Haoxue Li",
      "photoUrl": "",
      "userId": "02132541566044588005"
     },
     "user_tz": 300
    },
    "id": "JoZubLtQW7oW",
    "outputId": "7159a9a6-0af8-4e49-9cb6-04a1f0c00764"
   },
   "outputs": [
    {
     "name": "stdout",
     "output_type": "stream",
     "text": [
      "The number of total events by users is:  1245204\n",
      "The number of sessions is:  293529\n",
      "The number of unique users is:  148781\n"
     ]
    }
   ],
   "source": [
    "print(\"The number of total events by users is: \",len(t))\n",
    "print(\"The number of sessions is: \",len(t[\"sessionNo\"].unique()))\n",
    "print(\"The number of unique users is: \",len(t[\"userId\"].unique()))"
   ]
  },
  {
   "cell_type": "code",
   "execution_count": 7,
   "metadata": {
    "colab": {
     "base_uri": "https://localhost:8080/",
     "height": 379
    },
    "colab_type": "code",
    "executionInfo": {
     "elapsed": 1076,
     "status": "ok",
     "timestamp": 1575664069567,
     "user": {
      "displayName": "Haoxue Li",
      "photoUrl": "",
      "userId": "02132541566044588005"
     },
     "user_tz": 300
    },
    "id": "WZ2pwI7iW7oY",
    "outputId": "41385a33-413a-4a68-cd33-2e576f57d85b"
   },
   "outputs": [
    {
     "data": {
      "text/html": [
       "<div>\n",
       "<style scoped>\n",
       "    .dataframe tbody tr th:only-of-type {\n",
       "        vertical-align: middle;\n",
       "    }\n",
       "\n",
       "    .dataframe tbody tr th {\n",
       "        vertical-align: top;\n",
       "    }\n",
       "\n",
       "    .dataframe thead th {\n",
       "        text-align: right;\n",
       "    }\n",
       "</style>\n",
       "<table border=\"1\" class=\"dataframe\">\n",
       "  <thead>\n",
       "    <tr style=\"text-align: right;\">\n",
       "      <th></th>\n",
       "      <th>sessionNo</th>\n",
       "      <th>id</th>\n",
       "      <th>time</th>\n",
       "      <th>sessionStart</th>\n",
       "      <th>sessionStop</th>\n",
       "      <th>activeTime</th>\n",
       "      <th>activeTotalTime</th>\n",
       "    </tr>\n",
       "  </thead>\n",
       "  <tbody>\n",
       "    <tr>\n",
       "      <td>1348419</td>\n",
       "      <td>2</td>\n",
       "      <td>NaN</td>\n",
       "      <td>1483305709</td>\n",
       "      <td>True</td>\n",
       "      <td>False</td>\n",
       "      <td>28.0</td>\n",
       "      <td>81.0</td>\n",
       "    </tr>\n",
       "    <tr>\n",
       "      <td>1349279</td>\n",
       "      <td>2</td>\n",
       "      <td>b28e7c163c39941aa1cbd0b7b3a821576771f893</td>\n",
       "      <td>1483305738</td>\n",
       "      <td>False</td>\n",
       "      <td>False</td>\n",
       "      <td>35.0</td>\n",
       "      <td>81.0</td>\n",
       "    </tr>\n",
       "    <tr>\n",
       "      <td>1350387</td>\n",
       "      <td>2</td>\n",
       "      <td>NaN</td>\n",
       "      <td>1483305778</td>\n",
       "      <td>False</td>\n",
       "      <td>False</td>\n",
       "      <td>6.0</td>\n",
       "      <td>81.0</td>\n",
       "    </tr>\n",
       "    <tr>\n",
       "      <td>1350581</td>\n",
       "      <td>2</td>\n",
       "      <td>4c1af3633d74ba9eb77b2c07c7a8171ba27b10f7</td>\n",
       "      <td>1483305786</td>\n",
       "      <td>False</td>\n",
       "      <td>False</td>\n",
       "      <td>9.0</td>\n",
       "      <td>81.0</td>\n",
       "    </tr>\n",
       "    <tr>\n",
       "      <td>1350878</td>\n",
       "      <td>2</td>\n",
       "      <td>NaN</td>\n",
       "      <td>1483305798</td>\n",
       "      <td>False</td>\n",
       "      <td>False</td>\n",
       "      <td>3.0</td>\n",
       "      <td>81.0</td>\n",
       "    </tr>\n",
       "    <tr>\n",
       "      <td>1350954</td>\n",
       "      <td>2</td>\n",
       "      <td>9d615dd08d92c8e9670fb72b5c78cbc6b52501c4</td>\n",
       "      <td>1483305801</td>\n",
       "      <td>False</td>\n",
       "      <td>False</td>\n",
       "      <td>0.0</td>\n",
       "      <td>81.0</td>\n",
       "    </tr>\n",
       "    <tr>\n",
       "      <td>1351021</td>\n",
       "      <td>2</td>\n",
       "      <td>NaN</td>\n",
       "      <td>1483305804</td>\n",
       "      <td>False</td>\n",
       "      <td>True</td>\n",
       "      <td>0.0</td>\n",
       "      <td>81.0</td>\n",
       "    </tr>\n",
       "    <tr>\n",
       "      <td>326027</td>\n",
       "      <td>4</td>\n",
       "      <td>NaN</td>\n",
       "      <td>1483260167</td>\n",
       "      <td>True</td>\n",
       "      <td>False</td>\n",
       "      <td>86.0</td>\n",
       "      <td>86.0</td>\n",
       "    </tr>\n",
       "    <tr>\n",
       "      <td>328012</td>\n",
       "      <td>4</td>\n",
       "      <td>68d1503c73ad169dcfff48214fd0274c4d612e63</td>\n",
       "      <td>1483260265</td>\n",
       "      <td>False</td>\n",
       "      <td>True</td>\n",
       "      <td>0.0</td>\n",
       "      <td>86.0</td>\n",
       "    </tr>\n",
       "    <tr>\n",
       "      <td>609122</td>\n",
       "      <td>5</td>\n",
       "      <td>NaN</td>\n",
       "      <td>1483271301</td>\n",
       "      <td>True</td>\n",
       "      <td>False</td>\n",
       "      <td>66.0</td>\n",
       "      <td>145.0</td>\n",
       "    </tr>\n",
       "  </tbody>\n",
       "</table>\n",
       "</div>"
      ],
      "text/plain": [
       "         sessionNo                                        id        time  \\\n",
       "1348419          2                                       NaN  1483305709   \n",
       "1349279          2  b28e7c163c39941aa1cbd0b7b3a821576771f893  1483305738   \n",
       "1350387          2                                       NaN  1483305778   \n",
       "1350581          2  4c1af3633d74ba9eb77b2c07c7a8171ba27b10f7  1483305786   \n",
       "1350878          2                                       NaN  1483305798   \n",
       "1350954          2  9d615dd08d92c8e9670fb72b5c78cbc6b52501c4  1483305801   \n",
       "1351021          2                                       NaN  1483305804   \n",
       "326027           4                                       NaN  1483260167   \n",
       "328012           4  68d1503c73ad169dcfff48214fd0274c4d612e63  1483260265   \n",
       "609122           5                                       NaN  1483271301   \n",
       "\n",
       "         sessionStart  sessionStop  activeTime  activeTotalTime  \n",
       "1348419          True        False        28.0             81.0  \n",
       "1349279         False        False        35.0             81.0  \n",
       "1350387         False        False         6.0             81.0  \n",
       "1350581         False        False         9.0             81.0  \n",
       "1350878         False        False         3.0             81.0  \n",
       "1350954         False        False         0.0             81.0  \n",
       "1351021         False         True         0.0             81.0  \n",
       "326027           True        False        86.0             86.0  \n",
       "328012          False         True         0.0             86.0  \n",
       "609122           True        False        66.0            145.0  "
      ]
     },
     "execution_count": 7,
     "metadata": {},
     "output_type": "execute_result"
    }
   ],
   "source": [
    "t[[\"sessionNo\",\"id\",\"time\",\"sessionStart\",\"sessionStop\",\"activeTime\",\"activeTotalTime\"]].iloc[0:10]"
   ]
  },
  {
   "cell_type": "code",
   "execution_count": 14,
   "metadata": {
    "colab": {
     "base_uri": "https://localhost:8080/",
     "height": 666
    },
    "colab_type": "code",
    "executionInfo": {
     "elapsed": 1037,
     "status": "ok",
     "timestamp": 1575660377021,
     "user": {
      "displayName": "Haoxue Li",
      "photoUrl": "",
      "userId": "02132541566044588005"
     },
     "user_tz": 300
    },
    "id": "72f60k598lRj",
    "outputId": "66403a58-656f-41f3-e6de-c97575a347bf"
   },
   "outputs": [
    {
     "name": "stdout",
     "output_type": "stream",
     "text": [
      "The length of t is:  374487\n"
     ]
    },
    {
     "data": {
      "text/html": [
       "<div>\n",
       "<style scoped>\n",
       "    .dataframe tbody tr th:only-of-type {\n",
       "        vertical-align: middle;\n",
       "    }\n",
       "\n",
       "    .dataframe tbody tr th {\n",
       "        vertical-align: top;\n",
       "    }\n",
       "\n",
       "    .dataframe thead th {\n",
       "        text-align: right;\n",
       "    }\n",
       "</style>\n",
       "<table border=\"1\" class=\"dataframe\">\n",
       "  <thead>\n",
       "    <tr style=\"text-align: right;\">\n",
       "      <th></th>\n",
       "      <th>profile</th>\n",
       "      <th>category1</th>\n",
       "      <th>canonicalUrl</th>\n",
       "      <th>referrerHostClass</th>\n",
       "      <th>sessionStop</th>\n",
       "      <th>userId</th>\n",
       "      <th>publishtime</th>\n",
       "      <th>sessionStart</th>\n",
       "      <th>referrerUrl</th>\n",
       "      <th>keywords</th>\n",
       "      <th>...</th>\n",
       "      <th>region</th>\n",
       "      <th>author</th>\n",
       "      <th>referrerSearchEngine</th>\n",
       "      <th>deviceType</th>\n",
       "      <th>time</th>\n",
       "      <th>os</th>\n",
       "      <th>activeTime</th>\n",
       "      <th>sessionNo</th>\n",
       "      <th>activeTotalTime</th>\n",
       "      <th>articleId</th>\n",
       "    </tr>\n",
       "  </thead>\n",
       "  <tbody>\n",
       "    <tr>\n",
       "      <td>1349279</td>\n",
       "      <td>[{'item': '0', 'groups': [{'count': 1, 'group'...</td>\n",
       "      <td>100sport|vintersport</td>\n",
       "      <td>http://www.adressa.no/100Sport/vintersport/lan...</td>\n",
       "      <td>search</td>\n",
       "      <td>False</td>\n",
       "      <td>cx:0049d95b7c3a854f8c1edb0a13197e71:1zqfs7vo2seov</td>\n",
       "      <td>2017-01-01T14:33:41.000Z</td>\n",
       "      <td>False</td>\n",
       "      <td>http://adressa.no</td>\n",
       "      <td>Petter Northug,Thomas Northug</td>\n",
       "      <td>...</td>\n",
       "      <td>oslo</td>\n",
       "      <td>ole k. sagbakken</td>\n",
       "      <td>Internal</td>\n",
       "      <td>Desktop</td>\n",
       "      <td>1483305738</td>\n",
       "      <td>Windows</td>\n",
       "      <td>35.0</td>\n",
       "      <td>2</td>\n",
       "      <td>81.0</td>\n",
       "      <td>0</td>\n",
       "    </tr>\n",
       "    <tr>\n",
       "      <td>1350581</td>\n",
       "      <td>[{'item': '0', 'groups': [{'count': 1, 'group'...</td>\n",
       "      <td>NaN</td>\n",
       "      <td>http://www.adressa.no/nyheter/moreromsdal/2017...</td>\n",
       "      <td>search</td>\n",
       "      <td>False</td>\n",
       "      <td>cx:0049d95b7c3a854f8c1edb0a13197e71:1zqfs7vo2seov</td>\n",
       "      <td>NaN</td>\n",
       "      <td>False</td>\n",
       "      <td>http://adressa.no</td>\n",
       "      <td>NaN</td>\n",
       "      <td>...</td>\n",
       "      <td>oslo</td>\n",
       "      <td>NaN</td>\n",
       "      <td>Internal</td>\n",
       "      <td>Desktop</td>\n",
       "      <td>1483305786</td>\n",
       "      <td>Windows</td>\n",
       "      <td>9.0</td>\n",
       "      <td>2</td>\n",
       "      <td>81.0</td>\n",
       "      <td>1</td>\n",
       "    </tr>\n",
       "    <tr>\n",
       "      <td>1350954</td>\n",
       "      <td>[{'item': '0', 'groups': [{'count': 1, 'group'...</td>\n",
       "      <td>NaN</td>\n",
       "      <td>http://www.adressa.no/nyheter/nordtrondelag/20...</td>\n",
       "      <td>internal</td>\n",
       "      <td>False</td>\n",
       "      <td>cx:0049d95b7c3a854f8c1edb0a13197e71:1zqfs7vo2seov</td>\n",
       "      <td>NaN</td>\n",
       "      <td>False</td>\n",
       "      <td>http://adressa.no</td>\n",
       "      <td>NaN</td>\n",
       "      <td>...</td>\n",
       "      <td>oslo</td>\n",
       "      <td>NaN</td>\n",
       "      <td>NaN</td>\n",
       "      <td>Desktop</td>\n",
       "      <td>1483305801</td>\n",
       "      <td>Windows</td>\n",
       "      <td>0.0</td>\n",
       "      <td>2</td>\n",
       "      <td>81.0</td>\n",
       "      <td>2</td>\n",
       "    </tr>\n",
       "    <tr>\n",
       "      <td>328012</td>\n",
       "      <td>[{'item': '0', 'groups': [{'count': 1, 'group'...</td>\n",
       "      <td>100sport|vintersport</td>\n",
       "      <td>http://www.adressa.no/100Sport/vintersport/lan...</td>\n",
       "      <td>search</td>\n",
       "      <td>True</td>\n",
       "      <td>cx:02b046b0db0d02e5dadcdb2d4c3d7e53:24ik5bzhn1crw</td>\n",
       "      <td>2016-12-31T18:06:21.000Z</td>\n",
       "      <td>False</td>\n",
       "      <td>http://adressa.no</td>\n",
       "      <td>Tour de ski,Langrenn</td>\n",
       "      <td>...</td>\n",
       "      <td>hedmark</td>\n",
       "      <td>birger løfaldli</td>\n",
       "      <td>Internal</td>\n",
       "      <td>Desktop</td>\n",
       "      <td>1483260265</td>\n",
       "      <td>Windows</td>\n",
       "      <td>0.0</td>\n",
       "      <td>4</td>\n",
       "      <td>86.0</td>\n",
       "      <td>3</td>\n",
       "    </tr>\n",
       "    <tr>\n",
       "      <td>613313</td>\n",
       "      <td>[{'item': '0', 'groups': [{'count': 1, 'group'...</td>\n",
       "      <td>nyheter|trondheim</td>\n",
       "      <td>http://www.adressa.no/nyheter/trondheim/2016/1...</td>\n",
       "      <td>internal</td>\n",
       "      <td>True</td>\n",
       "      <td>cx:02b046b0db0d02e5dadcdb2d4c3d7e53:24ik5bzhn1crw</td>\n",
       "      <td>2016-11-01T09:18:19.000Z</td>\n",
       "      <td>False</td>\n",
       "      <td>http://adressa.no/nyheter/trondheim/2016/12/31...</td>\n",
       "      <td>utenriks,innenriks,trondheim,E6,midtbyen,bybra...</td>\n",
       "      <td>...</td>\n",
       "      <td>hedmark</td>\n",
       "      <td>martin andersen</td>\n",
       "      <td>NaN</td>\n",
       "      <td>Desktop</td>\n",
       "      <td>1483271454</td>\n",
       "      <td>Windows</td>\n",
       "      <td>0.0</td>\n",
       "      <td>5</td>\n",
       "      <td>145.0</td>\n",
       "      <td>4</td>\n",
       "    </tr>\n",
       "  </tbody>\n",
       "</table>\n",
       "<p>5 rows × 26 columns</p>\n",
       "</div>"
      ],
      "text/plain": [
       "                                                   profile  \\\n",
       "1349279  [{'item': '0', 'groups': [{'count': 1, 'group'...   \n",
       "1350581  [{'item': '0', 'groups': [{'count': 1, 'group'...   \n",
       "1350954  [{'item': '0', 'groups': [{'count': 1, 'group'...   \n",
       "328012   [{'item': '0', 'groups': [{'count': 1, 'group'...   \n",
       "613313   [{'item': '0', 'groups': [{'count': 1, 'group'...   \n",
       "\n",
       "                    category1  \\\n",
       "1349279  100sport|vintersport   \n",
       "1350581                   NaN   \n",
       "1350954                   NaN   \n",
       "328012   100sport|vintersport   \n",
       "613313      nyheter|trondheim   \n",
       "\n",
       "                                              canonicalUrl referrerHostClass  \\\n",
       "1349279  http://www.adressa.no/100Sport/vintersport/lan...            search   \n",
       "1350581  http://www.adressa.no/nyheter/moreromsdal/2017...            search   \n",
       "1350954  http://www.adressa.no/nyheter/nordtrondelag/20...          internal   \n",
       "328012   http://www.adressa.no/100Sport/vintersport/lan...            search   \n",
       "613313   http://www.adressa.no/nyheter/trondheim/2016/1...          internal   \n",
       "\n",
       "         sessionStop                                             userId  \\\n",
       "1349279        False  cx:0049d95b7c3a854f8c1edb0a13197e71:1zqfs7vo2seov   \n",
       "1350581        False  cx:0049d95b7c3a854f8c1edb0a13197e71:1zqfs7vo2seov   \n",
       "1350954        False  cx:0049d95b7c3a854f8c1edb0a13197e71:1zqfs7vo2seov   \n",
       "328012          True  cx:02b046b0db0d02e5dadcdb2d4c3d7e53:24ik5bzhn1crw   \n",
       "613313          True  cx:02b046b0db0d02e5dadcdb2d4c3d7e53:24ik5bzhn1crw   \n",
       "\n",
       "                      publishtime  sessionStart  \\\n",
       "1349279  2017-01-01T14:33:41.000Z         False   \n",
       "1350581                       NaN         False   \n",
       "1350954                       NaN         False   \n",
       "328012   2016-12-31T18:06:21.000Z         False   \n",
       "613313   2016-11-01T09:18:19.000Z         False   \n",
       "\n",
       "                                               referrerUrl  \\\n",
       "1349279                                  http://adressa.no   \n",
       "1350581                                  http://adressa.no   \n",
       "1350954                                  http://adressa.no   \n",
       "328012                                   http://adressa.no   \n",
       "613313   http://adressa.no/nyheter/trondheim/2016/12/31...   \n",
       "\n",
       "                                                  keywords  ...   region  \\\n",
       "1349279                      Petter Northug,Thomas Northug  ...     oslo   \n",
       "1350581                                                NaN  ...     oslo   \n",
       "1350954                                                NaN  ...     oslo   \n",
       "328012                                Tour de ski,Langrenn  ...  hedmark   \n",
       "613313   utenriks,innenriks,trondheim,E6,midtbyen,bybra...  ...  hedmark   \n",
       "\n",
       "                   author referrerSearchEngine deviceType        time  \\\n",
       "1349279  ole k. sagbakken             Internal    Desktop  1483305738   \n",
       "1350581               NaN             Internal    Desktop  1483305786   \n",
       "1350954               NaN                  NaN    Desktop  1483305801   \n",
       "328012    birger løfaldli             Internal    Desktop  1483260265   \n",
       "613313    martin andersen                  NaN    Desktop  1483271454   \n",
       "\n",
       "              os activeTime sessionNo activeTotalTime articleId  \n",
       "1349279  Windows       35.0         2            81.0         0  \n",
       "1350581  Windows        9.0         2            81.0         1  \n",
       "1350954  Windows        0.0         2            81.0         2  \n",
       "328012   Windows        0.0         4            86.0         3  \n",
       "613313   Windows        0.0         5           145.0         4  \n",
       "\n",
       "[5 rows x 26 columns]"
      ]
     },
     "execution_count": 14,
     "metadata": {},
     "output_type": "execute_result"
    }
   ],
   "source": [
    "t.dropna(subset=[\"id\"],inplace=True)\n",
    "articles=t[\"id\"].unique()\n",
    "d={}\n",
    "for i in range(len(articles)):\n",
    "    article=articles[i]\n",
    "    d[article]=i\n",
    "t[\"articleId\"]=t[\"id\"].map(d)\n",
    "print(\"The length of t is: \",len(t))\n",
    "t.head()"
   ]
  },
  {
   "cell_type": "code",
   "execution_count": 15,
   "metadata": {
    "colab": {},
    "colab_type": "code",
    "id": "p4kE6Jdn8XY5"
   },
   "outputs": [],
   "source": [
    "t.to_csv(path+\"20170101_prestage.csv\")"
   ]
  },
  {
   "cell_type": "code",
   "execution_count": null,
   "metadata": {},
   "outputs": [],
   "source": []
  }
 ],
 "metadata": {
  "accelerator": "GPU",
  "colab": {
   "collapsed_sections": [],
   "name": "1. Prestage.ipynb",
   "provenance": []
  },
  "kernelspec": {
   "display_name": "Python 3",
   "language": "python",
   "name": "python3"
  },
  "language_info": {
   "codemirror_mode": {
    "name": "ipython",
    "version": 3
   },
   "file_extension": ".py",
   "mimetype": "text/x-python",
   "name": "python",
   "nbconvert_exporter": "python",
   "pygments_lexer": "ipython3",
   "version": "3.7.4"
  }
 },
 "nbformat": 4,
 "nbformat_minor": 4
}
=======
{"nbformat":4,"nbformat_minor":0,"metadata":{"colab":{"name":"1. Prestage.ipynb","provenance":[],"collapsed_sections":[]},"kernelspec":{"name":"python3","display_name":"Python 3"},"language_info":{"codemirror_mode":{"name":"ipython","version":3},"file_extension":".py","mimetype":"text/x-python","name":"python","nbconvert_exporter":"python","pygments_lexer":"ipython3","version":"3.7.3"},"accelerator":"GPU"},"cells":[{"cell_type":"code","metadata":{"id":"6JkDajSm5ebS","colab_type":"code","outputId":"686392dd-5dda-431b-e84c-2985cbcf8e86","executionInfo":{"status":"ok","timestamp":1575660265791,"user_tz":300,"elapsed":16427,"user":{"displayName":"Haoxue Li","photoUrl":"","userId":"02132541566044588005"}},"colab":{"base_uri":"https://localhost:8080/","height":122}},"source":["from google.colab import drive\n","drive.mount('/content/drive')"],"execution_count":2,"outputs":[{"output_type":"stream","text":["Go to this URL in a browser: https://accounts.google.com/o/oauth2/auth?client_id=947318989803-6bn6qk8qdgf4n4g3pfee6491hc0brc4i.apps.googleusercontent.com&redirect_uri=urn%3aietf%3awg%3aoauth%3a2.0%3aoob&response_type=code&scope=email%20https%3a%2f%2fwww.googleapis.com%2fauth%2fdocs.test%20https%3a%2f%2fwww.googleapis.com%2fauth%2fdrive%20https%3a%2f%2fwww.googleapis.com%2fauth%2fdrive.photos.readonly%20https%3a%2f%2fwww.googleapis.com%2fauth%2fpeopleapi.readonly\n","\n","Enter your authorization code:\n","··········\n","Mounted at /content/drive\n"],"name":"stdout"}]},{"cell_type":"markdown","metadata":{"colab_type":"text","id":"KsZ6f1qvW7oH"},"source":["# Import data"]},{"cell_type":"code","metadata":{"colab_type":"code","id":"ehverdISW7oI","colab":{}},"source":["import pandas as pd\n","import numpy as np\n","from pprint import pprint\n","import os\n","from tqdm import tqdm"],"execution_count":0,"outputs":[]},{"cell_type":"code","metadata":{"colab_type":"code","id":"gNIl-eJWW7oK","colab":{}},"source":["path=\"drive/My Drive/1001_project_Total/Data/\"\n","df=pd.read_csv(path+\"20170101.csv\")\n","df=df.drop('Unnamed: 0',1)"],"execution_count":0,"outputs":[]},{"cell_type":"code","metadata":{"colab_type":"code","id":"BhqyHy6jW7oN","outputId":"0d2ff30f-f38a-4c22-8f45-19821d7aac13","executionInfo":{"status":"ok","timestamp":1575662210578,"user_tz":300,"elapsed":12853,"user":{"displayName":"Haoxue Li","photoUrl":"","userId":"02132541566044588005"}},"colab":{"base_uri":"https://localhost:8080/","height":119}},"source":["df.columns"],"execution_count":16,"outputs":[{"output_type":"execute_result","data":{"text/plain":["Index(['profile', 'category1', 'canonicalUrl', 'referrerHostClass',\n","       'sessionStop', 'userId', 'publishtime', 'sessionStart', 'referrerUrl',\n","       'keywords', 'id', 'eventId', 'city', 'title', 'url', 'country',\n","       'region', 'author', 'referrerSearchEngine', 'deviceType', 'time', 'os',\n","       'activeTime'],\n","      dtype='object')"]},"metadata":{"tags":[]},"execution_count":16}]},{"cell_type":"code","metadata":{"id":"rzFsEDvvyNPK","colab_type":"code","colab":{"base_uri":"https://localhost:8080/","height":34},"outputId":"fb623068-bee0-4494-8bce-81fc856eaf5b","executionInfo":{"status":"ok","timestamp":1575662493410,"user_tz":300,"elapsed":1107,"user":{"displayName":"Haoxue Li","photoUrl":"","userId":"02132541566044588005"}}},"source":["len(df[\"category1\n","\"].unique())"],"execution_count":22,"outputs":[{"output_type":"execute_result","data":{"text/plain":["77"]},"metadata":{"tags":[]},"execution_count":22}]},{"cell_type":"markdown","metadata":{"colab_type":"text","id":"05ImaTqBW7oS"},"source":["# Adding Sessions"]},{"cell_type":"code","metadata":{"colab_type":"code","id":"MtvswuaVW7oU","colab":{"base_uri":"https://localhost:8080/","height":68},"outputId":"68e3ad3d-38dc-403d-efc7-d90d558469ef","executionInfo":{"status":"ok","timestamp":1575663911055,"user_tz":300,"elapsed":3376,"user":{"displayName":"Haoxue Li","photoUrl":"","userId":"02132541566044588005"}}},"source":["t=df.sort_values([\"id\",\"time\"])\n","\n","# according from the dataset description: There is the threshold when computing the “activeTime”, when it is too short then it won’t be account in original dataset\n","t[\"activeTime\"]=t[\"activeTime\"].fillna(0)\n","\n","# find the sessions with total time more than 0 and less than 45 minutes\n","t[\"sessionNo\"]=t[\"sessionStart\"].cumsum()\n","t[\"activeTotalTime\"]=t.groupby('sessionNo')['activeTime'].transform('sum')\n","print(\"The number of total events by users is: \",len(t))\n","print(\"The number of sessions is: \",max(t[\"sessionNo\"]))\n","print(\"The number of unique users is: \",len(t[\"userId\"].unique()))\n","t[\"sessionNo\"]=t[\"sessionStart\"].cumsum()\n","t=t[t[\"activeTotalTime\"]>0]\n","t=t[t[\"activeTotalTime\"]<=2700]"],"execution_count":26,"outputs":[{"output_type":"stream","text":["The number of total events by users is:  1513739\n","The number of sessions is:  518675\n","The number of unique users is:  248892\n"],"name":"stdout"}]},{"cell_type":"code","metadata":{"colab_type":"code","id":"JoZubLtQW7oW","outputId":"7159a9a6-0af8-4e49-9cb6-04a1f0c00764","executionInfo":{"status":"ok","timestamp":1575663934068,"user_tz":300,"elapsed":1228,"user":{"displayName":"Haoxue Li","photoUrl":"","userId":"02132541566044588005"}},"colab":{"base_uri":"https://localhost:8080/","height":68}},"source":["print(\"The number of total events by users is: \",len(t))\n","print(\"The number of sessions is: \",len(t[\"sessionNo\"].unique()))\n","print(\"The number of unique users is: \",len(t[\"userId\"].unique()))"],"execution_count":28,"outputs":[{"output_type":"stream","text":["The number of total events by users is:  1264266\n","The number of sessions is:  378103\n","The number of unique users is:  199076\n"],"name":"stdout"}]},{"cell_type":"code","metadata":{"colab_type":"code","id":"WZ2pwI7iW7oY","outputId":"41385a33-413a-4a68-cd33-2e576f57d85b","executionInfo":{"status":"ok","timestamp":1575664069567,"user_tz":300,"elapsed":1076,"user":{"displayName":"Haoxue Li","photoUrl":"","userId":"02132541566044588005"}},"colab":{"base_uri":"https://localhost:8080/","height":379}},"source":["t[[\"sessionNo\",\"id\",\"time\",\"sessionStart\",\"sessionStop\",\"activeTime\",\"activeTotalTime\"]].iloc[0:10]"],"execution_count":29,"outputs":[{"output_type":"execute_result","data":{"text/html":["<div>\n","<style scoped>\n","    .dataframe tbody tr th:only-of-type {\n","        vertical-align: middle;\n","    }\n","\n","    .dataframe tbody tr th {\n","        vertical-align: top;\n","    }\n","\n","    .dataframe thead th {\n","        text-align: right;\n","    }\n","</style>\n","<table border=\"1\" class=\"dataframe\">\n","  <thead>\n","    <tr style=\"text-align: right;\">\n","      <th></th>\n","      <th>sessionNo</th>\n","      <th>id</th>\n","      <th>time</th>\n","      <th>sessionStart</th>\n","      <th>sessionStop</th>\n","      <th>activeTime</th>\n","      <th>activeTotalTime</th>\n","    </tr>\n","  </thead>\n","  <tbody>\n","    <tr>\n","      <th>1014858</th>\n","      <td>2</td>\n","      <td>000dd1bf05d3e8bfcf581f8f95dde7b8f27f5af2</td>\n","      <td>1483291167</td>\n","      <td>True</td>\n","      <td>False</td>\n","      <td>13.0</td>\n","      <td>13.0</td>\n","    </tr>\n","    <tr>\n","      <th>1179225</th>\n","      <td>7</td>\n","      <td>0075258a2dfdf69a01411985daed9d7b021672f1</td>\n","      <td>1483299359</td>\n","      <td>True</td>\n","      <td>True</td>\n","      <td>0.0</td>\n","      <td>25.0</td>\n","    </tr>\n","    <tr>\n","      <th>1126879</th>\n","      <td>7</td>\n","      <td>0076aaa81a84345caf73bede3ce4e6f5875b56d6</td>\n","      <td>1483296990</td>\n","      <td>False</td>\n","      <td>False</td>\n","      <td>25.0</td>\n","      <td>25.0</td>\n","    </tr>\n","    <tr>\n","      <th>1130392</th>\n","      <td>7</td>\n","      <td>0076aaa81a84345caf73bede3ce4e6f5875b56d6</td>\n","      <td>1483297146</td>\n","      <td>False</td>\n","      <td>True</td>\n","      <td>0.0</td>\n","      <td>25.0</td>\n","    </tr>\n","    <tr>\n","      <th>1081924</th>\n","      <td>12</td>\n","      <td>00905cfb7b640ff5211758d002d4b66e50a2984c</td>\n","      <td>1483294633</td>\n","      <td>True</td>\n","      <td>True</td>\n","      <td>0.0</td>\n","      <td>21.0</td>\n","    </tr>\n","    <tr>\n","      <th>1114717</th>\n","      <td>12</td>\n","      <td>00af22160c2e9148a8731899d978649ff3ccb8f6</td>\n","      <td>1483296382</td>\n","      <td>False</td>\n","      <td>False</td>\n","      <td>21.0</td>\n","      <td>21.0</td>\n","    </tr>\n","    <tr>\n","      <th>1301278</th>\n","      <td>13</td>\n","      <td>00bc12362d794e7897ed764ebdc741284beb37bf</td>\n","      <td>1483303999</td>\n","      <td>True</td>\n","      <td>True</td>\n","      <td>0.0</td>\n","      <td>66.0</td>\n","    </tr>\n","    <tr>\n","      <th>1437134</th>\n","      <td>13</td>\n","      <td>00bc12362d794e7897ed764ebdc741284beb37bf</td>\n","      <td>1483308471</td>\n","      <td>False</td>\n","      <td>False</td>\n","      <td>66.0</td>\n","      <td>66.0</td>\n","    </tr>\n","    <tr>\n","      <th>693175</th>\n","      <td>13</td>\n","      <td>00cd49326858ce3ead4bae2c832d26e571872749</td>\n","      <td>1483275044</td>\n","      <td>False</td>\n","      <td>False</td>\n","      <td>0.0</td>\n","      <td>66.0</td>\n","    </tr>\n","    <tr>\n","      <th>693654</th>\n","      <td>13</td>\n","      <td>00cd49326858ce3ead4bae2c832d26e571872749</td>\n","      <td>1483275066</td>\n","      <td>False</td>\n","      <td>False</td>\n","      <td>0.0</td>\n","      <td>66.0</td>\n","    </tr>\n","  </tbody>\n","</table>\n","</div>"],"text/plain":["         sessionNo  ... activeTotalTime\n","1014858          2  ...            13.0\n","1179225          7  ...            25.0\n","1126879          7  ...            25.0\n","1130392          7  ...            25.0\n","1081924         12  ...            21.0\n","1114717         12  ...            21.0\n","1301278         13  ...            66.0\n","1437134         13  ...            66.0\n","693175          13  ...            66.0\n","693654          13  ...            66.0\n","\n","[10 rows x 7 columns]"]},"metadata":{"tags":[]},"execution_count":29}]},{"cell_type":"code","metadata":{"id":"72f60k598lRj","colab_type":"code","outputId":"66403a58-656f-41f3-e6de-c97575a347bf","executionInfo":{"status":"ok","timestamp":1575660377021,"user_tz":300,"elapsed":1037,"user":{"displayName":"Haoxue Li","photoUrl":"","userId":"02132541566044588005"}},"colab":{"base_uri":"https://localhost:8080/","height":666}},"source":["articles=t[\"id\"].unique()\n","d={}\n","for i in range(len(articles)):\n","    article=articles[i]\n","    d[article]=i\n","t[\"articleId\"]=t[\"id\"].map(d)\n","print(\"The length of t is: \",len(t))\n","t.head()"],"execution_count":11,"outputs":[{"output_type":"stream","text":["The length of t is:  1264266\n"],"name":"stdout"},{"output_type":"execute_result","data":{"text/html":["<div>\n","<style scoped>\n","    .dataframe tbody tr th:only-of-type {\n","        vertical-align: middle;\n","    }\n","\n","    .dataframe tbody tr th {\n","        vertical-align: top;\n","    }\n","\n","    .dataframe thead th {\n","        text-align: right;\n","    }\n","</style>\n","<table border=\"1\" class=\"dataframe\">\n","  <thead>\n","    <tr style=\"text-align: right;\">\n","      <th></th>\n","      <th>profile</th>\n","      <th>category1</th>\n","      <th>canonicalUrl</th>\n","      <th>referrerHostClass</th>\n","      <th>sessionStop</th>\n","      <th>userId</th>\n","      <th>publishtime</th>\n","      <th>sessionStart</th>\n","      <th>referrerUrl</th>\n","      <th>keywords</th>\n","      <th>id</th>\n","      <th>eventId</th>\n","      <th>city</th>\n","      <th>title</th>\n","      <th>url</th>\n","      <th>country</th>\n","      <th>region</th>\n","      <th>author</th>\n","      <th>referrerSearchEngine</th>\n","      <th>deviceType</th>\n","      <th>time</th>\n","      <th>os</th>\n","      <th>activeTime</th>\n","      <th>sessionNo</th>\n","      <th>activeTotalTime</th>\n","      <th>articleId</th>\n","    </tr>\n","  </thead>\n","  <tbody>\n","    <tr>\n","      <th>1014858</th>\n","      <td>[{'item': '0', 'groups': [{'count': 1, 'group'...</td>\n","      <td>NaN</td>\n","      <td>http://www.adressa.no/forbruker/article1827939...</td>\n","      <td>search</td>\n","      <td>False</td>\n","      <td>cx:2riybj66fbna7d3wuenvszltq:20ihq0a49l3xl</td>\n","      <td>2012-05-24T17:57:46.000Z</td>\n","      <td>True</td>\n","      <td>http://google.no</td>\n","      <td>nyheter,trondheim,ukeadressa,eadressa,skatteli...</td>\n","      <td>000dd1bf05d3e8bfcf581f8f95dde7b8f27f5af2</td>\n","      <td>393048540</td>\n","      <td>trondheim</td>\n","      <td>Bruk Instagram til å sende oss bildene</td>\n","      <td>http://adressa.no/forbruker/article1827939.ece</td>\n","      <td>no</td>\n","      <td>sor-trondelag</td>\n","      <td>yngve bergli</td>\n","      <td>Google</td>\n","      <td>Mobile</td>\n","      <td>1483291167</td>\n","      <td>iPhone OS</td>\n","      <td>13.0</td>\n","      <td>1</td>\n","      <td>13.0</td>\n","      <td>0</td>\n","    </tr>\n","    <tr>\n","      <th>1179225</th>\n","      <td>[{'item': '0', 'groups': [{'count': 1, 'group'...</td>\n","      <td>NaN</td>\n","      <td>http://www.adressa.no/kultur/article11367883.ece</td>\n","      <td>search</td>\n","      <td>True</td>\n","      <td>cx:1q3fiidlreq0516tc5glqpi4ms:n1qgh59trqqi</td>\n","      <td>2015-07-30T14:15:32.000Z</td>\n","      <td>True</td>\n","      <td>http://google.no</td>\n","      <td>anmeldelser,det skjer,film,musikk,tv,museum,sc...</td>\n","      <td>0075258a2dfdf69a01411985daed9d7b021672f1</td>\n","      <td>30998606</td>\n","      <td>ski</td>\n","      <td>Her blir Paul-Ottar overrasket på 50-årsdagen</td>\n","      <td>http://adressa.no/kultur/article11367883.ece</td>\n","      <td>no</td>\n","      <td>akershus</td>\n","      <td>geir tønset</td>\n","      <td>Google</td>\n","      <td>Mobile</td>\n","      <td>1483299359</td>\n","      <td>iPhone OS</td>\n","      <td>0.0</td>\n","      <td>2</td>\n","      <td>25.0</td>\n","      <td>1</td>\n","    </tr>\n","    <tr>\n","      <th>1126879</th>\n","      <td>[{'item': '0', 'groups': [{'count': 1, 'group'...</td>\n","      <td>NaN</td>\n","      <td>http://www.adressa.no/vaeret/article10986427.ece</td>\n","      <td>internal</td>\n","      <td>False</td>\n","      <td>cx:2mc1hmvfd2jy3vrksqst72om2:tzu89xjs87e4</td>\n","      <td>NaN</td>\n","      <td>False</td>\n","      <td>http://adressa.no/vaeret/article10997682.ece</td>\n","      <td>NaN</td>\n","      <td>0076aaa81a84345caf73bede3ce4e6f5875b56d6</td>\n","      <td>1136968678</td>\n","      <td>sande</td>\n","      <td>Stengt inne i kjølig luft av jetstrømmen</td>\n","      <td>http://adressa.no/vaeret/article10986427.ece</td>\n","      <td>no</td>\n","      <td>vestfold</td>\n","      <td>NaN</td>\n","      <td>NaN</td>\n","      <td>Tablet</td>\n","      <td>1483296990</td>\n","      <td>iPhone OS</td>\n","      <td>25.0</td>\n","      <td>2</td>\n","      <td>25.0</td>\n","      <td>2</td>\n","    </tr>\n","    <tr>\n","      <th>1130392</th>\n","      <td>[{'item': '0', 'groups': [{'count': 1, 'group'...</td>\n","      <td>NaN</td>\n","      <td>http://www.adressa.no/vaeret/article10986427.ece</td>\n","      <td>internal</td>\n","      <td>True</td>\n","      <td>cx:2mc1hmvfd2jy3vrksqst72om2:tzu89xjs87e4</td>\n","      <td>NaN</td>\n","      <td>False</td>\n","      <td>http://adressa.no/vaeret/article10997682.ece</td>\n","      <td>NaN</td>\n","      <td>0076aaa81a84345caf73bede3ce4e6f5875b56d6</td>\n","      <td>804552954</td>\n","      <td>sande</td>\n","      <td>Stengt inne i kjølig luft av jetstrømmen</td>\n","      <td>http://adressa.no/vaeret/article10986427.ece</td>\n","      <td>no</td>\n","      <td>vestfold</td>\n","      <td>NaN</td>\n","      <td>NaN</td>\n","      <td>Tablet</td>\n","      <td>1483297146</td>\n","      <td>iPhone OS</td>\n","      <td>0.0</td>\n","      <td>2</td>\n","      <td>25.0</td>\n","      <td>2</td>\n","    </tr>\n","    <tr>\n","      <th>1081924</th>\n","      <td>[{'item': '0', 'groups': [{'count': 1, 'group'...</td>\n","      <td>NaN</td>\n","      <td>http://www.adressa.no/kultur/2016/12/15/%c3%98...</td>\n","      <td>search</td>\n","      <td>True</td>\n","      <td>cx:2f26eami94xio2zhm874z8od1f:3qdjlrsq10h9b</td>\n","      <td>2016-12-15T14:20:27.000Z</td>\n","      <td>True</td>\n","      <td>http://google.no/search</td>\n","      <td>anmeldelser,det skjer,film,musikk,tv,museum,sc...</td>\n","      <td>00905cfb7b640ff5211758d002d4b66e50a2984c</td>\n","      <td>767945697</td>\n","      <td>oslo</td>\n","      <td>Øremerket NRK-avgift skal være teknologinøytral</td>\n","      <td>http://adressa.no/kultur/2016/12/15/%c3%98reme...</td>\n","      <td>no</td>\n","      <td>oslo</td>\n","      <td>ntb</td>\n","      <td>Google</td>\n","      <td>Mobile</td>\n","      <td>1483294633</td>\n","      <td>Android</td>\n","      <td>0.0</td>\n","      <td>3</td>\n","      <td>21.0</td>\n","      <td>3</td>\n","    </tr>\n","  </tbody>\n","</table>\n","</div>"],"text/plain":["                                                   profile  ... articleId\n","1014858  [{'item': '0', 'groups': [{'count': 1, 'group'...  ...         0\n","1179225  [{'item': '0', 'groups': [{'count': 1, 'group'...  ...         1\n","1126879  [{'item': '0', 'groups': [{'count': 1, 'group'...  ...         2\n","1130392  [{'item': '0', 'groups': [{'count': 1, 'group'...  ...         2\n","1081924  [{'item': '0', 'groups': [{'count': 1, 'group'...  ...         3\n","\n","[5 rows x 26 columns]"]},"metadata":{"tags":[]},"execution_count":11}]},{"cell_type":"code","metadata":{"id":"p4kE6Jdn8XY5","colab_type":"code","colab":{}},"source":["t.to_csv(path+\"20170101_prestage.csv\")"],"execution_count":0,"outputs":[]}]}
>>>>>>> 46f0531f7d36e1e9b8f4e1e2dadd8f730e84b367
