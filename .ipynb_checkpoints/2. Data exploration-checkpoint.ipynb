{
 "cells": [
  {
   "cell_type": "code",
   "execution_count": null,
   "metadata": {
    "colab": {
     "base_uri": "https://localhost:8080/",
     "height": 124
    },
    "colab_type": "code",
    "executionInfo": {
     "elapsed": 26139,
     "status": "ok",
     "timestamp": 1575755594202,
     "user": {
      "displayName": "Gaomin Wu",
      "photoUrl": "",
      "userId": "05585133387136783154"
     },
     "user_tz": 300
    },
    "id": "FAOl6HOx1pEz",
    "outputId": "9834aa8b-2f91-41e1-8ab5-03afa536c761"
   },
   "outputs": [
    {
     "name": "stdout",
     "output_type": "stream",
     "text": [
      "Go to this URL in a browser: https://accounts.google.com/o/oauth2/auth?client_id=947318989803-6bn6qk8qdgf4n4g3pfee6491hc0brc4i.apps.googleusercontent.com&redirect_uri=urn%3aietf%3awg%3aoauth%3a2.0%3aoob&response_type=code&scope=email%20https%3a%2f%2fwww.googleapis.com%2fauth%2fdocs.test%20https%3a%2f%2fwww.googleapis.com%2fauth%2fdrive%20https%3a%2f%2fwww.googleapis.com%2fauth%2fdrive.photos.readonly%20https%3a%2f%2fwww.googleapis.com%2fauth%2fpeopleapi.readonly\n",
      "\n",
      "Enter your authorization code:\n",
      "··········\n",
      "Mounted at /content/drive\n"
     ]
    }
   ],
   "source": [
    "from google.colab import drive\n",
    "drive.mount('/content/drive')"
   ]
  },
  {
   "cell_type": "markdown",
   "metadata": {
    "colab_type": "text",
    "id": "S785XjQQ1HQb"
   },
   "source": [
    "# Import"
   ]
  },
  {
   "cell_type": "code",
   "execution_count": 33,
   "metadata": {
    "colab": {},
    "colab_type": "code",
    "id": "YVCI7K3k1HQd"
   },
   "outputs": [],
   "source": [
    "import pandas as pd\n",
    "import numpy as np\n",
    "from pprint import pprint\n",
    "import os\n",
    "from tqdm import tqdm\n",
    "from sklearn.model_selection import train_test_split\n",
    "from sklearn.metrics.pairwise import cosine_similarity\n",
    "import time\n",
    "from _operator import itemgetter\n",
    "from math import sqrt\n",
    "import random \n",
    "import time\n",
    "import matplotlib.pyplot as plt\n",
    "%matplotlib inline"
   ]
  },
  {
   "cell_type": "code",
   "execution_count": 34,
   "metadata": {
    "colab": {},
    "colab_type": "code",
    "id": "MOb992AK1HQh"
   },
   "outputs": [],
   "source": [
    "df1=pd.read_csv(\"./data/20170101_prestage.csv\")"
   ]
  },
  {
   "cell_type": "code",
   "execution_count": 35,
   "metadata": {
    "colab": {
     "base_uri": "https://localhost:8080/",
     "height": 139
    },
    "colab_type": "code",
    "executionInfo": {
     "elapsed": 10847,
     "status": "ok",
     "timestamp": 1575759603365,
     "user": {
      "displayName": "Haoxue Li",
      "photoUrl": "",
      "userId": "02132541566044588005"
     },
     "user_tz": 300
    },
    "id": "T21VgitQ1HQk",
    "outputId": "384e14ec-fbe8-4bda-83eb-e037b38f95df"
   },
   "outputs": [
    {
     "data": {
      "text/plain": [
       "Index(['profile', 'category1', 'canonicalUrl', 'referrerHostClass',\n",
       "       'sessionStop', 'userId', 'publishtime', 'sessionStart', 'referrerUrl',\n",
       "       'keywords', 'id', 'eventId', 'city', 'title', 'url', 'country',\n",
       "       'region', 'author', 'referrerSearchEngine', 'deviceType', 'time', 'os',\n",
       "       'activeTime', 'sessionNo', 'activeTotalTime', 'articleId'],\n",
       "      dtype='object')"
      ]
     },
     "execution_count": 35,
     "metadata": {},
     "output_type": "execute_result"
    }
   ],
   "source": [
    "df=df1.drop(\"Unnamed: 0\",1)\n",
    "df.columns"
   ]
  },
  {
   "cell_type": "markdown",
   "metadata": {
    "colab_type": "text",
    "id": "DcZcMltY1HQo"
   },
   "source": [
    "# Choose Variables"
   ]
  },
  {
   "cell_type": "code",
   "execution_count": 36,
   "metadata": {
    "colab": {
     "base_uri": "https://localhost:8080/",
     "height": 156
    },
    "colab_type": "code",
    "executionInfo": {
     "elapsed": 681,
     "status": "ok",
     "timestamp": 1575760268067,
     "user": {
      "displayName": "Haoxue Li",
      "photoUrl": "",
      "userId": "02132541566044588005"
     },
     "user_tz": 300
    },
    "id": "L13mwxrJ1HQp",
    "outputId": "54e3677a-22aa-4126-9443-1749b1834eaf"
   },
   "outputs": [
    {
     "data": {
      "text/plain": [
       "Index(['profile', 'category1', 'canonicalUrl', 'referrerHostClass',\n",
       "       'sessionStop', 'userId', 'publishtime', 'sessionStart', 'referrerUrl',\n",
       "       'keywords', 'id', 'eventId', 'city', 'title', 'url', 'country',\n",
       "       'region', 'author', 'referrerSearchEngine', 'deviceType', 'time', 'os',\n",
       "       'activeTime', 'sessionNo', 'activeTotalTime', 'articleId'],\n",
       "      dtype='object')"
      ]
     },
     "execution_count": 36,
     "metadata": {},
     "output_type": "execute_result"
    }
   ],
   "source": [
    "articles=df[\"id\"].unique()\n",
    "d={}\n",
    "for i in range(len(articles)):\n",
    "    article=articles[i]\n",
    "    d[article]=i\n",
    "df[\"articleId\"]=df[\"id\"].map(d)\n",
    "df.columns"
   ]
  },
  {
   "cell_type": "code",
   "execution_count": 37,
   "metadata": {
    "colab": {
     "base_uri": "https://localhost:8080/",
     "height": 221
    },
    "colab_type": "code",
    "executionInfo": {
     "elapsed": 1002,
     "status": "ok",
     "timestamp": 1575760269167,
     "user": {
      "displayName": "Haoxue Li",
      "photoUrl": "",
      "userId": "02132541566044588005"
     },
     "user_tz": 300
    },
    "id": "Uwg9RFxk1HQt",
    "outputId": "e1aea53b-d61c-4e82-a446-0d6dd742cf5e"
   },
   "outputs": [
    {
     "name": "stdout",
     "output_type": "stream",
     "text": [
      "The length of data with article as itemid:  374487\n"
     ]
    },
    {
     "data": {
      "text/html": [
       "<div>\n",
       "<style scoped>\n",
       "    .dataframe tbody tr th:only-of-type {\n",
       "        vertical-align: middle;\n",
       "    }\n",
       "\n",
       "    .dataframe tbody tr th {\n",
       "        vertical-align: top;\n",
       "    }\n",
       "\n",
       "    .dataframe thead th {\n",
       "        text-align: right;\n",
       "    }\n",
       "</style>\n",
       "<table border=\"1\" class=\"dataframe\">\n",
       "  <thead>\n",
       "    <tr style=\"text-align: right;\">\n",
       "      <th></th>\n",
       "      <th>session_key</th>\n",
       "      <th>item_key</th>\n",
       "      <th>time_key</th>\n",
       "      <th>city</th>\n",
       "      <th>region</th>\n",
       "      <th>deviceType</th>\n",
       "    </tr>\n",
       "  </thead>\n",
       "  <tbody>\n",
       "    <tr>\n",
       "      <td>0</td>\n",
       "      <td>2</td>\n",
       "      <td>0</td>\n",
       "      <td>1483305738</td>\n",
       "      <td>oslo</td>\n",
       "      <td>oslo</td>\n",
       "      <td>Desktop</td>\n",
       "    </tr>\n",
       "    <tr>\n",
       "      <td>1</td>\n",
       "      <td>2</td>\n",
       "      <td>1</td>\n",
       "      <td>1483305786</td>\n",
       "      <td>oslo</td>\n",
       "      <td>oslo</td>\n",
       "      <td>Desktop</td>\n",
       "    </tr>\n",
       "    <tr>\n",
       "      <td>2</td>\n",
       "      <td>2</td>\n",
       "      <td>2</td>\n",
       "      <td>1483305801</td>\n",
       "      <td>oslo</td>\n",
       "      <td>oslo</td>\n",
       "      <td>Desktop</td>\n",
       "    </tr>\n",
       "    <tr>\n",
       "      <td>3</td>\n",
       "      <td>4</td>\n",
       "      <td>3</td>\n",
       "      <td>1483260265</td>\n",
       "      <td>brumunddal</td>\n",
       "      <td>hedmark</td>\n",
       "      <td>Desktop</td>\n",
       "    </tr>\n",
       "    <tr>\n",
       "      <td>4</td>\n",
       "      <td>5</td>\n",
       "      <td>4</td>\n",
       "      <td>1483271454</td>\n",
       "      <td>brumunddal</td>\n",
       "      <td>hedmark</td>\n",
       "      <td>Desktop</td>\n",
       "    </tr>\n",
       "  </tbody>\n",
       "</table>\n",
       "</div>"
      ],
      "text/plain": [
       "   session_key  item_key    time_key        city   region deviceType\n",
       "0            2         0  1483305738        oslo     oslo    Desktop\n",
       "1            2         1  1483305786        oslo     oslo    Desktop\n",
       "2            2         2  1483305801        oslo     oslo    Desktop\n",
       "3            4         3  1483260265  brumunddal  hedmark    Desktop\n",
       "4            5         4  1483271454  brumunddal  hedmark    Desktop"
      ]
     },
     "execution_count": 37,
     "metadata": {},
     "output_type": "execute_result"
    }
   ],
   "source": [
    "#data=df[[\"sessionNo\",\"category_num\",\"time\"]].rename(columns={\"sessionNo\":\"session_key\",\"category_num\": \"item_key\", \"time\":\"time_key\"})\n",
    "data_1=df[[\"sessionNo\",\"articleId\",\"time\",\"city\",\"region\",\"deviceType\"]].rename(columns={\"sessionNo\":\"session_key\",\"articleId\": \"item_key\", \"time\":\"time_key\"})\n",
    "print(\"The length of data with article as itemid: \",len(data_1))\n",
    "data_1.head()"
   ]
  },
  {
   "cell_type": "code",
   "execution_count": 38,
   "metadata": {
    "colab": {},
    "colab_type": "code",
    "id": "P7YRQQJUp_u6"
   },
   "outputs": [],
   "source": [
    "categories=df[\"category1\"].unique()\n",
    "d={}\n",
    "for i in range(len(categories)):\n",
    "    category=categories[i]\n",
    "    d[category]=i\n",
    "df[\"categoryId\"]=df[\"category1\"].map(d)"
   ]
  },
  {
   "cell_type": "code",
   "execution_count": 39,
   "metadata": {
    "colab": {
     "base_uri": "https://localhost:8080/",
     "height": 221
    },
    "colab_type": "code",
    "executionInfo": {
     "elapsed": 2022,
     "status": "ok",
     "timestamp": 1575760210992,
     "user": {
      "displayName": "Haoxue Li",
      "photoUrl": "",
      "userId": "02132541566044588005"
     },
     "user_tz": 300
    },
    "id": "TBFIBMpaqJoQ",
    "outputId": "49abf88c-04da-42d7-f372-09e1d870ddc5"
   },
   "outputs": [
    {
     "name": "stdout",
     "output_type": "stream",
     "text": [
      "The length of data with category as itemid:  374487\n"
     ]
    },
    {
     "data": {
      "text/html": [
       "<div>\n",
       "<style scoped>\n",
       "    .dataframe tbody tr th:only-of-type {\n",
       "        vertical-align: middle;\n",
       "    }\n",
       "\n",
       "    .dataframe tbody tr th {\n",
       "        vertical-align: top;\n",
       "    }\n",
       "\n",
       "    .dataframe thead th {\n",
       "        text-align: right;\n",
       "    }\n",
       "</style>\n",
       "<table border=\"1\" class=\"dataframe\">\n",
       "  <thead>\n",
       "    <tr style=\"text-align: right;\">\n",
       "      <th></th>\n",
       "      <th>session_key</th>\n",
       "      <th>item_key</th>\n",
       "      <th>time_key</th>\n",
       "      <th>city</th>\n",
       "      <th>region</th>\n",
       "      <th>deviceType</th>\n",
       "    </tr>\n",
       "  </thead>\n",
       "  <tbody>\n",
       "    <tr>\n",
       "      <td>0</td>\n",
       "      <td>2</td>\n",
       "      <td>0</td>\n",
       "      <td>1483305738</td>\n",
       "      <td>oslo</td>\n",
       "      <td>oslo</td>\n",
       "      <td>Desktop</td>\n",
       "    </tr>\n",
       "    <tr>\n",
       "      <td>1</td>\n",
       "      <td>2</td>\n",
       "      <td>1</td>\n",
       "      <td>1483305786</td>\n",
       "      <td>oslo</td>\n",
       "      <td>oslo</td>\n",
       "      <td>Desktop</td>\n",
       "    </tr>\n",
       "    <tr>\n",
       "      <td>2</td>\n",
       "      <td>2</td>\n",
       "      <td>1</td>\n",
       "      <td>1483305801</td>\n",
       "      <td>oslo</td>\n",
       "      <td>oslo</td>\n",
       "      <td>Desktop</td>\n",
       "    </tr>\n",
       "    <tr>\n",
       "      <td>3</td>\n",
       "      <td>4</td>\n",
       "      <td>0</td>\n",
       "      <td>1483260265</td>\n",
       "      <td>brumunddal</td>\n",
       "      <td>hedmark</td>\n",
       "      <td>Desktop</td>\n",
       "    </tr>\n",
       "    <tr>\n",
       "      <td>4</td>\n",
       "      <td>5</td>\n",
       "      <td>2</td>\n",
       "      <td>1483271454</td>\n",
       "      <td>brumunddal</td>\n",
       "      <td>hedmark</td>\n",
       "      <td>Desktop</td>\n",
       "    </tr>\n",
       "  </tbody>\n",
       "</table>\n",
       "</div>"
      ],
      "text/plain": [
       "   session_key  item_key    time_key        city   region deviceType\n",
       "0            2         0  1483305738        oslo     oslo    Desktop\n",
       "1            2         1  1483305786        oslo     oslo    Desktop\n",
       "2            2         1  1483305801        oslo     oslo    Desktop\n",
       "3            4         0  1483260265  brumunddal  hedmark    Desktop\n",
       "4            5         2  1483271454  brumunddal  hedmark    Desktop"
      ]
     },
     "execution_count": 39,
     "metadata": {},
     "output_type": "execute_result"
    }
   ],
   "source": [
    "#data=df[[\"sessionNo\",\"category_num\",\"time\"]].rename(columns={\"sessionNo\":\"session_key\",\"category_num\": \"item_key\", \"time\":\"time_key\"})\n",
    "data_2=df[[\"sessionNo\",\"categoryId\",\"time\",\"city\",\"region\",\"deviceType\"]].rename(columns={\"sessionNo\":\"session_key\",\"categoryId\": \"item_key\", \"time\":\"time_key\"})\n",
    "print(\"The length of data with category as itemid: \",len(data_2))\n",
    "data_2.head()"
   ]
  },
  {
   "cell_type": "markdown",
   "metadata": {
    "colab_type": "text",
    "id": "OM1dBZqf1HQx"
   },
   "source": [
    "## DeviceType"
   ]
  },
  {
   "cell_type": "code",
   "execution_count": 40,
   "metadata": {
    "colab": {
     "base_uri": "https://localhost:8080/",
     "height": 265
    },
    "colab_type": "code",
    "executionInfo": {
     "elapsed": 1240,
     "status": "ok",
     "timestamp": 1575593412777,
     "user": {
      "displayName": "Haoxue Li",
      "photoUrl": "",
      "userId": "02132541566044588005"
     },
     "user_tz": 300
    },
    "id": "Swi7z9gC1HQx",
    "outputId": "bd6d9f5b-b836-4874-e582-f5de28ac460b"
   },
   "outputs": [
    {
     "data": {
      "image/png": "[encoded data removed]",
      "text/plain": [
       "<Figure size 432x288 with 1 Axes>"
      ]
     },
     "metadata": {},
     "output_type": "display_data"
    }
   ],
   "source": [
    "import matplotlib.pyplot as plt\n",
    "%matplotlib inline\n",
    "plt.style.use(\"ggplot\")\n",
    "fig=plt.hist(data_1[\"deviceType\"])"
   ]
  },
  {
   "cell_type": "code",
   "execution_count": 41,
   "metadata": {
    "colab": {
     "base_uri": "https://localhost:8080/",
     "height": 204
    },
    "colab_type": "code",
    "executionInfo": {
     "elapsed": 5289,
     "status": "ok",
     "timestamp": 1575593419220,
     "user": {
      "displayName": "Haoxue Li",
      "photoUrl": "",
      "userId": "02132541566044588005"
     },
     "user_tz": 300
    },
    "id": "j6bi8nS81HQ1",
    "outputId": "e147e451-d218-432e-c49e-e08918c02e5c"
   },
   "outputs": [
    {
     "data": {
      "text/html": [
       "<div>\n",
       "<style scoped>\n",
       "    .dataframe tbody tr th:only-of-type {\n",
       "        vertical-align: middle;\n",
       "    }\n",
       "\n",
       "    .dataframe tbody tr th {\n",
       "        vertical-align: top;\n",
       "    }\n",
       "\n",
       "    .dataframe thead th {\n",
       "        text-align: right;\n",
       "    }\n",
       "</style>\n",
       "<table border=\"1\" class=\"dataframe\">\n",
       "  <thead>\n",
       "    <tr style=\"text-align: right;\">\n",
       "      <th></th>\n",
       "      <th>session_key</th>\n",
       "      <th>item_key</th>\n",
       "      <th>time_key</th>\n",
       "      <th>city</th>\n",
       "      <th>region</th>\n",
       "      <th>deviceType</th>\n",
       "      <th>Desktop</th>\n",
       "      <th>Mobile</th>\n",
       "      <th>Tablet</th>\n",
       "    </tr>\n",
       "  </thead>\n",
       "  <tbody>\n",
       "    <tr>\n",
       "      <td>0</td>\n",
       "      <td>2</td>\n",
       "      <td>0</td>\n",
       "      <td>1483305738</td>\n",
       "      <td>oslo</td>\n",
       "      <td>oslo</td>\n",
       "      <td>Desktop</td>\n",
       "      <td>1</td>\n",
       "      <td>0</td>\n",
       "      <td>0</td>\n",
       "    </tr>\n",
       "    <tr>\n",
       "      <td>1</td>\n",
       "      <td>2</td>\n",
       "      <td>1</td>\n",
       "      <td>1483305786</td>\n",
       "      <td>oslo</td>\n",
       "      <td>oslo</td>\n",
       "      <td>Desktop</td>\n",
       "      <td>1</td>\n",
       "      <td>0</td>\n",
       "      <td>0</td>\n",
       "    </tr>\n",
       "    <tr>\n",
       "      <td>2</td>\n",
       "      <td>2</td>\n",
       "      <td>2</td>\n",
       "      <td>1483305801</td>\n",
       "      <td>oslo</td>\n",
       "      <td>oslo</td>\n",
       "      <td>Desktop</td>\n",
       "      <td>1</td>\n",
       "      <td>0</td>\n",
       "      <td>0</td>\n",
       "    </tr>\n",
       "    <tr>\n",
       "      <td>3</td>\n",
       "      <td>4</td>\n",
       "      <td>3</td>\n",
       "      <td>1483260265</td>\n",
       "      <td>brumunddal</td>\n",
       "      <td>hedmark</td>\n",
       "      <td>Desktop</td>\n",
       "      <td>1</td>\n",
       "      <td>0</td>\n",
       "      <td>0</td>\n",
       "    </tr>\n",
       "    <tr>\n",
       "      <td>4</td>\n",
       "      <td>5</td>\n",
       "      <td>4</td>\n",
       "      <td>1483271454</td>\n",
       "      <td>brumunddal</td>\n",
       "      <td>hedmark</td>\n",
       "      <td>Desktop</td>\n",
       "      <td>1</td>\n",
       "      <td>0</td>\n",
       "      <td>0</td>\n",
       "    </tr>\n",
       "  </tbody>\n",
       "</table>\n",
       "</div>"
      ],
      "text/plain": [
       "   session_key  item_key    time_key        city   region deviceType  Desktop  \\\n",
       "0            2         0  1483305738        oslo     oslo    Desktop        1   \n",
       "1            2         1  1483305786        oslo     oslo    Desktop        1   \n",
       "2            2         2  1483305801        oslo     oslo    Desktop        1   \n",
       "3            4         3  1483260265  brumunddal  hedmark    Desktop        1   \n",
       "4            5         4  1483271454  brumunddal  hedmark    Desktop        1   \n",
       "\n",
       "   Mobile  Tablet  \n",
       "0       0       0  \n",
       "1       0       0  \n",
       "2       0       0  \n",
       "3       0       0  \n",
       "4       0       0  "
      ]
     },
     "execution_count": 41,
     "metadata": {},
     "output_type": "execute_result"
    }
   ],
   "source": [
    "t=pd.get_dummies(data_1[\"deviceType\"])\n",
    "device_data=data_1.join(t)\n",
    "device_data.to_csv(\"./data/day_one_article_only_device.csv\")\n",
    "device_data.head()"
   ]
  },
  {
   "cell_type": "code",
   "execution_count": 42,
   "metadata": {
    "colab": {
     "base_uri": "https://localhost:8080/",
     "height": 204
    },
    "colab_type": "code",
    "executionInfo": {
     "elapsed": 4661,
     "status": "ok",
     "timestamp": 1575593423931,
     "user": {
      "displayName": "Haoxue Li",
      "photoUrl": "",
      "userId": "02132541566044588005"
     },
     "user_tz": 300
    },
    "id": "Pz6n943E1HQ8",
    "outputId": "26207bc9-9132-436a-af7c-0d8efb4b3e64"
   },
   "outputs": [
    {
     "data": {
      "text/html": [
       "<div>\n",
       "<style scoped>\n",
       "    .dataframe tbody tr th:only-of-type {\n",
       "        vertical-align: middle;\n",
       "    }\n",
       "\n",
       "    .dataframe tbody tr th {\n",
       "        vertical-align: top;\n",
       "    }\n",
       "\n",
       "    .dataframe thead th {\n",
       "        text-align: right;\n",
       "    }\n",
       "</style>\n",
       "<table border=\"1\" class=\"dataframe\">\n",
       "  <thead>\n",
       "    <tr style=\"text-align: right;\">\n",
       "      <th></th>\n",
       "      <th>session_key</th>\n",
       "      <th>item_key</th>\n",
       "      <th>time_key</th>\n",
       "      <th>city</th>\n",
       "      <th>region</th>\n",
       "      <th>deviceType</th>\n",
       "      <th>Desktop</th>\n",
       "      <th>Mobile</th>\n",
       "      <th>Tablet</th>\n",
       "    </tr>\n",
       "  </thead>\n",
       "  <tbody>\n",
       "    <tr>\n",
       "      <td>0</td>\n",
       "      <td>2</td>\n",
       "      <td>0</td>\n",
       "      <td>1483305738</td>\n",
       "      <td>oslo</td>\n",
       "      <td>oslo</td>\n",
       "      <td>Desktop</td>\n",
       "      <td>1</td>\n",
       "      <td>0</td>\n",
       "      <td>0</td>\n",
       "    </tr>\n",
       "    <tr>\n",
       "      <td>1</td>\n",
       "      <td>2</td>\n",
       "      <td>1</td>\n",
       "      <td>1483305786</td>\n",
       "      <td>oslo</td>\n",
       "      <td>oslo</td>\n",
       "      <td>Desktop</td>\n",
       "      <td>1</td>\n",
       "      <td>0</td>\n",
       "      <td>0</td>\n",
       "    </tr>\n",
       "    <tr>\n",
       "      <td>2</td>\n",
       "      <td>2</td>\n",
       "      <td>1</td>\n",
       "      <td>1483305801</td>\n",
       "      <td>oslo</td>\n",
       "      <td>oslo</td>\n",
       "      <td>Desktop</td>\n",
       "      <td>1</td>\n",
       "      <td>0</td>\n",
       "      <td>0</td>\n",
       "    </tr>\n",
       "    <tr>\n",
       "      <td>3</td>\n",
       "      <td>4</td>\n",
       "      <td>0</td>\n",
       "      <td>1483260265</td>\n",
       "      <td>brumunddal</td>\n",
       "      <td>hedmark</td>\n",
       "      <td>Desktop</td>\n",
       "      <td>1</td>\n",
       "      <td>0</td>\n",
       "      <td>0</td>\n",
       "    </tr>\n",
       "    <tr>\n",
       "      <td>4</td>\n",
       "      <td>5</td>\n",
       "      <td>2</td>\n",
       "      <td>1483271454</td>\n",
       "      <td>brumunddal</td>\n",
       "      <td>hedmark</td>\n",
       "      <td>Desktop</td>\n",
       "      <td>1</td>\n",
       "      <td>0</td>\n",
       "      <td>0</td>\n",
       "    </tr>\n",
       "  </tbody>\n",
       "</table>\n",
       "</div>"
      ],
      "text/plain": [
       "   session_key  item_key    time_key        city   region deviceType  Desktop  \\\n",
       "0            2         0  1483305738        oslo     oslo    Desktop        1   \n",
       "1            2         1  1483305786        oslo     oslo    Desktop        1   \n",
       "2            2         1  1483305801        oslo     oslo    Desktop        1   \n",
       "3            4         0  1483260265  brumunddal  hedmark    Desktop        1   \n",
       "4            5         2  1483271454  brumunddal  hedmark    Desktop        1   \n",
       "\n",
       "   Mobile  Tablet  \n",
       "0       0       0  \n",
       "1       0       0  \n",
       "2       0       0  \n",
       "3       0       0  \n",
       "4       0       0  "
      ]
     },
     "execution_count": 42,
     "metadata": {},
     "output_type": "execute_result"
    }
   ],
   "source": [
    "t=pd.get_dummies(data_2[\"deviceType\"])\n",
    "device_data=data_2.join(t)\n",
    "device_data.to_csv(\"./data/day_one_category_only_device.csv\")\n",
    "device_data.head()"
   ]
  },
  {
   "cell_type": "markdown",
   "metadata": {
    "colab_type": "text",
    "id": "202HqoPn1HRC"
   },
   "source": [
    "## Regions"
   ]
  },
  {
   "cell_type": "code",
   "execution_count": 43,
   "metadata": {
    "colab": {
     "base_uri": "https://localhost:8080/",
     "height": 170
    },
    "colab_type": "code",
    "executionInfo": {
     "elapsed": 367,
     "status": "ok",
     "timestamp": 1575726066094,
     "user": {
      "displayName": "Haoxue Li",
      "photoUrl": "",
      "userId": "02132541566044588005"
     },
     "user_tz": 300
    },
    "id": "529fNh3_A9Xy",
    "outputId": "2411fe9a-85ae-4a11-b614-72999fb6f76a"
   },
   "outputs": [
    {
     "data": {
      "text/plain": [
       "count       496.000000\n",
       "mean        754.616935\n",
       "std       10639.337693\n",
       "min           1.000000\n",
       "25%           2.000000\n",
       "50%           4.000000\n",
       "75%          13.000000\n",
       "max      227906.000000\n",
       "Name: session_key, dtype: float64"
      ]
     },
     "execution_count": 43,
     "metadata": {},
     "output_type": "execute_result"
    }
   ],
   "source": [
    "k=data_1.groupby(\"region\")[\"session_key\"].count()\n",
    "k.describe()"
   ]
  },
  {
   "cell_type": "code",
   "execution_count": 44,
   "metadata": {},
   "outputs": [
    {
     "name": "stdout",
     "output_type": "stream",
     "text": [
      "Requirement already satisfied: geopy in /Users/haoxueli/opt/anaconda3/lib/python3.7/site-packages (1.20.0)\n",
      "Requirement already satisfied: geographiclib<2,>=1.49 in /Users/haoxueli/opt/anaconda3/lib/python3.7/site-packages (from geopy) (1.50)\n"
     ]
    }
   ],
   "source": [
    "!pip install geopy"
   ]
  },
  {
   "cell_type": "code",
   "execution_count": 45,
   "metadata": {
    "colab": {
     "base_uri": "https://localhost:8080/",
     "height": 51
    },
    "colab_type": "code",
    "executionInfo": {
     "elapsed": 516562,
     "status": "ok",
     "timestamp": 1575593938247,
     "user": {
      "displayName": "Haoxue Li",
      "photoUrl": "",
      "userId": "02132541566044588005"
     },
     "user_tz": 300
    },
    "id": "FiSqhUOQ1HRD",
    "outputId": "ba414425-d4ac-41d5-d779-c291c7501fa1"
   },
   "outputs": [
    {
     "name": "stderr",
     "output_type": "stream",
     "text": [
      " 37%|███▋      | 185/497 [01:31<03:02,  1.71it/s]"
     ]
    },
    {
     "name": "stdout",
     "output_type": "stream",
     "text": [
      "111\n"
     ]
    },
    {
     "name": "stderr",
     "output_type": "stream",
     "text": [
      " 39%|███▉      | 196/497 [01:36<02:56,  1.70it/s]"
     ]
    },
    {
     "name": "stdout",
     "output_type": "stream",
     "text": [
      "111\n"
     ]
    },
    {
     "name": "stderr",
     "output_type": "stream",
     "text": [
      " 42%|████▏     | 209/497 [01:42<02:51,  1.67it/s]"
     ]
    },
    {
     "name": "stdout",
     "output_type": "stream",
     "text": [
      "111\n"
     ]
    },
    {
     "name": "stderr",
     "output_type": "stream",
     "text": [
      " 44%|████▍     | 220/497 [01:47<02:43,  1.70it/s]"
     ]
    },
    {
     "name": "stdout",
     "output_type": "stream",
     "text": [
      "111\n"
     ]
    },
    {
     "name": "stderr",
     "output_type": "stream",
     "text": [
      " 47%|████▋     | 233/497 [01:53<02:36,  1.69it/s]"
     ]
    },
    {
     "name": "stdout",
     "output_type": "stream",
     "text": [
      "111\n"
     ]
    },
    {
     "name": "stderr",
     "output_type": "stream",
     "text": [
      " 49%|████▉     | 245/497 [01:58<02:28,  1.70it/s]"
     ]
    },
    {
     "name": "stdout",
     "output_type": "stream",
     "text": [
      "111\n"
     ]
    },
    {
     "name": "stderr",
     "output_type": "stream",
     "text": [
      " 52%|█████▏    | 256/497 [02:03<02:21,  1.70it/s]"
     ]
    },
    {
     "name": "stdout",
     "output_type": "stream",
     "text": [
      "111\n"
     ]
    },
    {
     "name": "stderr",
     "output_type": "stream",
     "text": [
      " 54%|█████▎    | 267/497 [02:08<02:14,  1.71it/s]"
     ]
    },
    {
     "name": "stdout",
     "output_type": "stream",
     "text": [
      "111\n"
     ]
    },
    {
     "name": "stderr",
     "output_type": "stream",
     "text": [
      " 56%|█████▌    | 278/497 [02:13<02:07,  1.72it/s]"
     ]
    },
    {
     "name": "stdout",
     "output_type": "stream",
     "text": [
      "111\n"
     ]
    },
    {
     "name": "stderr",
     "output_type": "stream",
     "text": [
      " 58%|█████▊    | 288/497 [02:18<02:02,  1.71it/s]"
     ]
    },
    {
     "name": "stdout",
     "output_type": "stream",
     "text": [
      "111\n"
     ]
    },
    {
     "name": "stderr",
     "output_type": "stream",
     "text": [
      " 60%|██████    | 299/497 [02:23<01:55,  1.71it/s]"
     ]
    },
    {
     "name": "stdout",
     "output_type": "stream",
     "text": [
      "111\n"
     ]
    },
    {
     "name": "stderr",
     "output_type": "stream",
     "text": [
      " 63%|██████▎   | 311/497 [02:28<01:49,  1.70it/s]"
     ]
    },
    {
     "name": "stdout",
     "output_type": "stream",
     "text": [
      "111\n"
     ]
    },
    {
     "name": "stderr",
     "output_type": "stream",
     "text": [
      " 65%|██████▍   | 321/497 [02:33<01:43,  1.71it/s]"
     ]
    },
    {
     "name": "stdout",
     "output_type": "stream",
     "text": [
      "111\n"
     ]
    },
    {
     "name": "stderr",
     "output_type": "stream",
     "text": [
      " 67%|██████▋   | 332/497 [02:38<01:36,  1.71it/s]"
     ]
    },
    {
     "name": "stdout",
     "output_type": "stream",
     "text": [
      "111\n"
     ]
    },
    {
     "name": "stderr",
     "output_type": "stream",
     "text": [
      " 69%|██████▉   | 342/497 [02:42<01:30,  1.72it/s]"
     ]
    },
    {
     "name": "stdout",
     "output_type": "stream",
     "text": [
      "111\n"
     ]
    },
    {
     "name": "stderr",
     "output_type": "stream",
     "text": [
      " 71%|███████   | 352/497 [02:47<01:24,  1.73it/s]"
     ]
    },
    {
     "name": "stdout",
     "output_type": "stream",
     "text": [
      "111\n"
     ]
    },
    {
     "name": "stderr",
     "output_type": "stream",
     "text": [
      " 73%|███████▎  | 362/497 [02:51<01:18,  1.73it/s]"
     ]
    },
    {
     "name": "stdout",
     "output_type": "stream",
     "text": [
      "111\n"
     ]
    },
    {
     "name": "stderr",
     "output_type": "stream",
     "text": [
      " 75%|███████▍  | 372/497 [02:56<01:12,  1.72it/s]"
     ]
    },
    {
     "name": "stdout",
     "output_type": "stream",
     "text": [
      "111\n"
     ]
    },
    {
     "name": "stderr",
     "output_type": "stream",
     "text": [
      " 77%|███████▋  | 382/497 [03:00<01:06,  1.73it/s]"
     ]
    },
    {
     "name": "stdout",
     "output_type": "stream",
     "text": [
      "111\n"
     ]
    },
    {
     "name": "stderr",
     "output_type": "stream",
     "text": [
      " 79%|███████▉  | 392/497 [03:05<01:01,  1.72it/s]"
     ]
    },
    {
     "name": "stdout",
     "output_type": "stream",
     "text": [
      "111\n"
     ]
    },
    {
     "name": "stderr",
     "output_type": "stream",
     "text": [
      " 81%|████████  | 401/497 [03:09<00:55,  1.73it/s]"
     ]
    },
    {
     "name": "stdout",
     "output_type": "stream",
     "text": [
      "111\n"
     ]
    },
    {
     "name": "stderr",
     "output_type": "stream",
     "text": [
      " 83%|████████▎ | 412/497 [03:14<00:49,  1.72it/s]"
     ]
    },
    {
     "name": "stdout",
     "output_type": "stream",
     "text": [
      "111\n"
     ]
    },
    {
     "name": "stderr",
     "output_type": "stream",
     "text": [
      " 85%|████████▌ | 423/497 [03:19<00:43,  1.70it/s]"
     ]
    },
    {
     "name": "stdout",
     "output_type": "stream",
     "text": [
      "111\n"
     ]
    },
    {
     "name": "stderr",
     "output_type": "stream",
     "text": [
      " 87%|████████▋ | 434/497 [03:24<00:37,  1.69it/s]"
     ]
    },
    {
     "name": "stdout",
     "output_type": "stream",
     "text": [
      "111\n"
     ]
    },
    {
     "name": "stderr",
     "output_type": "stream",
     "text": [
      " 90%|████████▉ | 446/497 [03:29<00:30,  1.69it/s]"
     ]
    },
    {
     "name": "stdout",
     "output_type": "stream",
     "text": [
      "111\n"
     ]
    },
    {
     "name": "stderr",
     "output_type": "stream",
     "text": [
      " 92%|█████████▏| 456/497 [03:34<00:24,  1.70it/s]"
     ]
    },
    {
     "name": "stdout",
     "output_type": "stream",
     "text": [
      "111\n"
     ]
    },
    {
     "name": "stderr",
     "output_type": "stream",
     "text": [
      " 94%|█████████▍| 468/497 [03:39<00:17,  1.70it/s]"
     ]
    },
    {
     "name": "stdout",
     "output_type": "stream",
     "text": [
      "111\n"
     ]
    },
    {
     "name": "stderr",
     "output_type": "stream",
     "text": [
      " 96%|█████████▌| 478/497 [03:44<00:11,  1.72it/s]"
     ]
    },
    {
     "name": "stdout",
     "output_type": "stream",
     "text": [
      "111\n"
     ]
    },
    {
     "name": "stderr",
     "output_type": "stream",
     "text": [
      " 98%|█████████▊| 488/497 [03:48<00:05,  1.72it/s]"
     ]
    },
    {
     "name": "stdout",
     "output_type": "stream",
     "text": [
      "111\n"
     ]
    },
    {
     "name": "stderr",
     "output_type": "stream",
     "text": [
      "100%|██████████| 497/497 [03:52<00:00,  2.14it/s]\n"
     ]
    }
   ],
   "source": [
    "from geopy.geocoders import Nominatim\n",
    "from tqdm import tqdm\n",
    "geolocator = Nominatim(user_agent=\"specify_your_app_name_here\")\n",
    "d={}\n",
    "k=data_1[\"region\"].unique()\n",
    "for i in tqdm(range(len(k))):\n",
    "    try:\n",
    "      location = geolocator.geocode(i)\n",
    "      if not location:\n",
    "          d[k[i]]=(0,0)\n",
    "      else:\n",
    "          d[k[i]]=(location.latitude, location.longitude)\n",
    "    except:\n",
    "      print(111)\n",
    "      d[k[i]]=(0,0)"
   ]
  },
  {
   "cell_type": "code",
   "execution_count": 46,
   "metadata": {
    "colab": {},
    "colab_type": "code",
    "id": "GA-WXI2Gsftu"
   },
   "outputs": [],
   "source": [
    "l=[[],[]]\n",
    "for v,k in zip(d.values(),d.keys()):\n",
    "  if d[k]!=(0,0):\n",
    "    l[0].append(d[k][0])\n",
    "    l[1].append(d[k][1])\n",
    "mean=(sum(l[0])/len(l[0]),sum(l[1])/len(l[1]))\n",
    "for v,k in zip(d.values(),d.keys()):\n",
    "  if d[k]==(0,0):\n",
    "    d[k]=mean"
   ]
  },
  {
   "cell_type": "code",
   "execution_count": 47,
   "metadata": {
    "colab": {
     "base_uri": "https://localhost:8080/",
     "height": 204
    },
    "colab_type": "code",
    "executionInfo": {
     "elapsed": 505210,
     "status": "ok",
     "timestamp": 1575593943063,
     "user": {
      "displayName": "Haoxue Li",
      "photoUrl": "",
      "userId": "02132541566044588005"
     },
     "user_tz": 300
    },
    "id": "AX5wcm6X1HRG",
    "outputId": "0a8c40d4-28e9-4977-9f59-9d7c2db91651"
   },
   "outputs": [
    {
     "data": {
      "text/html": [
       "<div>\n",
       "<style scoped>\n",
       "    .dataframe tbody tr th:only-of-type {\n",
       "        vertical-align: middle;\n",
       "    }\n",
       "\n",
       "    .dataframe tbody tr th {\n",
       "        vertical-align: top;\n",
       "    }\n",
       "\n",
       "    .dataframe thead th {\n",
       "        text-align: right;\n",
       "    }\n",
       "</style>\n",
       "<table border=\"1\" class=\"dataframe\">\n",
       "  <thead>\n",
       "    <tr style=\"text-align: right;\">\n",
       "      <th></th>\n",
       "      <th>session_key</th>\n",
       "      <th>item_key</th>\n",
       "      <th>time_key</th>\n",
       "      <th>city</th>\n",
       "      <th>region</th>\n",
       "      <th>deviceType</th>\n",
       "      <th>lat</th>\n",
       "      <th>long</th>\n",
       "    </tr>\n",
       "  </thead>\n",
       "  <tbody>\n",
       "    <tr>\n",
       "      <td>0</td>\n",
       "      <td>2</td>\n",
       "      <td>0</td>\n",
       "      <td>1483305738</td>\n",
       "      <td>oslo</td>\n",
       "      <td>oslo</td>\n",
       "      <td>Desktop</td>\n",
       "      <td>47.392863</td>\n",
       "      <td>27.703550</td>\n",
       "    </tr>\n",
       "    <tr>\n",
       "      <td>1</td>\n",
       "      <td>2</td>\n",
       "      <td>1</td>\n",
       "      <td>1483305786</td>\n",
       "      <td>oslo</td>\n",
       "      <td>oslo</td>\n",
       "      <td>Desktop</td>\n",
       "      <td>47.392863</td>\n",
       "      <td>27.703550</td>\n",
       "    </tr>\n",
       "    <tr>\n",
       "      <td>2</td>\n",
       "      <td>2</td>\n",
       "      <td>2</td>\n",
       "      <td>1483305801</td>\n",
       "      <td>oslo</td>\n",
       "      <td>oslo</td>\n",
       "      <td>Desktop</td>\n",
       "      <td>47.392863</td>\n",
       "      <td>27.703550</td>\n",
       "    </tr>\n",
       "    <tr>\n",
       "      <td>3</td>\n",
       "      <td>4</td>\n",
       "      <td>3</td>\n",
       "      <td>1483260265</td>\n",
       "      <td>brumunddal</td>\n",
       "      <td>hedmark</td>\n",
       "      <td>Desktop</td>\n",
       "      <td>22.351115</td>\n",
       "      <td>78.667743</td>\n",
       "    </tr>\n",
       "    <tr>\n",
       "      <td>4</td>\n",
       "      <td>5</td>\n",
       "      <td>4</td>\n",
       "      <td>1483271454</td>\n",
       "      <td>brumunddal</td>\n",
       "      <td>hedmark</td>\n",
       "      <td>Desktop</td>\n",
       "      <td>22.351115</td>\n",
       "      <td>78.667743</td>\n",
       "    </tr>\n",
       "  </tbody>\n",
       "</table>\n",
       "</div>"
      ],
      "text/plain": [
       "   session_key  item_key    time_key        city   region deviceType  \\\n",
       "0            2         0  1483305738        oslo     oslo    Desktop   \n",
       "1            2         1  1483305786        oslo     oslo    Desktop   \n",
       "2            2         2  1483305801        oslo     oslo    Desktop   \n",
       "3            4         3  1483260265  brumunddal  hedmark    Desktop   \n",
       "4            5         4  1483271454  brumunddal  hedmark    Desktop   \n",
       "\n",
       "         lat       long  \n",
       "0  47.392863  27.703550  \n",
       "1  47.392863  27.703550  \n",
       "2  47.392863  27.703550  \n",
       "3  22.351115  78.667743  \n",
       "4  22.351115  78.667743  "
      ]
     },
     "execution_count": 47,
     "metadata": {},
     "output_type": "execute_result"
    }
   ],
   "source": [
    "tmp=data_1[\"region\"].map(d)\n",
    "region_data=data_1\n",
    "region_data[\"lat\"]=tmp.apply(lambda x:x[0])\n",
    "region_data[\"long\"]=tmp.apply(lambda x:x[1])\n",
    "region_data.to_csv(\"./data/day_one_article_only_region.csv\")\n",
    "region_data.head()"
   ]
  },
  {
   "cell_type": "code",
   "execution_count": 48,
   "metadata": {
    "colab": {
     "base_uri": "https://localhost:8080/",
     "height": 204
    },
    "colab_type": "code",
    "executionInfo": {
     "elapsed": 508225,
     "status": "ok",
     "timestamp": 1575593947575,
     "user": {
      "displayName": "Haoxue Li",
      "photoUrl": "",
      "userId": "02132541566044588005"
     },
     "user_tz": 300
    },
    "id": "aVvsZpoK1HRU",
    "outputId": "54309242-623a-4b1e-bf64-97438c09cee2"
   },
   "outputs": [
    {
     "data": {
      "text/html": [
       "<div>\n",
       "<style scoped>\n",
       "    .dataframe tbody tr th:only-of-type {\n",
       "        vertical-align: middle;\n",
       "    }\n",
       "\n",
       "    .dataframe tbody tr th {\n",
       "        vertical-align: top;\n",
       "    }\n",
       "\n",
       "    .dataframe thead th {\n",
       "        text-align: right;\n",
       "    }\n",
       "</style>\n",
       "<table border=\"1\" class=\"dataframe\">\n",
       "  <thead>\n",
       "    <tr style=\"text-align: right;\">\n",
       "      <th></th>\n",
       "      <th>session_key</th>\n",
       "      <th>item_key</th>\n",
       "      <th>time_key</th>\n",
       "      <th>city</th>\n",
       "      <th>region</th>\n",
       "      <th>deviceType</th>\n",
       "      <th>lat</th>\n",
       "      <th>long</th>\n",
       "    </tr>\n",
       "  </thead>\n",
       "  <tbody>\n",
       "    <tr>\n",
       "      <td>0</td>\n",
       "      <td>2</td>\n",
       "      <td>0</td>\n",
       "      <td>1483305738</td>\n",
       "      <td>oslo</td>\n",
       "      <td>oslo</td>\n",
       "      <td>Desktop</td>\n",
       "      <td>47.392863</td>\n",
       "      <td>27.703550</td>\n",
       "    </tr>\n",
       "    <tr>\n",
       "      <td>1</td>\n",
       "      <td>2</td>\n",
       "      <td>1</td>\n",
       "      <td>1483305786</td>\n",
       "      <td>oslo</td>\n",
       "      <td>oslo</td>\n",
       "      <td>Desktop</td>\n",
       "      <td>47.392863</td>\n",
       "      <td>27.703550</td>\n",
       "    </tr>\n",
       "    <tr>\n",
       "      <td>2</td>\n",
       "      <td>2</td>\n",
       "      <td>1</td>\n",
       "      <td>1483305801</td>\n",
       "      <td>oslo</td>\n",
       "      <td>oslo</td>\n",
       "      <td>Desktop</td>\n",
       "      <td>47.392863</td>\n",
       "      <td>27.703550</td>\n",
       "    </tr>\n",
       "    <tr>\n",
       "      <td>3</td>\n",
       "      <td>4</td>\n",
       "      <td>0</td>\n",
       "      <td>1483260265</td>\n",
       "      <td>brumunddal</td>\n",
       "      <td>hedmark</td>\n",
       "      <td>Desktop</td>\n",
       "      <td>22.351115</td>\n",
       "      <td>78.667743</td>\n",
       "    </tr>\n",
       "    <tr>\n",
       "      <td>4</td>\n",
       "      <td>5</td>\n",
       "      <td>2</td>\n",
       "      <td>1483271454</td>\n",
       "      <td>brumunddal</td>\n",
       "      <td>hedmark</td>\n",
       "      <td>Desktop</td>\n",
       "      <td>22.351115</td>\n",
       "      <td>78.667743</td>\n",
       "    </tr>\n",
       "  </tbody>\n",
       "</table>\n",
       "</div>"
      ],
      "text/plain": [
       "   session_key  item_key    time_key        city   region deviceType  \\\n",
       "0            2         0  1483305738        oslo     oslo    Desktop   \n",
       "1            2         1  1483305786        oslo     oslo    Desktop   \n",
       "2            2         1  1483305801        oslo     oslo    Desktop   \n",
       "3            4         0  1483260265  brumunddal  hedmark    Desktop   \n",
       "4            5         2  1483271454  brumunddal  hedmark    Desktop   \n",
       "\n",
       "         lat       long  \n",
       "0  47.392863  27.703550  \n",
       "1  47.392863  27.703550  \n",
       "2  47.392863  27.703550  \n",
       "3  22.351115  78.667743  \n",
       "4  22.351115  78.667743  "
      ]
     },
     "execution_count": 48,
     "metadata": {},
     "output_type": "execute_result"
    }
   ],
   "source": [
    "tmp=data_2[\"region\"].map(d)\n",
    "region_data=data_2\n",
    "region_data[\"lat\"]=tmp.apply(lambda x:x[0])\n",
    "region_data[\"long\"]=tmp.apply(lambda x:x[1])\n",
    "region_data.to_csv(\"./data/day_one_category_only_region.csv\")\n",
    "region_data.head()"
   ]
  },
  {
   "cell_type": "markdown",
   "metadata": {
    "colab_type": "text",
    "id": "QJ43p97k4tXj"
   },
   "source": [
    "## Combine"
   ]
  },
  {
   "cell_type": "code",
   "execution_count": 49,
   "metadata": {
    "colab": {
     "base_uri": "https://localhost:8080/",
     "height": 289
    },
    "colab_type": "code",
    "executionInfo": {
     "elapsed": 507066,
     "status": "ok",
     "timestamp": 1575593947811,
     "user": {
      "displayName": "Haoxue Li",
      "photoUrl": "",
      "userId": "02132541566044588005"
     },
     "user_tz": 300
    },
    "id": "0IiRwHwP4uom",
    "outputId": "0a4abc1b-8f22-453a-e991-7d3e633b4fda"
   },
   "outputs": [
    {
     "data": {
      "text/plain": [
       "(   Unnamed: 0  session_key  item_key    time_key        city   region  \\\n",
       " 0           0            2         0  1483305738        oslo     oslo   \n",
       " 1           1            2         1  1483305786        oslo     oslo   \n",
       " 2           2            2         2  1483305801        oslo     oslo   \n",
       " 3           3            4         3  1483260265  brumunddal  hedmark   \n",
       " 4           4            5         4  1483271454  brumunddal  hedmark   \n",
       " \n",
       "   deviceType        lat       long  \n",
       " 0    Desktop  47.392863  27.703550  \n",
       " 1    Desktop  47.392863  27.703550  \n",
       " 2    Desktop  47.392863  27.703550  \n",
       " 3    Desktop  22.351115  78.667743  \n",
       " 4    Desktop  22.351115  78.667743  ,\n",
       "    Unnamed: 0  session_key  item_key    time_key        city   region  \\\n",
       " 0           0            2         0  1483305738        oslo     oslo   \n",
       " 1           1            2         1  1483305786        oslo     oslo   \n",
       " 2           2            2         2  1483305801        oslo     oslo   \n",
       " 3           3            4         3  1483260265  brumunddal  hedmark   \n",
       " 4           4            5         4  1483271454  brumunddal  hedmark   \n",
       " \n",
       "   deviceType  Desktop  Mobile  Tablet  \n",
       " 0    Desktop        1       0       0  \n",
       " 1    Desktop        1       0       0  \n",
       " 2    Desktop        1       0       0  \n",
       " 3    Desktop        1       0       0  \n",
       " 4    Desktop        1       0       0  )"
      ]
     },
     "execution_count": 49,
     "metadata": {},
     "output_type": "execute_result"
    }
   ],
   "source": [
    "region=pd.read_csv(\"./data/day_one_article_only_region.csv\")\n",
    "device=pd.read_csv(\"./data/day_one_article_only_device.csv\")\n",
    "region.head(),device.head()"
   ]
  },
  {
   "cell_type": "code",
   "execution_count": 50,
   "metadata": {
    "colab": {
     "base_uri": "https://localhost:8080/",
     "height": 204
    },
    "colab_type": "code",
    "executionInfo": {
     "elapsed": 512232,
     "status": "ok",
     "timestamp": 1575593954154,
     "user": {
      "displayName": "Haoxue Li",
      "photoUrl": "",
      "userId": "02132541566044588005"
     },
     "user_tz": 300
    },
    "id": "yB1nKdIg61-k",
    "outputId": "a3e6cc68-e558-4846-f8ad-f9239052db3e"
   },
   "outputs": [
    {
     "data": {
      "text/html": [
       "<div>\n",
       "<style scoped>\n",
       "    .dataframe tbody tr th:only-of-type {\n",
       "        vertical-align: middle;\n",
       "    }\n",
       "\n",
       "    .dataframe tbody tr th {\n",
       "        vertical-align: top;\n",
       "    }\n",
       "\n",
       "    .dataframe thead th {\n",
       "        text-align: right;\n",
       "    }\n",
       "</style>\n",
       "<table border=\"1\" class=\"dataframe\">\n",
       "  <thead>\n",
       "    <tr style=\"text-align: right;\">\n",
       "      <th></th>\n",
       "      <th>Unnamed: 0</th>\n",
       "      <th>session_key</th>\n",
       "      <th>item_key</th>\n",
       "      <th>time_key</th>\n",
       "      <th>city</th>\n",
       "      <th>region</th>\n",
       "      <th>deviceType</th>\n",
       "      <th>lat</th>\n",
       "      <th>long</th>\n",
       "      <th>Desktop</th>\n",
       "      <th>Mobile</th>\n",
       "      <th>Tablet</th>\n",
       "    </tr>\n",
       "  </thead>\n",
       "  <tbody>\n",
       "    <tr>\n",
       "      <td>0</td>\n",
       "      <td>0</td>\n",
       "      <td>2</td>\n",
       "      <td>0</td>\n",
       "      <td>1483305738</td>\n",
       "      <td>oslo</td>\n",
       "      <td>oslo</td>\n",
       "      <td>Desktop</td>\n",
       "      <td>47.392863</td>\n",
       "      <td>27.703550</td>\n",
       "      <td>1</td>\n",
       "      <td>0</td>\n",
       "      <td>0</td>\n",
       "    </tr>\n",
       "    <tr>\n",
       "      <td>1</td>\n",
       "      <td>1</td>\n",
       "      <td>2</td>\n",
       "      <td>1</td>\n",
       "      <td>1483305786</td>\n",
       "      <td>oslo</td>\n",
       "      <td>oslo</td>\n",
       "      <td>Desktop</td>\n",
       "      <td>47.392863</td>\n",
       "      <td>27.703550</td>\n",
       "      <td>1</td>\n",
       "      <td>0</td>\n",
       "      <td>0</td>\n",
       "    </tr>\n",
       "    <tr>\n",
       "      <td>2</td>\n",
       "      <td>2</td>\n",
       "      <td>2</td>\n",
       "      <td>2</td>\n",
       "      <td>1483305801</td>\n",
       "      <td>oslo</td>\n",
       "      <td>oslo</td>\n",
       "      <td>Desktop</td>\n",
       "      <td>47.392863</td>\n",
       "      <td>27.703550</td>\n",
       "      <td>1</td>\n",
       "      <td>0</td>\n",
       "      <td>0</td>\n",
       "    </tr>\n",
       "    <tr>\n",
       "      <td>3</td>\n",
       "      <td>3</td>\n",
       "      <td>4</td>\n",
       "      <td>3</td>\n",
       "      <td>1483260265</td>\n",
       "      <td>brumunddal</td>\n",
       "      <td>hedmark</td>\n",
       "      <td>Desktop</td>\n",
       "      <td>22.351115</td>\n",
       "      <td>78.667743</td>\n",
       "      <td>1</td>\n",
       "      <td>0</td>\n",
       "      <td>0</td>\n",
       "    </tr>\n",
       "    <tr>\n",
       "      <td>4</td>\n",
       "      <td>4</td>\n",
       "      <td>5</td>\n",
       "      <td>4</td>\n",
       "      <td>1483271454</td>\n",
       "      <td>brumunddal</td>\n",
       "      <td>hedmark</td>\n",
       "      <td>Desktop</td>\n",
       "      <td>22.351115</td>\n",
       "      <td>78.667743</td>\n",
       "      <td>1</td>\n",
       "      <td>0</td>\n",
       "      <td>0</td>\n",
       "    </tr>\n",
       "  </tbody>\n",
       "</table>\n",
       "</div>"
      ],
      "text/plain": [
       "   Unnamed: 0  session_key  item_key    time_key        city   region  \\\n",
       "0           0            2         0  1483305738        oslo     oslo   \n",
       "1           1            2         1  1483305786        oslo     oslo   \n",
       "2           2            2         2  1483305801        oslo     oslo   \n",
       "3           3            4         3  1483260265  brumunddal  hedmark   \n",
       "4           4            5         4  1483271454  brumunddal  hedmark   \n",
       "\n",
       "  deviceType        lat       long  Desktop  Mobile  Tablet  \n",
       "0    Desktop  47.392863  27.703550        1       0       0  \n",
       "1    Desktop  47.392863  27.703550        1       0       0  \n",
       "2    Desktop  47.392863  27.703550        1       0       0  \n",
       "3    Desktop  22.351115  78.667743        1       0       0  \n",
       "4    Desktop  22.351115  78.667743        1       0       0  "
      ]
     },
     "execution_count": 50,
     "metadata": {},
     "output_type": "execute_result"
    }
   ],
   "source": [
    "device=device[[\"Desktop\",\"Mobile\",\"Tablet\"]]\n",
    "combine=region.join(device)\n",
    "combine.to_csv(\"./data/day_one_article_region_device.csv\")\n",
    "combine.head()"
   ]
  },
  {
   "cell_type": "code",
   "execution_count": 51,
   "metadata": {
    "colab": {
     "base_uri": "https://localhost:8080/",
     "height": 289
    },
    "colab_type": "code",
    "executionInfo": {
     "elapsed": 511655,
     "status": "ok",
     "timestamp": 1575593954839,
     "user": {
      "displayName": "Haoxue Li",
      "photoUrl": "",
      "userId": "02132541566044588005"
     },
     "user_tz": 300
    },
    "id": "v1rnAMBY5S_X",
    "outputId": "71d93db7-f34e-442d-b345-bc4b5e6d5257"
   },
   "outputs": [
    {
     "data": {
      "text/plain": [
       "(   Unnamed: 0  session_key  item_key    time_key        city   region  \\\n",
       " 0           0            2         0  1483305738        oslo     oslo   \n",
       " 1           1            2         1  1483305786        oslo     oslo   \n",
       " 2           2            2         1  1483305801        oslo     oslo   \n",
       " 3           3            4         0  1483260265  brumunddal  hedmark   \n",
       " 4           4            5         2  1483271454  brumunddal  hedmark   \n",
       " \n",
       "   deviceType        lat       long  \n",
       " 0    Desktop  47.392863  27.703550  \n",
       " 1    Desktop  47.392863  27.703550  \n",
       " 2    Desktop  47.392863  27.703550  \n",
       " 3    Desktop  22.351115  78.667743  \n",
       " 4    Desktop  22.351115  78.667743  ,\n",
       "    Unnamed: 0  session_key  item_key    time_key        city   region  \\\n",
       " 0           0            2         0  1483305738        oslo     oslo   \n",
       " 1           1            2         1  1483305786        oslo     oslo   \n",
       " 2           2            2         1  1483305801        oslo     oslo   \n",
       " 3           3            4         0  1483260265  brumunddal  hedmark   \n",
       " 4           4            5         2  1483271454  brumunddal  hedmark   \n",
       " \n",
       "   deviceType  Desktop  Mobile  Tablet  \n",
       " 0    Desktop        1       0       0  \n",
       " 1    Desktop        1       0       0  \n",
       " 2    Desktop        1       0       0  \n",
       " 3    Desktop        1       0       0  \n",
       " 4    Desktop        1       0       0  )"
      ]
     },
     "execution_count": 51,
     "metadata": {},
     "output_type": "execute_result"
    }
   ],
   "source": [
    "region=pd.read_csv(\"./data/day_one_category_only_region.csv\")\n",
    "device=pd.read_csv(\"./data/day_one_category_only_device.csv\")\n",
    "region.head(),device.head()"
   ]
  },
  {
   "cell_type": "code",
   "execution_count": 52,
   "metadata": {
    "colab": {
     "base_uri": "https://localhost:8080/",
     "height": 204
    },
    "colab_type": "code",
    "executionInfo": {
     "elapsed": 516013,
     "status": "ok",
     "timestamp": 1575593960630,
     "user": {
      "displayName": "Haoxue Li",
      "photoUrl": "",
      "userId": "02132541566044588005"
     },
     "user_tz": 300
    },
    "id": "Nyp1SQEz7Q6f",
    "outputId": "bc378c58-2364-4824-bb6e-c3df14a6b75b"
   },
   "outputs": [
    {
     "data": {
      "text/html": [
       "<div>\n",
       "<style scoped>\n",
       "    .dataframe tbody tr th:only-of-type {\n",
       "        vertical-align: middle;\n",
       "    }\n",
       "\n",
       "    .dataframe tbody tr th {\n",
       "        vertical-align: top;\n",
       "    }\n",
       "\n",
       "    .dataframe thead th {\n",
       "        text-align: right;\n",
       "    }\n",
       "</style>\n",
       "<table border=\"1\" class=\"dataframe\">\n",
       "  <thead>\n",
       "    <tr style=\"text-align: right;\">\n",
       "      <th></th>\n",
       "      <th>Unnamed: 0</th>\n",
       "      <th>session_key</th>\n",
       "      <th>item_key</th>\n",
       "      <th>time_key</th>\n",
       "      <th>city</th>\n",
       "      <th>region</th>\n",
       "      <th>deviceType</th>\n",
       "      <th>lat</th>\n",
       "      <th>long</th>\n",
       "      <th>Desktop</th>\n",
       "      <th>Mobile</th>\n",
       "      <th>Tablet</th>\n",
       "    </tr>\n",
       "  </thead>\n",
       "  <tbody>\n",
       "    <tr>\n",
       "      <td>0</td>\n",
       "      <td>0</td>\n",
       "      <td>2</td>\n",
       "      <td>0</td>\n",
       "      <td>1483305738</td>\n",
       "      <td>oslo</td>\n",
       "      <td>oslo</td>\n",
       "      <td>Desktop</td>\n",
       "      <td>47.392863</td>\n",
       "      <td>27.703550</td>\n",
       "      <td>1</td>\n",
       "      <td>0</td>\n",
       "      <td>0</td>\n",
       "    </tr>\n",
       "    <tr>\n",
       "      <td>1</td>\n",
       "      <td>1</td>\n",
       "      <td>2</td>\n",
       "      <td>1</td>\n",
       "      <td>1483305786</td>\n",
       "      <td>oslo</td>\n",
       "      <td>oslo</td>\n",
       "      <td>Desktop</td>\n",
       "      <td>47.392863</td>\n",
       "      <td>27.703550</td>\n",
       "      <td>1</td>\n",
       "      <td>0</td>\n",
       "      <td>0</td>\n",
       "    </tr>\n",
       "    <tr>\n",
       "      <td>2</td>\n",
       "      <td>2</td>\n",
       "      <td>2</td>\n",
       "      <td>1</td>\n",
       "      <td>1483305801</td>\n",
       "      <td>oslo</td>\n",
       "      <td>oslo</td>\n",
       "      <td>Desktop</td>\n",
       "      <td>47.392863</td>\n",
       "      <td>27.703550</td>\n",
       "      <td>1</td>\n",
       "      <td>0</td>\n",
       "      <td>0</td>\n",
       "    </tr>\n",
       "    <tr>\n",
       "      <td>3</td>\n",
       "      <td>3</td>\n",
       "      <td>4</td>\n",
       "      <td>0</td>\n",
       "      <td>1483260265</td>\n",
       "      <td>brumunddal</td>\n",
       "      <td>hedmark</td>\n",
       "      <td>Desktop</td>\n",
       "      <td>22.351115</td>\n",
       "      <td>78.667743</td>\n",
       "      <td>1</td>\n",
       "      <td>0</td>\n",
       "      <td>0</td>\n",
       "    </tr>\n",
       "    <tr>\n",
       "      <td>4</td>\n",
       "      <td>4</td>\n",
       "      <td>5</td>\n",
       "      <td>2</td>\n",
       "      <td>1483271454</td>\n",
       "      <td>brumunddal</td>\n",
       "      <td>hedmark</td>\n",
       "      <td>Desktop</td>\n",
       "      <td>22.351115</td>\n",
       "      <td>78.667743</td>\n",
       "      <td>1</td>\n",
       "      <td>0</td>\n",
       "      <td>0</td>\n",
       "    </tr>\n",
       "  </tbody>\n",
       "</table>\n",
       "</div>"
      ],
      "text/plain": [
       "   Unnamed: 0  session_key  item_key    time_key        city   region  \\\n",
       "0           0            2         0  1483305738        oslo     oslo   \n",
       "1           1            2         1  1483305786        oslo     oslo   \n",
       "2           2            2         1  1483305801        oslo     oslo   \n",
       "3           3            4         0  1483260265  brumunddal  hedmark   \n",
       "4           4            5         2  1483271454  brumunddal  hedmark   \n",
       "\n",
       "  deviceType        lat       long  Desktop  Mobile  Tablet  \n",
       "0    Desktop  47.392863  27.703550        1       0       0  \n",
       "1    Desktop  47.392863  27.703550        1       0       0  \n",
       "2    Desktop  47.392863  27.703550        1       0       0  \n",
       "3    Desktop  22.351115  78.667743        1       0       0  \n",
       "4    Desktop  22.351115  78.667743        1       0       0  "
      ]
     },
     "execution_count": 52,
     "metadata": {},
     "output_type": "execute_result"
    }
   ],
   "source": [
    "device=device[[\"Desktop\",\"Mobile\",\"Tablet\"]]\n",
    "combine=region.join(device)\n",
    "combine.to_csv(\"./data/day_one_category_region_device.csv\")\n",
    "combine.head()"
   ]
  },
  {
   "cell_type": "code",
   "execution_count": null,
   "metadata": {},
   "outputs": [],
   "source": []
  },
  {
   "cell_type": "code",
   "execution_count": null,
   "metadata": {},
   "outputs": [],
   "source": []
  }
 ],
 "metadata": {
  "colab": {
   "collapsed_sections": [],
   "name": "2. Data exploration.ipynb",
   "provenance": []
  },
  "kernelspec": {
   "display_name": "Python 3",
   "language": "python",
   "name": "python3"
  },
  "language_info": {
   "codemirror_mode": {
    "name": "ipython",
    "version": 3
   },
   "file_extension": ".py",
   "mimetype": "text/x-python",
   "name": "python",
   "nbconvert_exporter": "python",
   "pygments_lexer": "ipython3",
   "version": "3.7.4"
  }
 },
 "nbformat": 4,
 "nbformat_minor": 4
}
