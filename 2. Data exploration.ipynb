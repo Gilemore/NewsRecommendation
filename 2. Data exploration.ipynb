<<<<<<< HEAD
{
 "cells": [
  {
   "cell_type": "code",
   "execution_count": null,
   "metadata": {
    "colab": {
     "base_uri": "https://localhost:8080/",
     "height": 124
    },
    "colab_type": "code",
    "executionInfo": {
     "elapsed": 26139,
     "status": "ok",
     "timestamp": 1575755594202,
     "user": {
      "displayName": "Gaomin Wu",
      "photoUrl": "",
      "userId": "05585133387136783154"
     },
     "user_tz": 300
    },
    "id": "FAOl6HOx1pEz",
    "outputId": "9834aa8b-2f91-41e1-8ab5-03afa536c761"
   },
   "outputs": [
    {
     "name": "stdout",
     "output_type": "stream",
     "text": [
      "Go to this URL in a browser: https://accounts.google.com/o/oauth2/auth?client_id=947318989803-6bn6qk8qdgf4n4g3pfee6491hc0brc4i.apps.googleusercontent.com&redirect_uri=urn%3aietf%3awg%3aoauth%3a2.0%3aoob&response_type=code&scope=email%20https%3a%2f%2fwww.googleapis.com%2fauth%2fdocs.test%20https%3a%2f%2fwww.googleapis.com%2fauth%2fdrive%20https%3a%2f%2fwww.googleapis.com%2fauth%2fdrive.photos.readonly%20https%3a%2f%2fwww.googleapis.com%2fauth%2fpeopleapi.readonly\n",
      "\n",
      "Enter your authorization code:\n",
      "··········\n",
      "Mounted at /content/drive\n"
     ]
    }
   ],
   "source": [
    "from google.colab import drive\n",
    "drive.mount('/content/drive')"
   ]
  },
  {
   "cell_type": "markdown",
   "metadata": {
    "colab_type": "text",
    "id": "S785XjQQ1HQb"
   },
   "source": [
    "# Import"
   ]
  },
  {
   "cell_type": "code",
   "execution_count": 33,
   "metadata": {
    "colab": {},
    "colab_type": "code",
    "id": "YVCI7K3k1HQd"
   },
   "outputs": [],
   "source": [
    "import pandas as pd\n",
    "import numpy as np\n",
    "from pprint import pprint\n",
    "import os\n",
    "from tqdm import tqdm\n",
    "from sklearn.model_selection import train_test_split\n",
    "from sklearn.metrics.pairwise import cosine_similarity\n",
    "import time\n",
    "from _operator import itemgetter\n",
    "from math import sqrt\n",
    "import random \n",
    "import time\n",
    "import matplotlib.pyplot as plt\n",
    "%matplotlib inline"
   ]
  },
  {
   "cell_type": "code",
   "execution_count": 34,
   "metadata": {
    "colab": {},
    "colab_type": "code",
    "id": "MOb992AK1HQh"
   },
   "outputs": [],
   "source": [
    "df1=pd.read_csv(\"./data/20170101_prestage.csv\")"
   ]
  },
  {
   "cell_type": "code",
   "execution_count": 35,
   "metadata": {
    "colab": {
     "base_uri": "https://localhost:8080/",
     "height": 139
    },
    "colab_type": "code",
    "executionInfo": {
     "elapsed": 10847,
     "status": "ok",
     "timestamp": 1575759603365,
     "user": {
      "displayName": "Haoxue Li",
      "photoUrl": "",
      "userId": "02132541566044588005"
     },
     "user_tz": 300
    },
    "id": "T21VgitQ1HQk",
    "outputId": "384e14ec-fbe8-4bda-83eb-e037b38f95df"
   },
   "outputs": [
    {
     "data": {
      "text/plain": [
       "Index(['profile', 'category1', 'canonicalUrl', 'referrerHostClass',\n",
       "       'sessionStop', 'userId', 'publishtime', 'sessionStart', 'referrerUrl',\n",
       "       'keywords', 'id', 'eventId', 'city', 'title', 'url', 'country',\n",
       "       'region', 'author', 'referrerSearchEngine', 'deviceType', 'time', 'os',\n",
       "       'activeTime', 'sessionNo', 'activeTotalTime', 'articleId'],\n",
       "      dtype='object')"
      ]
     },
     "execution_count": 35,
     "metadata": {},
     "output_type": "execute_result"
    }
   ],
   "source": [
    "df=df1.drop(\"Unnamed: 0\",1)\n",
    "df.columns"
   ]
  },
  {
   "cell_type": "markdown",
   "metadata": {
    "colab_type": "text",
    "id": "DcZcMltY1HQo"
   },
   "source": [
    "# Choose Variables"
   ]
  },
  {
   "cell_type": "code",
   "execution_count": 36,
   "metadata": {
    "colab": {
     "base_uri": "https://localhost:8080/",
     "height": 156
    },
    "colab_type": "code",
    "executionInfo": {
     "elapsed": 681,
     "status": "ok",
     "timestamp": 1575760268067,
     "user": {
      "displayName": "Haoxue Li",
      "photoUrl": "",
      "userId": "02132541566044588005"
     },
     "user_tz": 300
    },
    "id": "L13mwxrJ1HQp",
    "outputId": "54e3677a-22aa-4126-9443-1749b1834eaf"
   },
   "outputs": [
    {
     "data": {
      "text/plain": [
       "Index(['profile', 'category1', 'canonicalUrl', 'referrerHostClass',\n",
       "       'sessionStop', 'userId', 'publishtime', 'sessionStart', 'referrerUrl',\n",
       "       'keywords', 'id', 'eventId', 'city', 'title', 'url', 'country',\n",
       "       'region', 'author', 'referrerSearchEngine', 'deviceType', 'time', 'os',\n",
       "       'activeTime', 'sessionNo', 'activeTotalTime', 'articleId'],\n",
       "      dtype='object')"
      ]
     },
     "execution_count": 36,
     "metadata": {},
     "output_type": "execute_result"
    }
   ],
   "source": [
    "articles=df[\"id\"].unique()\n",
    "d={}\n",
    "for i in range(len(articles)):\n",
    "    article=articles[i]\n",
    "    d[article]=i\n",
    "df[\"articleId\"]=df[\"id\"].map(d)\n",
    "df.columns"
   ]
  },
  {
   "cell_type": "code",
   "execution_count": 37,
   "metadata": {
    "colab": {
     "base_uri": "https://localhost:8080/",
     "height": 221
    },
    "colab_type": "code",
    "executionInfo": {
     "elapsed": 1002,
     "status": "ok",
     "timestamp": 1575760269167,
     "user": {
      "displayName": "Haoxue Li",
      "photoUrl": "",
      "userId": "02132541566044588005"
     },
     "user_tz": 300
    },
    "id": "Uwg9RFxk1HQt",
    "outputId": "e1aea53b-d61c-4e82-a446-0d6dd742cf5e"
   },
   "outputs": [
    {
     "name": "stdout",
     "output_type": "stream",
     "text": [
      "The length of data with article as itemid:  374487\n"
     ]
    },
    {
     "data": {
      "text/html": [
       "<div>\n",
       "<style scoped>\n",
       "    .dataframe tbody tr th:only-of-type {\n",
       "        vertical-align: middle;\n",
       "    }\n",
       "\n",
       "    .dataframe tbody tr th {\n",
       "        vertical-align: top;\n",
       "    }\n",
       "\n",
       "    .dataframe thead th {\n",
       "        text-align: right;\n",
       "    }\n",
       "</style>\n",
       "<table border=\"1\" class=\"dataframe\">\n",
       "  <thead>\n",
       "    <tr style=\"text-align: right;\">\n",
       "      <th></th>\n",
       "      <th>session_key</th>\n",
       "      <th>item_key</th>\n",
       "      <th>time_key</th>\n",
       "      <th>city</th>\n",
       "      <th>region</th>\n",
       "      <th>deviceType</th>\n",
       "    </tr>\n",
       "  </thead>\n",
       "  <tbody>\n",
       "    <tr>\n",
       "      <td>0</td>\n",
       "      <td>2</td>\n",
       "      <td>0</td>\n",
       "      <td>1483305738</td>\n",
       "      <td>oslo</td>\n",
       "      <td>oslo</td>\n",
       "      <td>Desktop</td>\n",
       "    </tr>\n",
       "    <tr>\n",
       "      <td>1</td>\n",
       "      <td>2</td>\n",
       "      <td>1</td>\n",
       "      <td>1483305786</td>\n",
       "      <td>oslo</td>\n",
       "      <td>oslo</td>\n",
       "      <td>Desktop</td>\n",
       "    </tr>\n",
       "    <tr>\n",
       "      <td>2</td>\n",
       "      <td>2</td>\n",
       "      <td>2</td>\n",
       "      <td>1483305801</td>\n",
       "      <td>oslo</td>\n",
       "      <td>oslo</td>\n",
       "      <td>Desktop</td>\n",
       "    </tr>\n",
       "    <tr>\n",
       "      <td>3</td>\n",
       "      <td>4</td>\n",
       "      <td>3</td>\n",
       "      <td>1483260265</td>\n",
       "      <td>brumunddal</td>\n",
       "      <td>hedmark</td>\n",
       "      <td>Desktop</td>\n",
       "    </tr>\n",
       "    <tr>\n",
       "      <td>4</td>\n",
       "      <td>5</td>\n",
       "      <td>4</td>\n",
       "      <td>1483271454</td>\n",
       "      <td>brumunddal</td>\n",
       "      <td>hedmark</td>\n",
       "      <td>Desktop</td>\n",
       "    </tr>\n",
       "  </tbody>\n",
       "</table>\n",
       "</div>"
      ],
      "text/plain": [
       "   session_key  item_key    time_key        city   region deviceType\n",
       "0            2         0  1483305738        oslo     oslo    Desktop\n",
       "1            2         1  1483305786        oslo     oslo    Desktop\n",
       "2            2         2  1483305801        oslo     oslo    Desktop\n",
       "3            4         3  1483260265  brumunddal  hedmark    Desktop\n",
       "4            5         4  1483271454  brumunddal  hedmark    Desktop"
      ]
     },
     "execution_count": 37,
     "metadata": {},
     "output_type": "execute_result"
    }
   ],
   "source": [
    "#data=df[[\"sessionNo\",\"category_num\",\"time\"]].rename(columns={\"sessionNo\":\"session_key\",\"category_num\": \"item_key\", \"time\":\"time_key\"})\n",
    "data_1=df[[\"sessionNo\",\"articleId\",\"time\",\"city\",\"region\",\"deviceType\"]].rename(columns={\"sessionNo\":\"session_key\",\"articleId\": \"item_key\", \"time\":\"time_key\"})\n",
    "print(\"The length of data with article as itemid: \",len(data_1))\n",
    "data_1.head()"
   ]
  },
  {
   "cell_type": "code",
   "execution_count": 38,
   "metadata": {
    "colab": {},
    "colab_type": "code",
    "id": "P7YRQQJUp_u6"
   },
   "outputs": [],
   "source": [
    "categories=df[\"category1\"].unique()\n",
    "d={}\n",
    "for i in range(len(categories)):\n",
    "    category=categories[i]\n",
    "    d[category]=i\n",
    "df[\"categoryId\"]=df[\"category1\"].map(d)"
   ]
  },
  {
   "cell_type": "code",
   "execution_count": 39,
   "metadata": {
    "colab": {
     "base_uri": "https://localhost:8080/",
     "height": 221
    },
    "colab_type": "code",
    "executionInfo": {
     "elapsed": 2022,
     "status": "ok",
     "timestamp": 1575760210992,
     "user": {
      "displayName": "Haoxue Li",
      "photoUrl": "",
      "userId": "02132541566044588005"
     },
     "user_tz": 300
    },
    "id": "TBFIBMpaqJoQ",
    "outputId": "49abf88c-04da-42d7-f372-09e1d870ddc5"
   },
   "outputs": [
    {
     "name": "stdout",
     "output_type": "stream",
     "text": [
      "The length of data with category as itemid:  374487\n"
     ]
    },
    {
     "data": {
      "text/html": [
       "<div>\n",
       "<style scoped>\n",
       "    .dataframe tbody tr th:only-of-type {\n",
       "        vertical-align: middle;\n",
       "    }\n",
       "\n",
       "    .dataframe tbody tr th {\n",
       "        vertical-align: top;\n",
       "    }\n",
       "\n",
       "    .dataframe thead th {\n",
       "        text-align: right;\n",
       "    }\n",
       "</style>\n",
       "<table border=\"1\" class=\"dataframe\">\n",
       "  <thead>\n",
       "    <tr style=\"text-align: right;\">\n",
       "      <th></th>\n",
       "      <th>session_key</th>\n",
       "      <th>item_key</th>\n",
       "      <th>time_key</th>\n",
       "      <th>city</th>\n",
       "      <th>region</th>\n",
       "      <th>deviceType</th>\n",
       "    </tr>\n",
       "  </thead>\n",
       "  <tbody>\n",
       "    <tr>\n",
       "      <td>0</td>\n",
       "      <td>2</td>\n",
       "      <td>0</td>\n",
       "      <td>1483305738</td>\n",
       "      <td>oslo</td>\n",
       "      <td>oslo</td>\n",
       "      <td>Desktop</td>\n",
       "    </tr>\n",
       "    <tr>\n",
       "      <td>1</td>\n",
       "      <td>2</td>\n",
       "      <td>1</td>\n",
       "      <td>1483305786</td>\n",
       "      <td>oslo</td>\n",
       "      <td>oslo</td>\n",
       "      <td>Desktop</td>\n",
       "    </tr>\n",
       "    <tr>\n",
       "      <td>2</td>\n",
       "      <td>2</td>\n",
       "      <td>1</td>\n",
       "      <td>1483305801</td>\n",
       "      <td>oslo</td>\n",
       "      <td>oslo</td>\n",
       "      <td>Desktop</td>\n",
       "    </tr>\n",
       "    <tr>\n",
       "      <td>3</td>\n",
       "      <td>4</td>\n",
       "      <td>0</td>\n",
       "      <td>1483260265</td>\n",
       "      <td>brumunddal</td>\n",
       "      <td>hedmark</td>\n",
       "      <td>Desktop</td>\n",
       "    </tr>\n",
       "    <tr>\n",
       "      <td>4</td>\n",
       "      <td>5</td>\n",
       "      <td>2</td>\n",
       "      <td>1483271454</td>\n",
       "      <td>brumunddal</td>\n",
       "      <td>hedmark</td>\n",
       "      <td>Desktop</td>\n",
       "    </tr>\n",
       "  </tbody>\n",
       "</table>\n",
       "</div>"
      ],
      "text/plain": [
       "   session_key  item_key    time_key        city   region deviceType\n",
       "0            2         0  1483305738        oslo     oslo    Desktop\n",
       "1            2         1  1483305786        oslo     oslo    Desktop\n",
       "2            2         1  1483305801        oslo     oslo    Desktop\n",
       "3            4         0  1483260265  brumunddal  hedmark    Desktop\n",
       "4            5         2  1483271454  brumunddal  hedmark    Desktop"
      ]
     },
     "execution_count": 39,
     "metadata": {},
     "output_type": "execute_result"
    }
   ],
   "source": [
    "#data=df[[\"sessionNo\",\"category_num\",\"time\"]].rename(columns={\"sessionNo\":\"session_key\",\"category_num\": \"item_key\", \"time\":\"time_key\"})\n",
    "data_2=df[[\"sessionNo\",\"categoryId\",\"time\",\"city\",\"region\",\"deviceType\"]].rename(columns={\"sessionNo\":\"session_key\",\"categoryId\": \"item_key\", \"time\":\"time_key\"})\n",
    "print(\"The length of data with category as itemid: \",len(data_2))\n",
    "data_2.head()"
   ]
  },
  {
   "cell_type": "markdown",
   "metadata": {
    "colab_type": "text",
    "id": "OM1dBZqf1HQx"
   },
   "source": [
    "## DeviceType"
   ]
  },
  {
   "cell_type": "code",
   "execution_count": 40,
   "metadata": {
    "colab": {
     "base_uri": "https://localhost:8080/",
     "height": 265
    },
    "colab_type": "code",
    "executionInfo": {
     "elapsed": 1240,
     "status": "ok",
     "timestamp": 1575593412777,
     "user": {
      "displayName": "Haoxue Li",
      "photoUrl": "",
      "userId": "02132541566044588005"
     },
     "user_tz": 300
    },
    "id": "Swi7z9gC1HQx",
    "outputId": "bd6d9f5b-b836-4874-e582-f5de28ac460b"
   },
   "outputs": [
    {
     "data": {
      "image/png": "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\n",
      "text/plain": [
       "<Figure size 432x288 with 1 Axes>"
      ]
     },
     "metadata": {},
     "output_type": "display_data"
    }
   ],
   "source": [
    "import matplotlib.pyplot as plt\n",
    "%matplotlib inline\n",
    "plt.style.use(\"ggplot\")\n",
    "fig=plt.hist(data_1[\"deviceType\"])"
   ]
  },
  {
   "cell_type": "code",
   "execution_count": 41,
   "metadata": {
    "colab": {
     "base_uri": "https://localhost:8080/",
     "height": 204
    },
    "colab_type": "code",
    "executionInfo": {
     "elapsed": 5289,
     "status": "ok",
     "timestamp": 1575593419220,
     "user": {
      "displayName": "Haoxue Li",
      "photoUrl": "",
      "userId": "02132541566044588005"
     },
     "user_tz": 300
    },
    "id": "j6bi8nS81HQ1",
    "outputId": "e147e451-d218-432e-c49e-e08918c02e5c"
   },
   "outputs": [
    {
     "data": {
      "text/html": [
       "<div>\n",
       "<style scoped>\n",
       "    .dataframe tbody tr th:only-of-type {\n",
       "        vertical-align: middle;\n",
       "    }\n",
       "\n",
       "    .dataframe tbody tr th {\n",
       "        vertical-align: top;\n",
       "    }\n",
       "\n",
       "    .dataframe thead th {\n",
       "        text-align: right;\n",
       "    }\n",
       "</style>\n",
       "<table border=\"1\" class=\"dataframe\">\n",
       "  <thead>\n",
       "    <tr style=\"text-align: right;\">\n",
       "      <th></th>\n",
       "      <th>session_key</th>\n",
       "      <th>item_key</th>\n",
       "      <th>time_key</th>\n",
       "      <th>city</th>\n",
       "      <th>region</th>\n",
       "      <th>deviceType</th>\n",
       "      <th>Desktop</th>\n",
       "      <th>Mobile</th>\n",
       "      <th>Tablet</th>\n",
       "    </tr>\n",
       "  </thead>\n",
       "  <tbody>\n",
       "    <tr>\n",
       "      <td>0</td>\n",
       "      <td>2</td>\n",
       "      <td>0</td>\n",
       "      <td>1483305738</td>\n",
       "      <td>oslo</td>\n",
       "      <td>oslo</td>\n",
       "      <td>Desktop</td>\n",
       "      <td>1</td>\n",
       "      <td>0</td>\n",
       "      <td>0</td>\n",
       "    </tr>\n",
       "    <tr>\n",
       "      <td>1</td>\n",
       "      <td>2</td>\n",
       "      <td>1</td>\n",
       "      <td>1483305786</td>\n",
       "      <td>oslo</td>\n",
       "      <td>oslo</td>\n",
       "      <td>Desktop</td>\n",
       "      <td>1</td>\n",
       "      <td>0</td>\n",
       "      <td>0</td>\n",
       "    </tr>\n",
       "    <tr>\n",
       "      <td>2</td>\n",
       "      <td>2</td>\n",
       "      <td>2</td>\n",
       "      <td>1483305801</td>\n",
       "      <td>oslo</td>\n",
       "      <td>oslo</td>\n",
       "      <td>Desktop</td>\n",
       "      <td>1</td>\n",
       "      <td>0</td>\n",
       "      <td>0</td>\n",
       "    </tr>\n",
       "    <tr>\n",
       "      <td>3</td>\n",
       "      <td>4</td>\n",
       "      <td>3</td>\n",
       "      <td>1483260265</td>\n",
       "      <td>brumunddal</td>\n",
       "      <td>hedmark</td>\n",
       "      <td>Desktop</td>\n",
       "      <td>1</td>\n",
       "      <td>0</td>\n",
       "      <td>0</td>\n",
       "    </tr>\n",
       "    <tr>\n",
       "      <td>4</td>\n",
       "      <td>5</td>\n",
       "      <td>4</td>\n",
       "      <td>1483271454</td>\n",
       "      <td>brumunddal</td>\n",
       "      <td>hedmark</td>\n",
       "      <td>Desktop</td>\n",
       "      <td>1</td>\n",
       "      <td>0</td>\n",
       "      <td>0</td>\n",
       "    </tr>\n",
       "  </tbody>\n",
       "</table>\n",
       "</div>"
      ],
      "text/plain": [
       "   session_key  item_key    time_key        city   region deviceType  Desktop  \\\n",
       "0            2         0  1483305738        oslo     oslo    Desktop        1   \n",
       "1            2         1  1483305786        oslo     oslo    Desktop        1   \n",
       "2            2         2  1483305801        oslo     oslo    Desktop        1   \n",
       "3            4         3  1483260265  brumunddal  hedmark    Desktop        1   \n",
       "4            5         4  1483271454  brumunddal  hedmark    Desktop        1   \n",
       "\n",
       "   Mobile  Tablet  \n",
       "0       0       0  \n",
       "1       0       0  \n",
       "2       0       0  \n",
       "3       0       0  \n",
       "4       0       0  "
      ]
     },
     "execution_count": 41,
     "metadata": {},
     "output_type": "execute_result"
    }
   ],
   "source": [
    "t=pd.get_dummies(data_1[\"deviceType\"])\n",
    "device_data=data_1.join(t)\n",
    "device_data.to_csv(\"./data/day_one_article_only_device.csv\")\n",
    "device_data.head()"
   ]
  },
  {
   "cell_type": "code",
   "execution_count": 42,
   "metadata": {
    "colab": {
     "base_uri": "https://localhost:8080/",
     "height": 204
    },
    "colab_type": "code",
    "executionInfo": {
     "elapsed": 4661,
     "status": "ok",
     "timestamp": 1575593423931,
     "user": {
      "displayName": "Haoxue Li",
      "photoUrl": "",
      "userId": "02132541566044588005"
     },
     "user_tz": 300
    },
    "id": "Pz6n943E1HQ8",
    "outputId": "26207bc9-9132-436a-af7c-0d8efb4b3e64"
   },
   "outputs": [
    {
     "data": {
      "text/html": [
       "<div>\n",
       "<style scoped>\n",
       "    .dataframe tbody tr th:only-of-type {\n",
       "        vertical-align: middle;\n",
       "    }\n",
       "\n",
       "    .dataframe tbody tr th {\n",
       "        vertical-align: top;\n",
       "    }\n",
       "\n",
       "    .dataframe thead th {\n",
       "        text-align: right;\n",
       "    }\n",
       "</style>\n",
       "<table border=\"1\" class=\"dataframe\">\n",
       "  <thead>\n",
       "    <tr style=\"text-align: right;\">\n",
       "      <th></th>\n",
       "      <th>session_key</th>\n",
       "      <th>item_key</th>\n",
       "      <th>time_key</th>\n",
       "      <th>city</th>\n",
       "      <th>region</th>\n",
       "      <th>deviceType</th>\n",
       "      <th>Desktop</th>\n",
       "      <th>Mobile</th>\n",
       "      <th>Tablet</th>\n",
       "    </tr>\n",
       "  </thead>\n",
       "  <tbody>\n",
       "    <tr>\n",
       "      <td>0</td>\n",
       "      <td>2</td>\n",
       "      <td>0</td>\n",
       "      <td>1483305738</td>\n",
       "      <td>oslo</td>\n",
       "      <td>oslo</td>\n",
       "      <td>Desktop</td>\n",
       "      <td>1</td>\n",
       "      <td>0</td>\n",
       "      <td>0</td>\n",
       "    </tr>\n",
       "    <tr>\n",
       "      <td>1</td>\n",
       "      <td>2</td>\n",
       "      <td>1</td>\n",
       "      <td>1483305786</td>\n",
       "      <td>oslo</td>\n",
       "      <td>oslo</td>\n",
       "      <td>Desktop</td>\n",
       "      <td>1</td>\n",
       "      <td>0</td>\n",
       "      <td>0</td>\n",
       "    </tr>\n",
       "    <tr>\n",
       "      <td>2</td>\n",
       "      <td>2</td>\n",
       "      <td>1</td>\n",
       "      <td>1483305801</td>\n",
       "      <td>oslo</td>\n",
       "      <td>oslo</td>\n",
       "      <td>Desktop</td>\n",
       "      <td>1</td>\n",
       "      <td>0</td>\n",
       "      <td>0</td>\n",
       "    </tr>\n",
       "    <tr>\n",
       "      <td>3</td>\n",
       "      <td>4</td>\n",
       "      <td>0</td>\n",
       "      <td>1483260265</td>\n",
       "      <td>brumunddal</td>\n",
       "      <td>hedmark</td>\n",
       "      <td>Desktop</td>\n",
       "      <td>1</td>\n",
       "      <td>0</td>\n",
       "      <td>0</td>\n",
       "    </tr>\n",
       "    <tr>\n",
       "      <td>4</td>\n",
       "      <td>5</td>\n",
       "      <td>2</td>\n",
       "      <td>1483271454</td>\n",
       "      <td>brumunddal</td>\n",
       "      <td>hedmark</td>\n",
       "      <td>Desktop</td>\n",
       "      <td>1</td>\n",
       "      <td>0</td>\n",
       "      <td>0</td>\n",
       "    </tr>\n",
       "  </tbody>\n",
       "</table>\n",
       "</div>"
      ],
      "text/plain": [
       "   session_key  item_key    time_key        city   region deviceType  Desktop  \\\n",
       "0            2         0  1483305738        oslo     oslo    Desktop        1   \n",
       "1            2         1  1483305786        oslo     oslo    Desktop        1   \n",
       "2            2         1  1483305801        oslo     oslo    Desktop        1   \n",
       "3            4         0  1483260265  brumunddal  hedmark    Desktop        1   \n",
       "4            5         2  1483271454  brumunddal  hedmark    Desktop        1   \n",
       "\n",
       "   Mobile  Tablet  \n",
       "0       0       0  \n",
       "1       0       0  \n",
       "2       0       0  \n",
       "3       0       0  \n",
       "4       0       0  "
      ]
     },
     "execution_count": 42,
     "metadata": {},
     "output_type": "execute_result"
    }
   ],
   "source": [
    "t=pd.get_dummies(data_2[\"deviceType\"])\n",
    "device_data=data_2.join(t)\n",
    "device_data.to_csv(\"./data/day_one_category_only_device.csv\")\n",
    "device_data.head()"
   ]
  },
  {
   "cell_type": "markdown",
   "metadata": {
    "colab_type": "text",
    "id": "202HqoPn1HRC"
   },
   "source": [
    "## Regions"
   ]
  },
  {
   "cell_type": "code",
   "execution_count": 43,
   "metadata": {
    "colab": {
     "base_uri": "https://localhost:8080/",
     "height": 170
    },
    "colab_type": "code",
    "executionInfo": {
     "elapsed": 367,
     "status": "ok",
     "timestamp": 1575726066094,
     "user": {
      "displayName": "Haoxue Li",
      "photoUrl": "",
      "userId": "02132541566044588005"
     },
     "user_tz": 300
    },
    "id": "529fNh3_A9Xy",
    "outputId": "2411fe9a-85ae-4a11-b614-72999fb6f76a"
   },
   "outputs": [
    {
     "data": {
      "text/plain": [
       "count       496.000000\n",
       "mean        754.616935\n",
       "std       10639.337693\n",
       "min           1.000000\n",
       "25%           2.000000\n",
       "50%           4.000000\n",
       "75%          13.000000\n",
       "max      227906.000000\n",
       "Name: session_key, dtype: float64"
      ]
     },
     "execution_count": 43,
     "metadata": {},
     "output_type": "execute_result"
    }
   ],
   "source": [
    "k=data_1.groupby(\"region\")[\"session_key\"].count()\n",
    "k.describe()"
   ]
  },
  {
   "cell_type": "code",
   "execution_count": 44,
   "metadata": {},
   "outputs": [
    {
     "name": "stdout",
     "output_type": "stream",
     "text": [
      "Requirement already satisfied: geopy in /Users/haoxueli/opt/anaconda3/lib/python3.7/site-packages (1.20.0)\n",
      "Requirement already satisfied: geographiclib<2,>=1.49 in /Users/haoxueli/opt/anaconda3/lib/python3.7/site-packages (from geopy) (1.50)\n"
     ]
    }
   ],
   "source": [
    "!pip install geopy"
   ]
  },
  {
   "cell_type": "code",
   "execution_count": 45,
   "metadata": {
    "colab": {
     "base_uri": "https://localhost:8080/",
     "height": 51
    },
    "colab_type": "code",
    "executionInfo": {
     "elapsed": 516562,
     "status": "ok",
     "timestamp": 1575593938247,
     "user": {
      "displayName": "Haoxue Li",
      "photoUrl": "",
      "userId": "02132541566044588005"
     },
     "user_tz": 300
    },
    "id": "FiSqhUOQ1HRD",
    "outputId": "ba414425-d4ac-41d5-d779-c291c7501fa1"
   },
   "outputs": [
    {
     "name": "stderr",
     "output_type": "stream",
     "text": [
      " 37%|███▋      | 185/497 [01:31<03:02,  1.71it/s]"
     ]
    },
    {
     "name": "stdout",
     "output_type": "stream",
     "text": [
      "111\n"
     ]
    },
    {
     "name": "stderr",
     "output_type": "stream",
     "text": [
      " 39%|███▉      | 196/497 [01:36<02:56,  1.70it/s]"
     ]
    },
    {
     "name": "stdout",
     "output_type": "stream",
     "text": [
      "111\n"
     ]
    },
    {
     "name": "stderr",
     "output_type": "stream",
     "text": [
      " 42%|████▏     | 209/497 [01:42<02:51,  1.67it/s]"
     ]
    },
    {
     "name": "stdout",
     "output_type": "stream",
     "text": [
      "111\n"
     ]
    },
    {
     "name": "stderr",
     "output_type": "stream",
     "text": [
      " 44%|████▍     | 220/497 [01:47<02:43,  1.70it/s]"
     ]
    },
    {
     "name": "stdout",
     "output_type": "stream",
     "text": [
      "111\n"
     ]
    },
    {
     "name": "stderr",
     "output_type": "stream",
     "text": [
      " 47%|████▋     | 233/497 [01:53<02:36,  1.69it/s]"
     ]
    },
    {
     "name": "stdout",
     "output_type": "stream",
     "text": [
      "111\n"
     ]
    },
    {
     "name": "stderr",
     "output_type": "stream",
     "text": [
      " 49%|████▉     | 245/497 [01:58<02:28,  1.70it/s]"
     ]
    },
    {
     "name": "stdout",
     "output_type": "stream",
     "text": [
      "111\n"
     ]
    },
    {
     "name": "stderr",
     "output_type": "stream",
     "text": [
      " 52%|█████▏    | 256/497 [02:03<02:21,  1.70it/s]"
     ]
    },
    {
     "name": "stdout",
     "output_type": "stream",
     "text": [
      "111\n"
     ]
    },
    {
     "name": "stderr",
     "output_type": "stream",
     "text": [
      " 54%|█████▎    | 267/497 [02:08<02:14,  1.71it/s]"
     ]
    },
    {
     "name": "stdout",
     "output_type": "stream",
     "text": [
      "111\n"
     ]
    },
    {
     "name": "stderr",
     "output_type": "stream",
     "text": [
      " 56%|█████▌    | 278/497 [02:13<02:07,  1.72it/s]"
     ]
    },
    {
     "name": "stdout",
     "output_type": "stream",
     "text": [
      "111\n"
     ]
    },
    {
     "name": "stderr",
     "output_type": "stream",
     "text": [
      " 58%|█████▊    | 288/497 [02:18<02:02,  1.71it/s]"
     ]
    },
    {
     "name": "stdout",
     "output_type": "stream",
     "text": [
      "111\n"
     ]
    },
    {
     "name": "stderr",
     "output_type": "stream",
     "text": [
      " 60%|██████    | 299/497 [02:23<01:55,  1.71it/s]"
     ]
    },
    {
     "name": "stdout",
     "output_type": "stream",
     "text": [
      "111\n"
     ]
    },
    {
     "name": "stderr",
     "output_type": "stream",
     "text": [
      " 63%|██████▎   | 311/497 [02:28<01:49,  1.70it/s]"
     ]
    },
    {
     "name": "stdout",
     "output_type": "stream",
     "text": [
      "111\n"
     ]
    },
    {
     "name": "stderr",
     "output_type": "stream",
     "text": [
      " 65%|██████▍   | 321/497 [02:33<01:43,  1.71it/s]"
     ]
    },
    {
     "name": "stdout",
     "output_type": "stream",
     "text": [
      "111\n"
     ]
    },
    {
     "name": "stderr",
     "output_type": "stream",
     "text": [
      " 67%|██████▋   | 332/497 [02:38<01:36,  1.71it/s]"
     ]
    },
    {
     "name": "stdout",
     "output_type": "stream",
     "text": [
      "111\n"
     ]
    },
    {
     "name": "stderr",
     "output_type": "stream",
     "text": [
      " 69%|██████▉   | 342/497 [02:42<01:30,  1.72it/s]"
     ]
    },
    {
     "name": "stdout",
     "output_type": "stream",
     "text": [
      "111\n"
     ]
    },
    {
     "name": "stderr",
     "output_type": "stream",
     "text": [
      " 71%|███████   | 352/497 [02:47<01:24,  1.73it/s]"
     ]
    },
    {
     "name": "stdout",
     "output_type": "stream",
     "text": [
      "111\n"
     ]
    },
    {
     "name": "stderr",
     "output_type": "stream",
     "text": [
      " 73%|███████▎  | 362/497 [02:51<01:18,  1.73it/s]"
     ]
    },
    {
     "name": "stdout",
     "output_type": "stream",
     "text": [
      "111\n"
     ]
    },
    {
     "name": "stderr",
     "output_type": "stream",
     "text": [
      " 75%|███████▍  | 372/497 [02:56<01:12,  1.72it/s]"
     ]
    },
    {
     "name": "stdout",
     "output_type": "stream",
     "text": [
      "111\n"
     ]
    },
    {
     "name": "stderr",
     "output_type": "stream",
     "text": [
      " 77%|███████▋  | 382/497 [03:00<01:06,  1.73it/s]"
     ]
    },
    {
     "name": "stdout",
     "output_type": "stream",
     "text": [
      "111\n"
     ]
    },
    {
     "name": "stderr",
     "output_type": "stream",
     "text": [
      " 79%|███████▉  | 392/497 [03:05<01:01,  1.72it/s]"
     ]
    },
    {
     "name": "stdout",
     "output_type": "stream",
     "text": [
      "111\n"
     ]
    },
    {
     "name": "stderr",
     "output_type": "stream",
     "text": [
      " 81%|████████  | 401/497 [03:09<00:55,  1.73it/s]"
     ]
    },
    {
     "name": "stdout",
     "output_type": "stream",
     "text": [
      "111\n"
     ]
    },
    {
     "name": "stderr",
     "output_type": "stream",
     "text": [
      " 83%|████████▎ | 412/497 [03:14<00:49,  1.72it/s]"
     ]
    },
    {
     "name": "stdout",
     "output_type": "stream",
     "text": [
      "111\n"
     ]
    },
    {
     "name": "stderr",
     "output_type": "stream",
     "text": [
      " 85%|████████▌ | 423/497 [03:19<00:43,  1.70it/s]"
     ]
    },
    {
     "name": "stdout",
     "output_type": "stream",
     "text": [
      "111\n"
     ]
    },
    {
     "name": "stderr",
     "output_type": "stream",
     "text": [
      " 87%|████████▋ | 434/497 [03:24<00:37,  1.69it/s]"
     ]
    },
    {
     "name": "stdout",
     "output_type": "stream",
     "text": [
      "111\n"
     ]
    },
    {
     "name": "stderr",
     "output_type": "stream",
     "text": [
      " 90%|████████▉ | 446/497 [03:29<00:30,  1.69it/s]"
     ]
    },
    {
     "name": "stdout",
     "output_type": "stream",
     "text": [
      "111\n"
     ]
    },
    {
     "name": "stderr",
     "output_type": "stream",
     "text": [
      " 92%|█████████▏| 456/497 [03:34<00:24,  1.70it/s]"
     ]
    },
    {
     "name": "stdout",
     "output_type": "stream",
     "text": [
      "111\n"
     ]
    },
    {
     "name": "stderr",
     "output_type": "stream",
     "text": [
      " 94%|█████████▍| 468/497 [03:39<00:17,  1.70it/s]"
     ]
    },
    {
     "name": "stdout",
     "output_type": "stream",
     "text": [
      "111\n"
     ]
    },
    {
     "name": "stderr",
     "output_type": "stream",
     "text": [
      " 96%|█████████▌| 478/497 [03:44<00:11,  1.72it/s]"
     ]
    },
    {
     "name": "stdout",
     "output_type": "stream",
     "text": [
      "111\n"
     ]
    },
    {
     "name": "stderr",
     "output_type": "stream",
     "text": [
      " 98%|█████████▊| 488/497 [03:48<00:05,  1.72it/s]"
     ]
    },
    {
     "name": "stdout",
     "output_type": "stream",
     "text": [
      "111\n"
     ]
    },
    {
     "name": "stderr",
     "output_type": "stream",
     "text": [
      "100%|██████████| 497/497 [03:52<00:00,  2.14it/s]\n"
     ]
    }
   ],
   "source": [
    "from geopy.geocoders import Nominatim\n",
    "from tqdm import tqdm\n",
    "geolocator = Nominatim(user_agent=\"specify_your_app_name_here\")\n",
    "d={}\n",
    "k=data_1[\"region\"].unique()\n",
    "for i in tqdm(range(len(k))):\n",
    "    try:\n",
    "      location = geolocator.geocode(i)\n",
    "      if not location:\n",
    "          d[k[i]]=(0,0)\n",
    "      else:\n",
    "          d[k[i]]=(location.latitude, location.longitude)\n",
    "    except:\n",
    "      print(111)\n",
    "      d[k[i]]=(0,0)"
   ]
  },
  {
   "cell_type": "code",
   "execution_count": 46,
   "metadata": {
    "colab": {},
    "colab_type": "code",
    "id": "GA-WXI2Gsftu"
   },
   "outputs": [],
   "source": [
    "l=[[],[]]\n",
    "for v,k in zip(d.values(),d.keys()):\n",
    "  if d[k]!=(0,0):\n",
    "    l[0].append(d[k][0])\n",
    "    l[1].append(d[k][1])\n",
    "mean=(sum(l[0])/len(l[0]),sum(l[1])/len(l[1]))\n",
    "for v,k in zip(d.values(),d.keys()):\n",
    "  if d[k]==(0,0):\n",
    "    d[k]=mean"
   ]
  },
  {
   "cell_type": "code",
   "execution_count": 47,
   "metadata": {
    "colab": {
     "base_uri": "https://localhost:8080/",
     "height": 204
    },
    "colab_type": "code",
    "executionInfo": {
     "elapsed": 505210,
     "status": "ok",
     "timestamp": 1575593943063,
     "user": {
      "displayName": "Haoxue Li",
      "photoUrl": "",
      "userId": "02132541566044588005"
     },
     "user_tz": 300
    },
    "id": "AX5wcm6X1HRG",
    "outputId": "0a8c40d4-28e9-4977-9f59-9d7c2db91651"
   },
   "outputs": [
    {
     "data": {
      "text/html": [
       "<div>\n",
       "<style scoped>\n",
       "    .dataframe tbody tr th:only-of-type {\n",
       "        vertical-align: middle;\n",
       "    }\n",
       "\n",
       "    .dataframe tbody tr th {\n",
       "        vertical-align: top;\n",
       "    }\n",
       "\n",
       "    .dataframe thead th {\n",
       "        text-align: right;\n",
       "    }\n",
       "</style>\n",
       "<table border=\"1\" class=\"dataframe\">\n",
       "  <thead>\n",
       "    <tr style=\"text-align: right;\">\n",
       "      <th></th>\n",
       "      <th>session_key</th>\n",
       "      <th>item_key</th>\n",
       "      <th>time_key</th>\n",
       "      <th>city</th>\n",
       "      <th>region</th>\n",
       "      <th>deviceType</th>\n",
       "      <th>lat</th>\n",
       "      <th>long</th>\n",
       "    </tr>\n",
       "  </thead>\n",
       "  <tbody>\n",
       "    <tr>\n",
       "      <td>0</td>\n",
       "      <td>2</td>\n",
       "      <td>0</td>\n",
       "      <td>1483305738</td>\n",
       "      <td>oslo</td>\n",
       "      <td>oslo</td>\n",
       "      <td>Desktop</td>\n",
       "      <td>47.392863</td>\n",
       "      <td>27.703550</td>\n",
       "    </tr>\n",
       "    <tr>\n",
       "      <td>1</td>\n",
       "      <td>2</td>\n",
       "      <td>1</td>\n",
       "      <td>1483305786</td>\n",
       "      <td>oslo</td>\n",
       "      <td>oslo</td>\n",
       "      <td>Desktop</td>\n",
       "      <td>47.392863</td>\n",
       "      <td>27.703550</td>\n",
       "    </tr>\n",
       "    <tr>\n",
       "      <td>2</td>\n",
       "      <td>2</td>\n",
       "      <td>2</td>\n",
       "      <td>1483305801</td>\n",
       "      <td>oslo</td>\n",
       "      <td>oslo</td>\n",
       "      <td>Desktop</td>\n",
       "      <td>47.392863</td>\n",
       "      <td>27.703550</td>\n",
       "    </tr>\n",
       "    <tr>\n",
       "      <td>3</td>\n",
       "      <td>4</td>\n",
       "      <td>3</td>\n",
       "      <td>1483260265</td>\n",
       "      <td>brumunddal</td>\n",
       "      <td>hedmark</td>\n",
       "      <td>Desktop</td>\n",
       "      <td>22.351115</td>\n",
       "      <td>78.667743</td>\n",
       "    </tr>\n",
       "    <tr>\n",
       "      <td>4</td>\n",
       "      <td>5</td>\n",
       "      <td>4</td>\n",
       "      <td>1483271454</td>\n",
       "      <td>brumunddal</td>\n",
       "      <td>hedmark</td>\n",
       "      <td>Desktop</td>\n",
       "      <td>22.351115</td>\n",
       "      <td>78.667743</td>\n",
       "    </tr>\n",
       "  </tbody>\n",
       "</table>\n",
       "</div>"
      ],
      "text/plain": [
       "   session_key  item_key    time_key        city   region deviceType  \\\n",
       "0            2         0  1483305738        oslo     oslo    Desktop   \n",
       "1            2         1  1483305786        oslo     oslo    Desktop   \n",
       "2            2         2  1483305801        oslo     oslo    Desktop   \n",
       "3            4         3  1483260265  brumunddal  hedmark    Desktop   \n",
       "4            5         4  1483271454  brumunddal  hedmark    Desktop   \n",
       "\n",
       "         lat       long  \n",
       "0  47.392863  27.703550  \n",
       "1  47.392863  27.703550  \n",
       "2  47.392863  27.703550  \n",
       "3  22.351115  78.667743  \n",
       "4  22.351115  78.667743  "
      ]
     },
     "execution_count": 47,
     "metadata": {},
     "output_type": "execute_result"
    }
   ],
   "source": [
    "tmp=data_1[\"region\"].map(d)\n",
    "region_data=data_1\n",
    "region_data[\"lat\"]=tmp.apply(lambda x:x[0])\n",
    "region_data[\"long\"]=tmp.apply(lambda x:x[1])\n",
    "region_data.to_csv(\"./data/day_one_article_only_region.csv\")\n",
    "region_data.head()"
   ]
  },
  {
   "cell_type": "code",
   "execution_count": 48,
   "metadata": {
    "colab": {
     "base_uri": "https://localhost:8080/",
     "height": 204
    },
    "colab_type": "code",
    "executionInfo": {
     "elapsed": 508225,
     "status": "ok",
     "timestamp": 1575593947575,
     "user": {
      "displayName": "Haoxue Li",
      "photoUrl": "",
      "userId": "02132541566044588005"
     },
     "user_tz": 300
    },
    "id": "aVvsZpoK1HRU",
    "outputId": "54309242-623a-4b1e-bf64-97438c09cee2"
   },
   "outputs": [
    {
     "data": {
      "text/html": [
       "<div>\n",
       "<style scoped>\n",
       "    .dataframe tbody tr th:only-of-type {\n",
       "        vertical-align: middle;\n",
       "    }\n",
       "\n",
       "    .dataframe tbody tr th {\n",
       "        vertical-align: top;\n",
       "    }\n",
       "\n",
       "    .dataframe thead th {\n",
       "        text-align: right;\n",
       "    }\n",
       "</style>\n",
       "<table border=\"1\" class=\"dataframe\">\n",
       "  <thead>\n",
       "    <tr style=\"text-align: right;\">\n",
       "      <th></th>\n",
       "      <th>session_key</th>\n",
       "      <th>item_key</th>\n",
       "      <th>time_key</th>\n",
       "      <th>city</th>\n",
       "      <th>region</th>\n",
       "      <th>deviceType</th>\n",
       "      <th>lat</th>\n",
       "      <th>long</th>\n",
       "    </tr>\n",
       "  </thead>\n",
       "  <tbody>\n",
       "    <tr>\n",
       "      <td>0</td>\n",
       "      <td>2</td>\n",
       "      <td>0</td>\n",
       "      <td>1483305738</td>\n",
       "      <td>oslo</td>\n",
       "      <td>oslo</td>\n",
       "      <td>Desktop</td>\n",
       "      <td>47.392863</td>\n",
       "      <td>27.703550</td>\n",
       "    </tr>\n",
       "    <tr>\n",
       "      <td>1</td>\n",
       "      <td>2</td>\n",
       "      <td>1</td>\n",
       "      <td>1483305786</td>\n",
       "      <td>oslo</td>\n",
       "      <td>oslo</td>\n",
       "      <td>Desktop</td>\n",
       "      <td>47.392863</td>\n",
       "      <td>27.703550</td>\n",
       "    </tr>\n",
       "    <tr>\n",
       "      <td>2</td>\n",
       "      <td>2</td>\n",
       "      <td>1</td>\n",
       "      <td>1483305801</td>\n",
       "      <td>oslo</td>\n",
       "      <td>oslo</td>\n",
       "      <td>Desktop</td>\n",
       "      <td>47.392863</td>\n",
       "      <td>27.703550</td>\n",
       "    </tr>\n",
       "    <tr>\n",
       "      <td>3</td>\n",
       "      <td>4</td>\n",
       "      <td>0</td>\n",
       "      <td>1483260265</td>\n",
       "      <td>brumunddal</td>\n",
       "      <td>hedmark</td>\n",
       "      <td>Desktop</td>\n",
       "      <td>22.351115</td>\n",
       "      <td>78.667743</td>\n",
       "    </tr>\n",
       "    <tr>\n",
       "      <td>4</td>\n",
       "      <td>5</td>\n",
       "      <td>2</td>\n",
       "      <td>1483271454</td>\n",
       "      <td>brumunddal</td>\n",
       "      <td>hedmark</td>\n",
       "      <td>Desktop</td>\n",
       "      <td>22.351115</td>\n",
       "      <td>78.667743</td>\n",
       "    </tr>\n",
       "  </tbody>\n",
       "</table>\n",
       "</div>"
      ],
      "text/plain": [
       "   session_key  item_key    time_key        city   region deviceType  \\\n",
       "0            2         0  1483305738        oslo     oslo    Desktop   \n",
       "1            2         1  1483305786        oslo     oslo    Desktop   \n",
       "2            2         1  1483305801        oslo     oslo    Desktop   \n",
       "3            4         0  1483260265  brumunddal  hedmark    Desktop   \n",
       "4            5         2  1483271454  brumunddal  hedmark    Desktop   \n",
       "\n",
       "         lat       long  \n",
       "0  47.392863  27.703550  \n",
       "1  47.392863  27.703550  \n",
       "2  47.392863  27.703550  \n",
       "3  22.351115  78.667743  \n",
       "4  22.351115  78.667743  "
      ]
     },
     "execution_count": 48,
     "metadata": {},
     "output_type": "execute_result"
    }
   ],
   "source": [
    "tmp=data_2[\"region\"].map(d)\n",
    "region_data=data_2\n",
    "region_data[\"lat\"]=tmp.apply(lambda x:x[0])\n",
    "region_data[\"long\"]=tmp.apply(lambda x:x[1])\n",
    "region_data.to_csv(\"./data/day_one_category_only_region.csv\")\n",
    "region_data.head()"
   ]
  },
  {
   "cell_type": "markdown",
   "metadata": {
    "colab_type": "text",
    "id": "QJ43p97k4tXj"
   },
   "source": [
    "## Combine"
   ]
  },
  {
   "cell_type": "code",
   "execution_count": 49,
   "metadata": {
    "colab": {
     "base_uri": "https://localhost:8080/",
     "height": 289
    },
    "colab_type": "code",
    "executionInfo": {
     "elapsed": 507066,
     "status": "ok",
     "timestamp": 1575593947811,
     "user": {
      "displayName": "Haoxue Li",
      "photoUrl": "",
      "userId": "02132541566044588005"
     },
     "user_tz": 300
    },
    "id": "0IiRwHwP4uom",
    "outputId": "0a4abc1b-8f22-453a-e991-7d3e633b4fda"
   },
   "outputs": [
    {
     "data": {
      "text/plain": [
       "(   Unnamed: 0  session_key  item_key    time_key        city   region  \\\n",
       " 0           0            2         0  1483305738        oslo     oslo   \n",
       " 1           1            2         1  1483305786        oslo     oslo   \n",
       " 2           2            2         2  1483305801        oslo     oslo   \n",
       " 3           3            4         3  1483260265  brumunddal  hedmark   \n",
       " 4           4            5         4  1483271454  brumunddal  hedmark   \n",
       " \n",
       "   deviceType        lat       long  \n",
       " 0    Desktop  47.392863  27.703550  \n",
       " 1    Desktop  47.392863  27.703550  \n",
       " 2    Desktop  47.392863  27.703550  \n",
       " 3    Desktop  22.351115  78.667743  \n",
       " 4    Desktop  22.351115  78.667743  ,\n",
       "    Unnamed: 0  session_key  item_key    time_key        city   region  \\\n",
       " 0           0            2         0  1483305738        oslo     oslo   \n",
       " 1           1            2         1  1483305786        oslo     oslo   \n",
       " 2           2            2         2  1483305801        oslo     oslo   \n",
       " 3           3            4         3  1483260265  brumunddal  hedmark   \n",
       " 4           4            5         4  1483271454  brumunddal  hedmark   \n",
       " \n",
       "   deviceType  Desktop  Mobile  Tablet  \n",
       " 0    Desktop        1       0       0  \n",
       " 1    Desktop        1       0       0  \n",
       " 2    Desktop        1       0       0  \n",
       " 3    Desktop        1       0       0  \n",
       " 4    Desktop        1       0       0  )"
      ]
     },
     "execution_count": 49,
     "metadata": {},
     "output_type": "execute_result"
    }
   ],
   "source": [
    "region=pd.read_csv(\"./data/day_one_article_only_region.csv\")\n",
    "device=pd.read_csv(\"./data/day_one_article_only_device.csv\")\n",
    "region.head(),device.head()"
   ]
  },
  {
   "cell_type": "code",
   "execution_count": 50,
   "metadata": {
    "colab": {
     "base_uri": "https://localhost:8080/",
     "height": 204
    },
    "colab_type": "code",
    "executionInfo": {
     "elapsed": 512232,
     "status": "ok",
     "timestamp": 1575593954154,
     "user": {
      "displayName": "Haoxue Li",
      "photoUrl": "",
      "userId": "02132541566044588005"
     },
     "user_tz": 300
    },
    "id": "yB1nKdIg61-k",
    "outputId": "a3e6cc68-e558-4846-f8ad-f9239052db3e"
   },
   "outputs": [
    {
     "data": {
      "text/html": [
       "<div>\n",
       "<style scoped>\n",
       "    .dataframe tbody tr th:only-of-type {\n",
       "        vertical-align: middle;\n",
       "    }\n",
       "\n",
       "    .dataframe tbody tr th {\n",
       "        vertical-align: top;\n",
       "    }\n",
       "\n",
       "    .dataframe thead th {\n",
       "        text-align: right;\n",
       "    }\n",
       "</style>\n",
       "<table border=\"1\" class=\"dataframe\">\n",
       "  <thead>\n",
       "    <tr style=\"text-align: right;\">\n",
       "      <th></th>\n",
       "      <th>Unnamed: 0</th>\n",
       "      <th>session_key</th>\n",
       "      <th>item_key</th>\n",
       "      <th>time_key</th>\n",
       "      <th>city</th>\n",
       "      <th>region</th>\n",
       "      <th>deviceType</th>\n",
       "      <th>lat</th>\n",
       "      <th>long</th>\n",
       "      <th>Desktop</th>\n",
       "      <th>Mobile</th>\n",
       "      <th>Tablet</th>\n",
       "    </tr>\n",
       "  </thead>\n",
       "  <tbody>\n",
       "    <tr>\n",
       "      <td>0</td>\n",
       "      <td>0</td>\n",
       "      <td>2</td>\n",
       "      <td>0</td>\n",
       "      <td>1483305738</td>\n",
       "      <td>oslo</td>\n",
       "      <td>oslo</td>\n",
       "      <td>Desktop</td>\n",
       "      <td>47.392863</td>\n",
       "      <td>27.703550</td>\n",
       "      <td>1</td>\n",
       "      <td>0</td>\n",
       "      <td>0</td>\n",
       "    </tr>\n",
       "    <tr>\n",
       "      <td>1</td>\n",
       "      <td>1</td>\n",
       "      <td>2</td>\n",
       "      <td>1</td>\n",
       "      <td>1483305786</td>\n",
       "      <td>oslo</td>\n",
       "      <td>oslo</td>\n",
       "      <td>Desktop</td>\n",
       "      <td>47.392863</td>\n",
       "      <td>27.703550</td>\n",
       "      <td>1</td>\n",
       "      <td>0</td>\n",
       "      <td>0</td>\n",
       "    </tr>\n",
       "    <tr>\n",
       "      <td>2</td>\n",
       "      <td>2</td>\n",
       "      <td>2</td>\n",
       "      <td>2</td>\n",
       "      <td>1483305801</td>\n",
       "      <td>oslo</td>\n",
       "      <td>oslo</td>\n",
       "      <td>Desktop</td>\n",
       "      <td>47.392863</td>\n",
       "      <td>27.703550</td>\n",
       "      <td>1</td>\n",
       "      <td>0</td>\n",
       "      <td>0</td>\n",
       "    </tr>\n",
       "    <tr>\n",
       "      <td>3</td>\n",
       "      <td>3</td>\n",
       "      <td>4</td>\n",
       "      <td>3</td>\n",
       "      <td>1483260265</td>\n",
       "      <td>brumunddal</td>\n",
       "      <td>hedmark</td>\n",
       "      <td>Desktop</td>\n",
       "      <td>22.351115</td>\n",
       "      <td>78.667743</td>\n",
       "      <td>1</td>\n",
       "      <td>0</td>\n",
       "      <td>0</td>\n",
       "    </tr>\n",
       "    <tr>\n",
       "      <td>4</td>\n",
       "      <td>4</td>\n",
       "      <td>5</td>\n",
       "      <td>4</td>\n",
       "      <td>1483271454</td>\n",
       "      <td>brumunddal</td>\n",
       "      <td>hedmark</td>\n",
       "      <td>Desktop</td>\n",
       "      <td>22.351115</td>\n",
       "      <td>78.667743</td>\n",
       "      <td>1</td>\n",
       "      <td>0</td>\n",
       "      <td>0</td>\n",
       "    </tr>\n",
       "  </tbody>\n",
       "</table>\n",
       "</div>"
      ],
      "text/plain": [
       "   Unnamed: 0  session_key  item_key    time_key        city   region  \\\n",
       "0           0            2         0  1483305738        oslo     oslo   \n",
       "1           1            2         1  1483305786        oslo     oslo   \n",
       "2           2            2         2  1483305801        oslo     oslo   \n",
       "3           3            4         3  1483260265  brumunddal  hedmark   \n",
       "4           4            5         4  1483271454  brumunddal  hedmark   \n",
       "\n",
       "  deviceType        lat       long  Desktop  Mobile  Tablet  \n",
       "0    Desktop  47.392863  27.703550        1       0       0  \n",
       "1    Desktop  47.392863  27.703550        1       0       0  \n",
       "2    Desktop  47.392863  27.703550        1       0       0  \n",
       "3    Desktop  22.351115  78.667743        1       0       0  \n",
       "4    Desktop  22.351115  78.667743        1       0       0  "
      ]
     },
     "execution_count": 50,
     "metadata": {},
     "output_type": "execute_result"
    }
   ],
   "source": [
    "device=device[[\"Desktop\",\"Mobile\",\"Tablet\"]]\n",
    "combine=region.join(device)\n",
    "combine.to_csv(\"./data/day_one_article_region_device.csv\")\n",
    "combine.head()"
   ]
  },
  {
   "cell_type": "code",
   "execution_count": 51,
   "metadata": {
    "colab": {
     "base_uri": "https://localhost:8080/",
     "height": 289
    },
    "colab_type": "code",
    "executionInfo": {
     "elapsed": 511655,
     "status": "ok",
     "timestamp": 1575593954839,
     "user": {
      "displayName": "Haoxue Li",
      "photoUrl": "",
      "userId": "02132541566044588005"
     },
     "user_tz": 300
    },
    "id": "v1rnAMBY5S_X",
    "outputId": "71d93db7-f34e-442d-b345-bc4b5e6d5257"
   },
   "outputs": [
    {
     "data": {
      "text/plain": [
       "(   Unnamed: 0  session_key  item_key    time_key        city   region  \\\n",
       " 0           0            2         0  1483305738        oslo     oslo   \n",
       " 1           1            2         1  1483305786        oslo     oslo   \n",
       " 2           2            2         1  1483305801        oslo     oslo   \n",
       " 3           3            4         0  1483260265  brumunddal  hedmark   \n",
       " 4           4            5         2  1483271454  brumunddal  hedmark   \n",
       " \n",
       "   deviceType        lat       long  \n",
       " 0    Desktop  47.392863  27.703550  \n",
       " 1    Desktop  47.392863  27.703550  \n",
       " 2    Desktop  47.392863  27.703550  \n",
       " 3    Desktop  22.351115  78.667743  \n",
       " 4    Desktop  22.351115  78.667743  ,\n",
       "    Unnamed: 0  session_key  item_key    time_key        city   region  \\\n",
       " 0           0            2         0  1483305738        oslo     oslo   \n",
       " 1           1            2         1  1483305786        oslo     oslo   \n",
       " 2           2            2         1  1483305801        oslo     oslo   \n",
       " 3           3            4         0  1483260265  brumunddal  hedmark   \n",
       " 4           4            5         2  1483271454  brumunddal  hedmark   \n",
       " \n",
       "   deviceType  Desktop  Mobile  Tablet  \n",
       " 0    Desktop        1       0       0  \n",
       " 1    Desktop        1       0       0  \n",
       " 2    Desktop        1       0       0  \n",
       " 3    Desktop        1       0       0  \n",
       " 4    Desktop        1       0       0  )"
      ]
     },
     "execution_count": 51,
     "metadata": {},
     "output_type": "execute_result"
    }
   ],
   "source": [
    "region=pd.read_csv(\"./data/day_one_category_only_region.csv\")\n",
    "device=pd.read_csv(\"./data/day_one_category_only_device.csv\")\n",
    "region.head(),device.head()"
   ]
  },
  {
   "cell_type": "code",
   "execution_count": 52,
   "metadata": {
    "colab": {
     "base_uri": "https://localhost:8080/",
     "height": 204
    },
    "colab_type": "code",
    "executionInfo": {
     "elapsed": 516013,
     "status": "ok",
     "timestamp": 1575593960630,
     "user": {
      "displayName": "Haoxue Li",
      "photoUrl": "",
      "userId": "02132541566044588005"
     },
     "user_tz": 300
    },
    "id": "Nyp1SQEz7Q6f",
    "outputId": "bc378c58-2364-4824-bb6e-c3df14a6b75b"
   },
   "outputs": [
    {
     "data": {
      "text/html": [
       "<div>\n",
       "<style scoped>\n",
       "    .dataframe tbody tr th:only-of-type {\n",
       "        vertical-align: middle;\n",
       "    }\n",
       "\n",
       "    .dataframe tbody tr th {\n",
       "        vertical-align: top;\n",
       "    }\n",
       "\n",
       "    .dataframe thead th {\n",
       "        text-align: right;\n",
       "    }\n",
       "</style>\n",
       "<table border=\"1\" class=\"dataframe\">\n",
       "  <thead>\n",
       "    <tr style=\"text-align: right;\">\n",
       "      <th></th>\n",
       "      <th>Unnamed: 0</th>\n",
       "      <th>session_key</th>\n",
       "      <th>item_key</th>\n",
       "      <th>time_key</th>\n",
       "      <th>city</th>\n",
       "      <th>region</th>\n",
       "      <th>deviceType</th>\n",
       "      <th>lat</th>\n",
       "      <th>long</th>\n",
       "      <th>Desktop</th>\n",
       "      <th>Mobile</th>\n",
       "      <th>Tablet</th>\n",
       "    </tr>\n",
       "  </thead>\n",
       "  <tbody>\n",
       "    <tr>\n",
       "      <td>0</td>\n",
       "      <td>0</td>\n",
       "      <td>2</td>\n",
       "      <td>0</td>\n",
       "      <td>1483305738</td>\n",
       "      <td>oslo</td>\n",
       "      <td>oslo</td>\n",
       "      <td>Desktop</td>\n",
       "      <td>47.392863</td>\n",
       "      <td>27.703550</td>\n",
       "      <td>1</td>\n",
       "      <td>0</td>\n",
       "      <td>0</td>\n",
       "    </tr>\n",
       "    <tr>\n",
       "      <td>1</td>\n",
       "      <td>1</td>\n",
       "      <td>2</td>\n",
       "      <td>1</td>\n",
       "      <td>1483305786</td>\n",
       "      <td>oslo</td>\n",
       "      <td>oslo</td>\n",
       "      <td>Desktop</td>\n",
       "      <td>47.392863</td>\n",
       "      <td>27.703550</td>\n",
       "      <td>1</td>\n",
       "      <td>0</td>\n",
       "      <td>0</td>\n",
       "    </tr>\n",
       "    <tr>\n",
       "      <td>2</td>\n",
       "      <td>2</td>\n",
       "      <td>2</td>\n",
       "      <td>1</td>\n",
       "      <td>1483305801</td>\n",
       "      <td>oslo</td>\n",
       "      <td>oslo</td>\n",
       "      <td>Desktop</td>\n",
       "      <td>47.392863</td>\n",
       "      <td>27.703550</td>\n",
       "      <td>1</td>\n",
       "      <td>0</td>\n",
       "      <td>0</td>\n",
       "    </tr>\n",
       "    <tr>\n",
       "      <td>3</td>\n",
       "      <td>3</td>\n",
       "      <td>4</td>\n",
       "      <td>0</td>\n",
       "      <td>1483260265</td>\n",
       "      <td>brumunddal</td>\n",
       "      <td>hedmark</td>\n",
       "      <td>Desktop</td>\n",
       "      <td>22.351115</td>\n",
       "      <td>78.667743</td>\n",
       "      <td>1</td>\n",
       "      <td>0</td>\n",
       "      <td>0</td>\n",
       "    </tr>\n",
       "    <tr>\n",
       "      <td>4</td>\n",
       "      <td>4</td>\n",
       "      <td>5</td>\n",
       "      <td>2</td>\n",
       "      <td>1483271454</td>\n",
       "      <td>brumunddal</td>\n",
       "      <td>hedmark</td>\n",
       "      <td>Desktop</td>\n",
       "      <td>22.351115</td>\n",
       "      <td>78.667743</td>\n",
       "      <td>1</td>\n",
       "      <td>0</td>\n",
       "      <td>0</td>\n",
       "    </tr>\n",
       "  </tbody>\n",
       "</table>\n",
       "</div>"
      ],
      "text/plain": [
       "   Unnamed: 0  session_key  item_key    time_key        city   region  \\\n",
       "0           0            2         0  1483305738        oslo     oslo   \n",
       "1           1            2         1  1483305786        oslo     oslo   \n",
       "2           2            2         1  1483305801        oslo     oslo   \n",
       "3           3            4         0  1483260265  brumunddal  hedmark   \n",
       "4           4            5         2  1483271454  brumunddal  hedmark   \n",
       "\n",
       "  deviceType        lat       long  Desktop  Mobile  Tablet  \n",
       "0    Desktop  47.392863  27.703550        1       0       0  \n",
       "1    Desktop  47.392863  27.703550        1       0       0  \n",
       "2    Desktop  47.392863  27.703550        1       0       0  \n",
       "3    Desktop  22.351115  78.667743        1       0       0  \n",
       "4    Desktop  22.351115  78.667743        1       0       0  "
      ]
     },
     "execution_count": 52,
     "metadata": {},
     "output_type": "execute_result"
    }
   ],
   "source": [
    "device=device[[\"Desktop\",\"Mobile\",\"Tablet\"]]\n",
    "combine=region.join(device)\n",
    "combine.to_csv(\"./data/day_one_category_region_device.csv\")\n",
    "combine.head()"
   ]
  },
  {
   "cell_type": "code",
   "execution_count": null,
   "metadata": {},
   "outputs": [],
   "source": []
  },
  {
   "cell_type": "code",
   "execution_count": null,
   "metadata": {},
   "outputs": [],
   "source": []
  }
 ],
 "metadata": {
  "colab": {
   "collapsed_sections": [],
   "name": "2. Data exploration.ipynb",
   "provenance": []
  },
  "kernelspec": {
   "display_name": "Python 3",
   "language": "python",
   "name": "python3"
  },
  "language_info": {
   "codemirror_mode": {
    "name": "ipython",
    "version": 3
   },
   "file_extension": ".py",
   "mimetype": "text/x-python",
   "name": "python",
   "nbconvert_exporter": "python",
   "pygments_lexer": "ipython3",
   "version": "3.7.4"
  }
 },
 "nbformat": 4,
 "nbformat_minor": 4
}
=======
{"nbformat":4,"nbformat_minor":0,"metadata":{"kernelspec":{"display_name":"Python 3","language":"python","name":"python3"},"language_info":{"codemirror_mode":{"name":"ipython","version":3},"file_extension":".py","mimetype":"text/x-python","name":"python","nbconvert_exporter":"python","pygments_lexer":"ipython3","version":"3.7.4"},"colab":{"name":"2. Data exploration.ipynb","provenance":[],"collapsed_sections":[]}},"cells":[{"cell_type":"code","metadata":{"id":"FAOl6HOx1pEz","colab_type":"code","outputId":"9834aa8b-2f91-41e1-8ab5-03afa536c761","executionInfo":{"status":"ok","timestamp":1575755594202,"user_tz":300,"elapsed":26139,"user":{"displayName":"Gaomin Wu","photoUrl":"","userId":"05585133387136783154"}},"colab":{"base_uri":"https://localhost:8080/","height":124}},"source":["from google.colab import drive\n","drive.mount('/content/drive')"],"execution_count":0,"outputs":[{"output_type":"stream","text":["Go to this URL in a browser: https://accounts.google.com/o/oauth2/auth?client_id=947318989803-6bn6qk8qdgf4n4g3pfee6491hc0brc4i.apps.googleusercontent.com&redirect_uri=urn%3aietf%3awg%3aoauth%3a2.0%3aoob&response_type=code&scope=email%20https%3a%2f%2fwww.googleapis.com%2fauth%2fdocs.test%20https%3a%2f%2fwww.googleapis.com%2fauth%2fdrive%20https%3a%2f%2fwww.googleapis.com%2fauth%2fdrive.photos.readonly%20https%3a%2f%2fwww.googleapis.com%2fauth%2fpeopleapi.readonly\n","\n","Enter your authorization code:\n","··········\n","Mounted at /content/drive\n"],"name":"stdout"}]},{"cell_type":"markdown","metadata":{"id":"S785XjQQ1HQb","colab_type":"text"},"source":["# Import"]},{"cell_type":"code","metadata":{"id":"YVCI7K3k1HQd","colab_type":"code","colab":{}},"source":["import pandas as pd\n","import numpy as np\n","from pprint import pprint\n","import os\n","from tqdm import tqdm\n","from sklearn.model_selection import train_test_split\n","from sklearn.metrics.pairwise import cosine_similarity\n","import time\n","from _operator import itemgetter\n","from math import sqrt\n","import random \n","import time\n","import matplotlib.pyplot as plt\n","%matplotlib inline"],"execution_count":0,"outputs":[]},{"cell_type":"code","metadata":{"id":"MOb992AK1HQh","colab_type":"code","colab":{}},"source":["path=\"drive/My Drive/1001_project_Total/Data/\"\n","df1=pd.read_csv(path+\"20170101_sknn.csv\")"],"execution_count":0,"outputs":[]},{"cell_type":"code","metadata":{"id":"T21VgitQ1HQk","colab_type":"code","outputId":"384e14ec-fbe8-4bda-83eb-e037b38f95df","executionInfo":{"status":"ok","timestamp":1575759603365,"user_tz":300,"elapsed":10847,"user":{"displayName":"Haoxue Li","photoUrl":"","userId":"02132541566044588005"}},"colab":{"base_uri":"https://localhost:8080/","height":139}},"source":["df=df1.drop(\"Unnamed: 0\",1)\n","df.columns"],"execution_count":4,"outputs":[{"output_type":"execute_result","data":{"text/plain":["Index(['profile', 'category1', 'canonicalUrl', 'referrerHostClass',\n","       'sessionStop', 'userId', 'publishtime', 'sessionStart', 'referrerUrl',\n","       'keywords', 'id', 'eventId', 'city', 'title', 'url', 'country',\n","       'region', 'author', 'referrerSearchEngine', 'deviceType', 'time', 'os',\n","       'activeTime', 'sessionNo', 'activeTotalTime', 'category_num'],\n","      dtype='object')"]},"metadata":{"tags":[]},"execution_count":4}]},{"cell_type":"code","metadata":{"id":"kls7Obo97kyJ","colab_type":"code","outputId":"18af1761-44b5-4e6b-c550-581ad45dd5a7","executionInfo":{"status":"ok","timestamp":1575759603366,"user_tz":300,"elapsed":9949,"user":{"displayName":"Haoxue Li","photoUrl":"","userId":"02132541566044588005"}},"colab":{"base_uri":"https://localhost:8080/","height":68}},"source":["print(len(df))\n","print(len(df[\"city\"].unique()))\n","print(len(df[\"region\"].unique()))"],"execution_count":5,"outputs":[{"output_type":"stream","text":["252990\n","1861\n","453\n"],"name":"stdout"}]},{"cell_type":"markdown","metadata":{"id":"DcZcMltY1HQo","colab_type":"text"},"source":["# Choose Variables"]},{"cell_type":"code","metadata":{"id":"L13mwxrJ1HQp","colab_type":"code","outputId":"54e3677a-22aa-4126-9443-1749b1834eaf","executionInfo":{"status":"ok","timestamp":1575760268067,"user_tz":300,"elapsed":681,"user":{"displayName":"Haoxue Li","photoUrl":"","userId":"02132541566044588005"}},"colab":{"base_uri":"https://localhost:8080/","height":156}},"source":["articles=df[\"id\"].unique()\n","d={}\n","for i in range(len(articles)):\n","    article=articles[i]\n","    d[article]=i\n","df[\"articleId\"]=df[\"id\"].map(d)\n","df.columns"],"execution_count":38,"outputs":[{"output_type":"execute_result","data":{"text/plain":["Index(['profile', 'category1', 'canonicalUrl', 'referrerHostClass',\n","       'sessionStop', 'userId', 'publishtime', 'sessionStart', 'referrerUrl',\n","       'keywords', 'id', 'eventId', 'city', 'title', 'url', 'country',\n","       'region', 'author', 'referrerSearchEngine', 'deviceType', 'time', 'os',\n","       'activeTime', 'sessionNo', 'activeTotalTime', 'category_num',\n","       'articleId', 'categoryId'],\n","      dtype='object')"]},"metadata":{"tags":[]},"execution_count":38}]},{"cell_type":"code","metadata":{"id":"Uwg9RFxk1HQt","colab_type":"code","outputId":"e1aea53b-d61c-4e82-a446-0d6dd742cf5e","executionInfo":{"status":"ok","timestamp":1575760269167,"user_tz":300,"elapsed":1002,"user":{"displayName":"Haoxue Li","photoUrl":"","userId":"02132541566044588005"}},"colab":{"base_uri":"https://localhost:8080/","height":221}},"source":["#data=df[[\"sessionNo\",\"category_num\",\"time\"]].rename(columns={\"sessionNo\":\"session_key\",\"category_num\": \"item_key\", \"time\":\"time_key\"})\n","data_1=df[[\"sessionNo\",\"articleId\",\"time\",\"city\",\"region\",\"deviceType\"]].rename(columns={\"sessionNo\":\"session_key\",\"articleId\": \"item_key\", \"time\":\"time_key\"})\n","print(\"The length of data with article as itemid: \",len(data_1))\n","data_1.head()"],"execution_count":39,"outputs":[{"output_type":"stream","text":["The length of data with article as itemid:  252990\n"],"name":"stdout"},{"output_type":"execute_result","data":{"text/html":["<div>\n","<style scoped>\n","    .dataframe tbody tr th:only-of-type {\n","        vertical-align: middle;\n","    }\n","\n","    .dataframe tbody tr th {\n","        vertical-align: top;\n","    }\n","\n","    .dataframe thead th {\n","        text-align: right;\n","    }\n","</style>\n","<table border=\"1\" class=\"dataframe\">\n","  <thead>\n","    <tr style=\"text-align: right;\">\n","      <th></th>\n","      <th>session_key</th>\n","      <th>item_key</th>\n","      <th>time_key</th>\n","      <th>city</th>\n","      <th>region</th>\n","      <th>deviceType</th>\n","    </tr>\n","  </thead>\n","  <tbody>\n","    <tr>\n","      <th>0</th>\n","      <td>1</td>\n","      <td>0</td>\n","      <td>1483305738</td>\n","      <td>oslo</td>\n","      <td>oslo</td>\n","      <td>Desktop</td>\n","    </tr>\n","    <tr>\n","      <th>1</th>\n","      <td>2</td>\n","      <td>1</td>\n","      <td>1483260265</td>\n","      <td>brumunddal</td>\n","      <td>hedmark</td>\n","      <td>Desktop</td>\n","    </tr>\n","    <tr>\n","      <th>2</th>\n","      <td>3</td>\n","      <td>2</td>\n","      <td>1483271454</td>\n","      <td>brumunddal</td>\n","      <td>hedmark</td>\n","      <td>Desktop</td>\n","    </tr>\n","    <tr>\n","      <th>3</th>\n","      <td>4</td>\n","      <td>0</td>\n","      <td>1483302497</td>\n","      <td>brumunddal</td>\n","      <td>hedmark</td>\n","      <td>Desktop</td>\n","    </tr>\n","    <tr>\n","      <th>4</th>\n","      <td>6</td>\n","      <td>0</td>\n","      <td>1483309277</td>\n","      <td>trondheim</td>\n","      <td>sor-trondelag</td>\n","      <td>Tablet</td>\n","    </tr>\n","  </tbody>\n","</table>\n","</div>"],"text/plain":["   session_key  item_key    time_key        city         region deviceType\n","0            1         0  1483305738        oslo           oslo    Desktop\n","1            2         1  1483260265  brumunddal        hedmark    Desktop\n","2            3         2  1483271454  brumunddal        hedmark    Desktop\n","3            4         0  1483302497  brumunddal        hedmark    Desktop\n","4            6         0  1483309277   trondheim  sor-trondelag     Tablet"]},"metadata":{"tags":[]},"execution_count":39}]},{"cell_type":"code","metadata":{"id":"GAgN1rh1l4dQ","colab_type":"code","colab":{"base_uri":"https://localhost:8080/","height":782},"outputId":"c8041b61-b988-48db-be05-e62380c3f6ca","executionInfo":{"status":"ok","timestamp":1575761273381,"user_tz":300,"elapsed":830,"user":{"displayName":"Haoxue Li","photoUrl":"","userId":"02132541566044588005"}}},"source":["k=df.groupby([\"id\"]).size()\n","k1=data_1.groupby([\"item_key\"]).size()\n","print(18116/len(data_2))\n","print(k.sort_values(ascending=False)[:20])\n","print(k1.sort_values(ascending=False)[:20])"],"execution_count":79,"outputs":[{"output_type":"stream","text":["0.07160757342187438\n","id\n","71e7c18e889b7e19352cfb63a15bd8aa32c51630    23616\n","68d1503c73ad169dcfff48214fd0274c4d612e63    21071\n","b16b516eefb647edec256ad2f9b2c7a897b9785b    18116\n","ca1952721582ff9e2b6d3555c26ee81a3f3f8fdb    16105\n","2f467692114ca904797b884155dc0d423b5d9c42    12334\n","f2ce698b3daf00cfcac0d5279053c4da9de07a92    11416\n","0867dbb33bb90970ae48592057be34246a0124ac    10838\n","f9ad33b317728440d5ed10efce23ccfbb81e9c70    10397\n","e1f0d81ed8ccb738db28fdfaa51ad3a6b3fc2b8e     9796\n","7dbbd7f3a7ec287bdcbdaf8b8f042732074bf2bd     8522\n","197fa137aae522a87d6bd210610bc2c71191d5fa     8499\n","b28e7c163c39941aa1cbd0b7b3a821576771f893     8277\n","ab8cd0aafcfee80d596f4d4fccf5ea1083ef26d2     6987\n","b5805afe6f42ea5da09270c7184be7a7c4cd8c34     6870\n","3a77a5a627c60c02d40440ea394cb8afb2791862     6845\n","dccdcc4b672df99eabf2dbbfc350c9917dee9a0b     6776\n","05e4209b296dc7dfc9d4e0c401d79256bcea4cb5     6375\n","1d6279f9e08156802519de2929346fd57e974ff1     4877\n","2a00c43cf84f7c433431027845505a0fdc77a55d     3732\n","a02dc58701d0a51ec7717261846fbb9dd4e608af     3668\n","dtype: int64\n","item_key\n","9     23616\n","1     21071\n","17    18116\n","12    16105\n","4     12334\n","8     11416\n","11    10838\n","15    10397\n","14     9796\n","3      8522\n","10     8499\n","0      8277\n","21     6987\n","26     6870\n","33     6845\n","25     6776\n","13     6375\n","19     4877\n","29     3732\n","28     3668\n","dtype: int64\n"],"name":"stdout"}]},{"cell_type":"code","metadata":{"colab_type":"code","outputId":"8819a305-f587-4610-ab92-e537f60b5b42","executionInfo":{"status":"ok","timestamp":1575761180850,"user_tz":300,"elapsed":747,"user":{"displayName":"Haoxue Li","photoUrl":"","userId":"02132541566044588005"}},"id":"I8ZlIj1qpvE8","colab":{"base_uri":"https://localhost:8080/","height":221}},"source":["df[df[\"id\"]==\"f9ad33b317728440d5ed10efce23ccfbb81e9c70\"][\"keywords\"]"],"execution_count":77,"outputs":[{"output_type":"execute_result","data":{"text/plain":["25        Tour de ski,Meråker,Martin Johnsrud Sundby\n","51        Tour de ski,Meråker,Martin Johnsrud Sundby\n","78        Tour de ski,Meråker,Martin Johnsrud Sundby\n","122       Tour de ski,Meråker,Martin Johnsrud Sundby\n","156       Tour de ski,Meråker,Martin Johnsrud Sundby\n","                             ...                    \n","252889    Tour de ski,Meråker,Martin Johnsrud Sundby\n","252897    Tour de ski,Meråker,Martin Johnsrud Sundby\n","252925    Tour de ski,Meråker,Martin Johnsrud Sundby\n","252973    Tour de ski,Meråker,Martin Johnsrud Sundby\n","252981    Tour de ski,Meråker,Martin Johnsrud Sundby\n","Name: keywords, Length: 10397, dtype: object"]},"metadata":{"tags":[]},"execution_count":77}]},{"cell_type":"code","metadata":{"id":"P7YRQQJUp_u6","colab_type":"code","colab":{}},"source":["categories=df[\"category1\"].unique()\n","d={}\n","for i in range(len(categories)):\n","    category=categories[i]\n","    d[category]=i\n","df[\"categoryId\"]=df[\"category1\"].map(d)"],"execution_count":0,"outputs":[]},{"cell_type":"code","metadata":{"id":"TBFIBMpaqJoQ","colab_type":"code","outputId":"49abf88c-04da-42d7-f372-09e1d870ddc5","executionInfo":{"status":"ok","timestamp":1575760210992,"user_tz":300,"elapsed":2022,"user":{"displayName":"Haoxue Li","photoUrl":"","userId":"02132541566044588005"}},"colab":{"base_uri":"https://localhost:8080/","height":221}},"source":["#data=df[[\"sessionNo\",\"category_num\",\"time\"]].rename(columns={\"sessionNo\":\"session_key\",\"category_num\": \"item_key\", \"time\":\"time_key\"})\n","data_2=df[[\"sessionNo\",\"categoryId\",\"time\",\"city\",\"region\",\"deviceType\"]].rename(columns={\"sessionNo\":\"session_key\",\"categoryId\": \"item_key\", \"time\":\"time_key\"})\n","print(\"The length of data with category as itemid: \",len(data_2))\n","data_2.head()"],"execution_count":33,"outputs":[{"output_type":"stream","text":["The length of data with category as itemid:  252990\n"],"name":"stdout"},{"output_type":"execute_result","data":{"text/html":["<div>\n","<style scoped>\n","    .dataframe tbody tr th:only-of-type {\n","        vertical-align: middle;\n","    }\n","\n","    .dataframe tbody tr th {\n","        vertical-align: top;\n","    }\n","\n","    .dataframe thead th {\n","        text-align: right;\n","    }\n","</style>\n","<table border=\"1\" class=\"dataframe\">\n","  <thead>\n","    <tr style=\"text-align: right;\">\n","      <th></th>\n","      <th>session_key</th>\n","      <th>item_key</th>\n","      <th>time_key</th>\n","      <th>city</th>\n","      <th>region</th>\n","      <th>deviceType</th>\n","    </tr>\n","  </thead>\n","  <tbody>\n","    <tr>\n","      <th>0</th>\n","      <td>1</td>\n","      <td>0</td>\n","      <td>1483305738</td>\n","      <td>oslo</td>\n","      <td>oslo</td>\n","      <td>Desktop</td>\n","    </tr>\n","    <tr>\n","      <th>1</th>\n","      <td>2</td>\n","      <td>0</td>\n","      <td>1483260265</td>\n","      <td>brumunddal</td>\n","      <td>hedmark</td>\n","      <td>Desktop</td>\n","    </tr>\n","    <tr>\n","      <th>2</th>\n","      <td>3</td>\n","      <td>1</td>\n","      <td>1483271454</td>\n","      <td>brumunddal</td>\n","      <td>hedmark</td>\n","      <td>Desktop</td>\n","    </tr>\n","    <tr>\n","      <th>3</th>\n","      <td>4</td>\n","      <td>0</td>\n","      <td>1483302497</td>\n","      <td>brumunddal</td>\n","      <td>hedmark</td>\n","      <td>Desktop</td>\n","    </tr>\n","    <tr>\n","      <th>4</th>\n","      <td>6</td>\n","      <td>0</td>\n","      <td>1483309277</td>\n","      <td>trondheim</td>\n","      <td>sor-trondelag</td>\n","      <td>Tablet</td>\n","    </tr>\n","  </tbody>\n","</table>\n","</div>"],"text/plain":["   session_key  item_key    time_key        city         region deviceType\n","0            1         0  1483305738        oslo           oslo    Desktop\n","1            2         0  1483260265  brumunddal        hedmark    Desktop\n","2            3         1  1483271454  brumunddal        hedmark    Desktop\n","3            4         0  1483302497  brumunddal        hedmark    Desktop\n","4            6         0  1483309277   trondheim  sor-trondelag     Tablet"]},"metadata":{"tags":[]},"execution_count":33}]},{"cell_type":"markdown","metadata":{"id":"OM1dBZqf1HQx","colab_type":"text"},"source":["## DeviceType"]},{"cell_type":"code","metadata":{"id":"Swi7z9gC1HQx","colab_type":"code","outputId":"bd6d9f5b-b836-4874-e582-f5de28ac460b","executionInfo":{"status":"ok","timestamp":1575593412777,"user_tz":300,"elapsed":1240,"user":{"displayName":"Haoxue Li","photoUrl":"","userId":"02132541566044588005"}},"colab":{"base_uri":"https://localhost:8080/","height":265}},"source":["import matplotlib.pyplot as plt\n","%matplotlib inline\n","plt.style.use(\"ggplot\")\n","fig=plt.hist(data_1[\"deviceType\"])"],"execution_count":0,"outputs":[{"output_type":"display_data","data":{"image/png":"iVBORw0KGgoAAAANSUhEUgAAAYsAAAD4CAYAAAAdIcpQAAAABHNCSVQICAgIfAhkiAAAAAlwSFlz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\n","text/plain":["<Figure size 432x288 with 1 Axes>"]},"metadata":{"tags":[]}}]},{"cell_type":"code","metadata":{"id":"j6bi8nS81HQ1","colab_type":"code","outputId":"e147e451-d218-432e-c49e-e08918c02e5c","executionInfo":{"status":"ok","timestamp":1575593419220,"user_tz":300,"elapsed":5289,"user":{"displayName":"Haoxue Li","photoUrl":"","userId":"02132541566044588005"}},"colab":{"base_uri":"https://localhost:8080/","height":204}},"source":["t=pd.get_dummies(data_1[\"deviceType\"])\n","device_data=data_1.join(t)\n","device_data.to_csv(path+\"day_one_article_only_device.csv\")\n","device_data.head()"],"execution_count":0,"outputs":[{"output_type":"execute_result","data":{"text/html":["<div>\n","<style scoped>\n","    .dataframe tbody tr th:only-of-type {\n","        vertical-align: middle;\n","    }\n","\n","    .dataframe tbody tr th {\n","        vertical-align: top;\n","    }\n","\n","    .dataframe thead th {\n","        text-align: right;\n","    }\n","</style>\n","<table border=\"1\" class=\"dataframe\">\n","  <thead>\n","    <tr style=\"text-align: right;\">\n","      <th></th>\n","      <th>session_key</th>\n","      <th>item_key</th>\n","      <th>time_key</th>\n","      <th>city</th>\n","      <th>region</th>\n","      <th>deviceType</th>\n","      <th>Desktop</th>\n","      <th>Mobile</th>\n","      <th>Tablet</th>\n","    </tr>\n","  </thead>\n","  <tbody>\n","    <tr>\n","      <th>0</th>\n","      <td>1</td>\n","      <td>0</td>\n","      <td>1483305738</td>\n","      <td>oslo</td>\n","      <td>oslo</td>\n","      <td>Desktop</td>\n","      <td>1</td>\n","      <td>0</td>\n","      <td>0</td>\n","    </tr>\n","    <tr>\n","      <th>1</th>\n","      <td>2</td>\n","      <td>1</td>\n","      <td>1483260265</td>\n","      <td>brumunddal</td>\n","      <td>hedmark</td>\n","      <td>Desktop</td>\n","      <td>1</td>\n","      <td>0</td>\n","      <td>0</td>\n","    </tr>\n","    <tr>\n","      <th>2</th>\n","      <td>3</td>\n","      <td>2</td>\n","      <td>1483271454</td>\n","      <td>brumunddal</td>\n","      <td>hedmark</td>\n","      <td>Desktop</td>\n","      <td>1</td>\n","      <td>0</td>\n","      <td>0</td>\n","    </tr>\n","    <tr>\n","      <th>3</th>\n","      <td>4</td>\n","      <td>0</td>\n","      <td>1483302497</td>\n","      <td>brumunddal</td>\n","      <td>hedmark</td>\n","      <td>Desktop</td>\n","      <td>1</td>\n","      <td>0</td>\n","      <td>0</td>\n","    </tr>\n","    <tr>\n","      <th>4</th>\n","      <td>6</td>\n","      <td>0</td>\n","      <td>1483309277</td>\n","      <td>trondheim</td>\n","      <td>sor-trondelag</td>\n","      <td>Tablet</td>\n","      <td>0</td>\n","      <td>0</td>\n","      <td>1</td>\n","    </tr>\n","  </tbody>\n","</table>\n","</div>"],"text/plain":["   session_key  item_key    time_key  ... Desktop Mobile Tablet\n","0            1         0  1483305738  ...       1      0      0\n","1            2         1  1483260265  ...       1      0      0\n","2            3         2  1483271454  ...       1      0      0\n","3            4         0  1483302497  ...       1      0      0\n","4            6         0  1483309277  ...       0      0      1\n","\n","[5 rows x 9 columns]"]},"metadata":{"tags":[]},"execution_count":12}]},{"cell_type":"code","metadata":{"id":"Pz6n943E1HQ8","colab_type":"code","outputId":"26207bc9-9132-436a-af7c-0d8efb4b3e64","executionInfo":{"status":"ok","timestamp":1575593423931,"user_tz":300,"elapsed":4661,"user":{"displayName":"Haoxue Li","photoUrl":"","userId":"02132541566044588005"}},"colab":{"base_uri":"https://localhost:8080/","height":204}},"source":["t=pd.get_dummies(data_2[\"deviceType\"])\n","device_data=data_2.join(t)\n","device_data.to_csv(path+\"day_one_category_only_device.csv\")\n","device_data.head()"],"execution_count":0,"outputs":[{"output_type":"execute_result","data":{"text/html":["<div>\n","<style scoped>\n","    .dataframe tbody tr th:only-of-type {\n","        vertical-align: middle;\n","    }\n","\n","    .dataframe tbody tr th {\n","        vertical-align: top;\n","    }\n","\n","    .dataframe thead th {\n","        text-align: right;\n","    }\n","</style>\n","<table border=\"1\" class=\"dataframe\">\n","  <thead>\n","    <tr style=\"text-align: right;\">\n","      <th></th>\n","      <th>session_key</th>\n","      <th>item_key</th>\n","      <th>time_key</th>\n","      <th>city</th>\n","      <th>region</th>\n","      <th>deviceType</th>\n","      <th>Desktop</th>\n","      <th>Mobile</th>\n","      <th>Tablet</th>\n","    </tr>\n","  </thead>\n","  <tbody>\n","    <tr>\n","      <th>0</th>\n","      <td>1</td>\n","      <td>0</td>\n","      <td>1483305738</td>\n","      <td>oslo</td>\n","      <td>oslo</td>\n","      <td>Desktop</td>\n","      <td>1</td>\n","      <td>0</td>\n","      <td>0</td>\n","    </tr>\n","    <tr>\n","      <th>1</th>\n","      <td>2</td>\n","      <td>0</td>\n","      <td>1483260265</td>\n","      <td>brumunddal</td>\n","      <td>hedmark</td>\n","      <td>Desktop</td>\n","      <td>1</td>\n","      <td>0</td>\n","      <td>0</td>\n","    </tr>\n","    <tr>\n","      <th>2</th>\n","      <td>3</td>\n","      <td>1</td>\n","      <td>1483271454</td>\n","      <td>brumunddal</td>\n","      <td>hedmark</td>\n","      <td>Desktop</td>\n","      <td>1</td>\n","      <td>0</td>\n","      <td>0</td>\n","    </tr>\n","    <tr>\n","      <th>3</th>\n","      <td>4</td>\n","      <td>0</td>\n","      <td>1483302497</td>\n","      <td>brumunddal</td>\n","      <td>hedmark</td>\n","      <td>Desktop</td>\n","      <td>1</td>\n","      <td>0</td>\n","      <td>0</td>\n","    </tr>\n","    <tr>\n","      <th>4</th>\n","      <td>6</td>\n","      <td>0</td>\n","      <td>1483309277</td>\n","      <td>trondheim</td>\n","      <td>sor-trondelag</td>\n","      <td>Tablet</td>\n","      <td>0</td>\n","      <td>0</td>\n","      <td>1</td>\n","    </tr>\n","  </tbody>\n","</table>\n","</div>"],"text/plain":["   session_key  item_key    time_key  ... Desktop Mobile Tablet\n","0            1         0  1483305738  ...       1      0      0\n","1            2         0  1483260265  ...       1      0      0\n","2            3         1  1483271454  ...       1      0      0\n","3            4         0  1483302497  ...       1      0      0\n","4            6         0  1483309277  ...       0      0      1\n","\n","[5 rows x 9 columns]"]},"metadata":{"tags":[]},"execution_count":13}]},{"cell_type":"markdown","metadata":{"id":"202HqoPn1HRC","colab_type":"text"},"source":["## Regions"]},{"cell_type":"code","metadata":{"id":"529fNh3_A9Xy","colab_type":"code","outputId":"2411fe9a-85ae-4a11-b614-72999fb6f76a","executionInfo":{"status":"ok","timestamp":1575726066094,"user_tz":300,"elapsed":367,"user":{"displayName":"Haoxue Li","photoUrl":"","userId":"02132541566044588005"}},"colab":{"base_uri":"https://localhost:8080/","height":170}},"source":["k=data_1.groupby(\"region\")[\"session_key\"].count()\n","k.describe()"],"execution_count":0,"outputs":[{"output_type":"execute_result","data":{"text/plain":["count       666.000000\n","mean       1897.102102\n","std       30195.367486\n","min           1.000000\n","25%           3.000000\n","50%           9.000000\n","75%          31.000000\n","max      744327.000000\n","Name: session_key, dtype: float64"]},"metadata":{"tags":[]},"execution_count":11}]},{"cell_type":"code","metadata":{"collapsed":true,"jupyter":{"outputs_hidden":true},"id":"FiSqhUOQ1HRD","colab_type":"code","outputId":"ba414425-d4ac-41d5-d779-c291c7501fa1","executionInfo":{"status":"ok","timestamp":1575593938247,"user_tz":300,"elapsed":516562,"user":{"displayName":"Haoxue Li","photoUrl":"","userId":"02132541566044588005"}},"colab":{"base_uri":"https://localhost:8080/","height":51}},"source":["from geopy.geocoders import Nominatim\n","from tqdm import tqdm\n","geolocator = Nominatim(user_agent=\"specify_your_app_name_here\")\n","d={}\n","k=data_1[\"region\"].unique()\n","for i in tqdm(range(len(k))):\n","    try:\n","      location = geolocator.geocode(i)\n","      if not location:\n","          d[k[i]]=(0,0)\n","      else:\n","          d[k[i]]=(location.latitude, location.longitude)\n","    except:\n","      print(111)\n","      d[k[i]]=(0,0)"],"execution_count":0,"outputs":[{"output_type":"stream","text":["  3%|▎         | 19/667 [00:14<06:35,  1.64it/s]"],"name":"stderr"},{"output_type":"stream","text":["111\n"],"name":"stdout"},{"output_type":"stream","text":[" 40%|████      | 268/667 [02:20<03:05,  2.15it/s]"],"name":"stderr"}]},{"cell_type":"code","metadata":{"id":"GA-WXI2Gsftu","colab_type":"code","colab":{}},"source":["l=[[],[]]\n","for v,k in zip(d.values(),d.keys()):\n","  if d[k]!=(0,0):\n","    l[0].append(d[k][0])\n","    l[1].append(d[k][1])\n","mean=(sum(l[0])/len(l[0]),sum(l[1])/len(l[1]))\n","for v,k in zip(d.values(),d.keys()):\n","  if d[k]==(0,0):\n","    d[k]=mean"],"execution_count":0,"outputs":[]},{"cell_type":"code","metadata":{"jupyter":{"outputs_hidden":true},"id":"AX5wcm6X1HRG","colab_type":"code","outputId":"0a8c40d4-28e9-4977-9f59-9d7c2db91651","executionInfo":{"status":"ok","timestamp":1575593943063,"user_tz":300,"elapsed":505210,"user":{"displayName":"Haoxue Li","photoUrl":"","userId":"02132541566044588005"}},"colab":{"base_uri":"https://localhost:8080/","height":204}},"source":["tmp=data_1[\"region\"].map(d)\n","region_data=data_1\n","region_data[\"lat\"]=tmp.apply(lambda x:x[0])\n","region_data[\"long\"]=tmp.apply(lambda x:x[1])\n","region_data.to_csv(path+\"day_one_article_only_region.csv\")\n","region_data.head()"],"execution_count":0,"outputs":[{"output_type":"execute_result","data":{"text/html":["<div>\n","<style scoped>\n","    .dataframe tbody tr th:only-of-type {\n","        vertical-align: middle;\n","    }\n","\n","    .dataframe tbody tr th {\n","        vertical-align: top;\n","    }\n","\n","    .dataframe thead th {\n","        text-align: right;\n","    }\n","</style>\n","<table border=\"1\" class=\"dataframe\">\n","  <thead>\n","    <tr style=\"text-align: right;\">\n","      <th></th>\n","      <th>session_key</th>\n","      <th>item_key</th>\n","      <th>time_key</th>\n","      <th>city</th>\n","      <th>region</th>\n","      <th>deviceType</th>\n","      <th>lat</th>\n","      <th>long</th>\n","    </tr>\n","  </thead>\n","  <tbody>\n","    <tr>\n","      <th>0</th>\n","      <td>1</td>\n","      <td>0</td>\n","      <td>1483305738</td>\n","      <td>oslo</td>\n","      <td>oslo</td>\n","      <td>Desktop</td>\n","      <td>47.226057</td>\n","      <td>28.307166</td>\n","    </tr>\n","    <tr>\n","      <th>1</th>\n","      <td>2</td>\n","      <td>1</td>\n","      <td>1483260265</td>\n","      <td>brumunddal</td>\n","      <td>hedmark</td>\n","      <td>Desktop</td>\n","      <td>22.351115</td>\n","      <td>78.667743</td>\n","    </tr>\n","    <tr>\n","      <th>2</th>\n","      <td>3</td>\n","      <td>2</td>\n","      <td>1483271454</td>\n","      <td>brumunddal</td>\n","      <td>hedmark</td>\n","      <td>Desktop</td>\n","      <td>22.351115</td>\n","      <td>78.667743</td>\n","    </tr>\n","    <tr>\n","      <th>3</th>\n","      <td>4</td>\n","      <td>0</td>\n","      <td>1483302497</td>\n","      <td>brumunddal</td>\n","      <td>hedmark</td>\n","      <td>Desktop</td>\n","      <td>22.351115</td>\n","      <td>78.667743</td>\n","    </tr>\n","    <tr>\n","      <th>4</th>\n","      <td>6</td>\n","      <td>0</td>\n","      <td>1483309277</td>\n","      <td>trondheim</td>\n","      <td>sor-trondelag</td>\n","      <td>Tablet</td>\n","      <td>34.563019</td>\n","      <td>133.685164</td>\n","    </tr>\n","  </tbody>\n","</table>\n","</div>"],"text/plain":["   session_key  item_key    time_key  ... deviceType        lat        long\n","0            1         0  1483305738  ...    Desktop  47.226057   28.307166\n","1            2         1  1483260265  ...    Desktop  22.351115   78.667743\n","2            3         2  1483271454  ...    Desktop  22.351115   78.667743\n","3            4         0  1483302497  ...    Desktop  22.351115   78.667743\n","4            6         0  1483309277  ...     Tablet  34.563019  133.685164\n","\n","[5 rows x 8 columns]"]},"metadata":{"tags":[]},"execution_count":16}]},{"cell_type":"code","metadata":{"id":"aVvsZpoK1HRU","colab_type":"code","outputId":"54309242-623a-4b1e-bf64-97438c09cee2","executionInfo":{"status":"ok","timestamp":1575593947575,"user_tz":300,"elapsed":508225,"user":{"displayName":"Haoxue Li","photoUrl":"","userId":"02132541566044588005"}},"colab":{"base_uri":"https://localhost:8080/","height":204}},"source":["tmp=data_2[\"region\"].map(d)\n","region_data=data_2\n","region_data[\"lat\"]=tmp.apply(lambda x:x[0])\n","region_data[\"long\"]=tmp.apply(lambda x:x[1])\n","region_data.to_csv(path+\"day_one_category_only_region.csv\")\n","region_data.head()"],"execution_count":0,"outputs":[{"output_type":"execute_result","data":{"text/html":["<div>\n","<style scoped>\n","    .dataframe tbody tr th:only-of-type {\n","        vertical-align: middle;\n","    }\n","\n","    .dataframe tbody tr th {\n","        vertical-align: top;\n","    }\n","\n","    .dataframe thead th {\n","        text-align: right;\n","    }\n","</style>\n","<table border=\"1\" class=\"dataframe\">\n","  <thead>\n","    <tr style=\"text-align: right;\">\n","      <th></th>\n","      <th>session_key</th>\n","      <th>item_key</th>\n","      <th>time_key</th>\n","      <th>city</th>\n","      <th>region</th>\n","      <th>deviceType</th>\n","      <th>lat</th>\n","      <th>long</th>\n","    </tr>\n","  </thead>\n","  <tbody>\n","    <tr>\n","      <th>0</th>\n","      <td>1</td>\n","      <td>0</td>\n","      <td>1483305738</td>\n","      <td>oslo</td>\n","      <td>oslo</td>\n","      <td>Desktop</td>\n","      <td>47.226057</td>\n","      <td>28.307166</td>\n","    </tr>\n","    <tr>\n","      <th>1</th>\n","      <td>2</td>\n","      <td>0</td>\n","      <td>1483260265</td>\n","      <td>brumunddal</td>\n","      <td>hedmark</td>\n","      <td>Desktop</td>\n","      <td>22.351115</td>\n","      <td>78.667743</td>\n","    </tr>\n","    <tr>\n","      <th>2</th>\n","      <td>3</td>\n","      <td>1</td>\n","      <td>1483271454</td>\n","      <td>brumunddal</td>\n","      <td>hedmark</td>\n","      <td>Desktop</td>\n","      <td>22.351115</td>\n","      <td>78.667743</td>\n","    </tr>\n","    <tr>\n","      <th>3</th>\n","      <td>4</td>\n","      <td>0</td>\n","      <td>1483302497</td>\n","      <td>brumunddal</td>\n","      <td>hedmark</td>\n","      <td>Desktop</td>\n","      <td>22.351115</td>\n","      <td>78.667743</td>\n","    </tr>\n","    <tr>\n","      <th>4</th>\n","      <td>6</td>\n","      <td>0</td>\n","      <td>1483309277</td>\n","      <td>trondheim</td>\n","      <td>sor-trondelag</td>\n","      <td>Tablet</td>\n","      <td>34.563019</td>\n","      <td>133.685164</td>\n","    </tr>\n","  </tbody>\n","</table>\n","</div>"],"text/plain":["   session_key  item_key    time_key  ... deviceType        lat        long\n","0            1         0  1483305738  ...    Desktop  47.226057   28.307166\n","1            2         0  1483260265  ...    Desktop  22.351115   78.667743\n","2            3         1  1483271454  ...    Desktop  22.351115   78.667743\n","3            4         0  1483302497  ...    Desktop  22.351115   78.667743\n","4            6         0  1483309277  ...     Tablet  34.563019  133.685164\n","\n","[5 rows x 8 columns]"]},"metadata":{"tags":[]},"execution_count":17}]},{"cell_type":"markdown","metadata":{"id":"QJ43p97k4tXj","colab_type":"text"},"source":["## Combine"]},{"cell_type":"code","metadata":{"id":"0IiRwHwP4uom","colab_type":"code","outputId":"0a4abc1b-8f22-453a-e991-7d3e633b4fda","executionInfo":{"status":"ok","timestamp":1575593947811,"user_tz":300,"elapsed":507066,"user":{"displayName":"Haoxue Li","photoUrl":"","userId":"02132541566044588005"}},"colab":{"base_uri":"https://localhost:8080/","height":289}},"source":["region=pd.read_csv(path+\"day_one_article_only_region.csv\")\n","device=pd.read_csv(path+\"day_one_article_only_device.csv\")\n","region.head(),device.head()"],"execution_count":0,"outputs":[{"output_type":"execute_result","data":{"text/plain":["(   Unnamed: 0  session_key  item_key  ...  deviceType        lat        long\n"," 0           0            1         0  ...     Desktop  47.226057   28.307166\n"," 1           1            2         1  ...     Desktop  22.351115   78.667743\n"," 2           2            3         2  ...     Desktop  22.351115   78.667743\n"," 3           3            4         0  ...     Desktop  22.351115   78.667743\n"," 4           4            6         0  ...      Tablet  34.563019  133.685164\n"," \n"," [5 rows x 9 columns],\n","    Unnamed: 0  session_key  item_key  ...  Desktop Mobile Tablet\n"," 0           0            1         0  ...        1      0      0\n"," 1           1            2         1  ...        1      0      0\n"," 2           2            3         2  ...        1      0      0\n"," 3           3            4         0  ...        1      0      0\n"," 4           4            6         0  ...        0      0      1\n"," \n"," [5 rows x 10 columns])"]},"metadata":{"tags":[]},"execution_count":18}]},{"cell_type":"code","metadata":{"id":"yB1nKdIg61-k","colab_type":"code","outputId":"a3e6cc68-e558-4846-f8ad-f9239052db3e","executionInfo":{"status":"ok","timestamp":1575593954154,"user_tz":300,"elapsed":512232,"user":{"displayName":"Haoxue Li","photoUrl":"","userId":"02132541566044588005"}},"colab":{"base_uri":"https://localhost:8080/","height":204}},"source":["device=device[[\"Desktop\",\"Mobile\",\"Tablet\"]]\n","combine=region.join(device)\n","combine.to_csv(path+\"day_one_article_region_device.csv\")\n","combine.head()"],"execution_count":0,"outputs":[{"output_type":"execute_result","data":{"text/html":["<div>\n","<style scoped>\n","    .dataframe tbody tr th:only-of-type {\n","        vertical-align: middle;\n","    }\n","\n","    .dataframe tbody tr th {\n","        vertical-align: top;\n","    }\n","\n","    .dataframe thead th {\n","        text-align: right;\n","    }\n","</style>\n","<table border=\"1\" class=\"dataframe\">\n","  <thead>\n","    <tr style=\"text-align: right;\">\n","      <th></th>\n","      <th>Unnamed: 0</th>\n","      <th>session_key</th>\n","      <th>item_key</th>\n","      <th>time_key</th>\n","      <th>city</th>\n","      <th>region</th>\n","      <th>deviceType</th>\n","      <th>lat</th>\n","      <th>long</th>\n","      <th>Desktop</th>\n","      <th>Mobile</th>\n","      <th>Tablet</th>\n","    </tr>\n","  </thead>\n","  <tbody>\n","    <tr>\n","      <th>0</th>\n","      <td>0</td>\n","      <td>1</td>\n","      <td>0</td>\n","      <td>1483305738</td>\n","      <td>oslo</td>\n","      <td>oslo</td>\n","      <td>Desktop</td>\n","      <td>47.226057</td>\n","      <td>28.307166</td>\n","      <td>1</td>\n","      <td>0</td>\n","      <td>0</td>\n","    </tr>\n","    <tr>\n","      <th>1</th>\n","      <td>1</td>\n","      <td>2</td>\n","      <td>1</td>\n","      <td>1483260265</td>\n","      <td>brumunddal</td>\n","      <td>hedmark</td>\n","      <td>Desktop</td>\n","      <td>22.351115</td>\n","      <td>78.667743</td>\n","      <td>1</td>\n","      <td>0</td>\n","      <td>0</td>\n","    </tr>\n","    <tr>\n","      <th>2</th>\n","      <td>2</td>\n","      <td>3</td>\n","      <td>2</td>\n","      <td>1483271454</td>\n","      <td>brumunddal</td>\n","      <td>hedmark</td>\n","      <td>Desktop</td>\n","      <td>22.351115</td>\n","      <td>78.667743</td>\n","      <td>1</td>\n","      <td>0</td>\n","      <td>0</td>\n","    </tr>\n","    <tr>\n","      <th>3</th>\n","      <td>3</td>\n","      <td>4</td>\n","      <td>0</td>\n","      <td>1483302497</td>\n","      <td>brumunddal</td>\n","      <td>hedmark</td>\n","      <td>Desktop</td>\n","      <td>22.351115</td>\n","      <td>78.667743</td>\n","      <td>1</td>\n","      <td>0</td>\n","      <td>0</td>\n","    </tr>\n","    <tr>\n","      <th>4</th>\n","      <td>4</td>\n","      <td>6</td>\n","      <td>0</td>\n","      <td>1483309277</td>\n","      <td>trondheim</td>\n","      <td>sor-trondelag</td>\n","      <td>Tablet</td>\n","      <td>34.563019</td>\n","      <td>133.685164</td>\n","      <td>0</td>\n","      <td>0</td>\n","      <td>1</td>\n","    </tr>\n","  </tbody>\n","</table>\n","</div>"],"text/plain":["   Unnamed: 0  session_key  item_key  ...  Desktop Mobile Tablet\n","0           0            1         0  ...        1      0      0\n","1           1            2         1  ...        1      0      0\n","2           2            3         2  ...        1      0      0\n","3           3            4         0  ...        1      0      0\n","4           4            6         0  ...        0      0      1\n","\n","[5 rows x 12 columns]"]},"metadata":{"tags":[]},"execution_count":19}]},{"cell_type":"code","metadata":{"id":"v1rnAMBY5S_X","colab_type":"code","outputId":"71d93db7-f34e-442d-b345-bc4b5e6d5257","executionInfo":{"status":"ok","timestamp":1575593954839,"user_tz":300,"elapsed":511655,"user":{"displayName":"Haoxue Li","photoUrl":"","userId":"02132541566044588005"}},"colab":{"base_uri":"https://localhost:8080/","height":289}},"source":["region=pd.read_csv(path+\"day_one_category_only_region.csv\")\n","device=pd.read_csv(path+\"day_one_category_only_device.csv\")\n","region.head(),device.head()"],"execution_count":0,"outputs":[{"output_type":"execute_result","data":{"text/plain":["(   Unnamed: 0  session_key  item_key  ...  deviceType        lat        long\n"," 0           0            1         0  ...     Desktop  47.226057   28.307166\n"," 1           1            2         0  ...     Desktop  22.351115   78.667743\n"," 2           2            3         1  ...     Desktop  22.351115   78.667743\n"," 3           3            4         0  ...     Desktop  22.351115   78.667743\n"," 4           4            6         0  ...      Tablet  34.563019  133.685164\n"," \n"," [5 rows x 9 columns],\n","    Unnamed: 0  session_key  item_key  ...  Desktop Mobile Tablet\n"," 0           0            1         0  ...        1      0      0\n"," 1           1            2         0  ...        1      0      0\n"," 2           2            3         1  ...        1      0      0\n"," 3           3            4         0  ...        1      0      0\n"," 4           4            6         0  ...        0      0      1\n"," \n"," [5 rows x 10 columns])"]},"metadata":{"tags":[]},"execution_count":20}]},{"cell_type":"code","metadata":{"id":"Nyp1SQEz7Q6f","colab_type":"code","outputId":"bc378c58-2364-4824-bb6e-c3df14a6b75b","executionInfo":{"status":"ok","timestamp":1575593960630,"user_tz":300,"elapsed":516013,"user":{"displayName":"Haoxue Li","photoUrl":"","userId":"02132541566044588005"}},"colab":{"base_uri":"https://localhost:8080/","height":204}},"source":["device=device[[\"Desktop\",\"Mobile\",\"Tablet\"]]\n","combine=region.join(device)\n","combine.to_csv(path+\"day_one_category_region_device.csv\")\n","combine.head()"],"execution_count":0,"outputs":[{"output_type":"execute_result","data":{"text/html":["<div>\n","<style scoped>\n","    .dataframe tbody tr th:only-of-type {\n","        vertical-align: middle;\n","    }\n","\n","    .dataframe tbody tr th {\n","        vertical-align: top;\n","    }\n","\n","    .dataframe thead th {\n","        text-align: right;\n","    }\n","</style>\n","<table border=\"1\" class=\"dataframe\">\n","  <thead>\n","    <tr style=\"text-align: right;\">\n","      <th></th>\n","      <th>Unnamed: 0</th>\n","      <th>session_key</th>\n","      <th>item_key</th>\n","      <th>time_key</th>\n","      <th>city</th>\n","      <th>region</th>\n","      <th>deviceType</th>\n","      <th>lat</th>\n","      <th>long</th>\n","      <th>Desktop</th>\n","      <th>Mobile</th>\n","      <th>Tablet</th>\n","    </tr>\n","  </thead>\n","  <tbody>\n","    <tr>\n","      <th>0</th>\n","      <td>0</td>\n","      <td>1</td>\n","      <td>0</td>\n","      <td>1483305738</td>\n","      <td>oslo</td>\n","      <td>oslo</td>\n","      <td>Desktop</td>\n","      <td>47.226057</td>\n","      <td>28.307166</td>\n","      <td>1</td>\n","      <td>0</td>\n","      <td>0</td>\n","    </tr>\n","    <tr>\n","      <th>1</th>\n","      <td>1</td>\n","      <td>2</td>\n","      <td>0</td>\n","      <td>1483260265</td>\n","      <td>brumunddal</td>\n","      <td>hedmark</td>\n","      <td>Desktop</td>\n","      <td>22.351115</td>\n","      <td>78.667743</td>\n","      <td>1</td>\n","      <td>0</td>\n","      <td>0</td>\n","    </tr>\n","    <tr>\n","      <th>2</th>\n","      <td>2</td>\n","      <td>3</td>\n","      <td>1</td>\n","      <td>1483271454</td>\n","      <td>brumunddal</td>\n","      <td>hedmark</td>\n","      <td>Desktop</td>\n","      <td>22.351115</td>\n","      <td>78.667743</td>\n","      <td>1</td>\n","      <td>0</td>\n","      <td>0</td>\n","    </tr>\n","    <tr>\n","      <th>3</th>\n","      <td>3</td>\n","      <td>4</td>\n","      <td>0</td>\n","      <td>1483302497</td>\n","      <td>brumunddal</td>\n","      <td>hedmark</td>\n","      <td>Desktop</td>\n","      <td>22.351115</td>\n","      <td>78.667743</td>\n","      <td>1</td>\n","      <td>0</td>\n","      <td>0</td>\n","    </tr>\n","    <tr>\n","      <th>4</th>\n","      <td>4</td>\n","      <td>6</td>\n","      <td>0</td>\n","      <td>1483309277</td>\n","      <td>trondheim</td>\n","      <td>sor-trondelag</td>\n","      <td>Tablet</td>\n","      <td>34.563019</td>\n","      <td>133.685164</td>\n","      <td>0</td>\n","      <td>0</td>\n","      <td>1</td>\n","    </tr>\n","  </tbody>\n","</table>\n","</div>"],"text/plain":["   Unnamed: 0  session_key  item_key  ...  Desktop Mobile Tablet\n","0           0            1         0  ...        1      0      0\n","1           1            2         0  ...        1      0      0\n","2           2            3         1  ...        1      0      0\n","3           3            4         0  ...        1      0      0\n","4           4            6         0  ...        0      0      1\n","\n","[5 rows x 12 columns]"]},"metadata":{"tags":[]},"execution_count":21}]}]}
>>>>>>> 46f0531f7d36e1e9b8f4e1e2dadd8f730e84b367
